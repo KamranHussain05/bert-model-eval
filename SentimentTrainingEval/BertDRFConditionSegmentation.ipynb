{
 "cells": [
  {
   "cell_type": "markdown",
   "metadata": {
    "id": "x2wF0bMrdpJO"
   },
   "source": [
    "# BERT Weather Condition Custom Training and Sentiment Analysis Evaluation"
   ]
  },
  {
   "cell_type": "markdown",
   "metadata": {
    "id": "jjPtK9A-dpJW"
   },
   "source": [
    "Import the necessary libraries and packages. Pandas for the dataframe and in-memory data management. Numpy for linear algebra, wordcloud and matplotlib for visualization."
   ]
  },
  {
   "cell_type": "code",
   "execution_count": 6,
   "metadata": {},
   "outputs": [
    {
     "name": "stdout",
     "output_type": "stream",
     "text": [
      "Requirement already satisfied: seaborn in c:\\users\\kamran\\appdata\\local\\programs\\python\\python38\\lib\\site-packages (0.11.2)\n",
      "Requirement already satisfied: matplotlib>=2.2 in c:\\users\\kamran\\appdata\\local\\programs\\python\\python38\\lib\\site-packages (from seaborn) (3.3.4)\n",
      "Requirement already satisfied: pandas>=0.23 in c:\\users\\kamran\\appdata\\local\\programs\\python\\python38\\lib\\site-packages (from seaborn) (1.3.4)\n",
      "Requirement already satisfied: numpy>=1.15 in c:\\users\\kamran\\appdata\\local\\programs\\python\\python38\\lib\\site-packages (from seaborn) (1.20.1)\n",
      "Requirement already satisfied: scipy>=1.0 in c:\\users\\kamran\\appdata\\local\\programs\\python\\python38\\lib\\site-packages (from seaborn) (1.8.0)\n",
      "Requirement already satisfied: pyparsing!=2.0.4,!=2.1.2,!=2.1.6,>=2.0.3 in c:\\users\\kamran\\appdata\\local\\programs\\python\\python38\\lib\\site-packages (from matplotlib>=2.2->seaborn) (2.4.7)\n",
      "Requirement already satisfied: pillow>=6.2.0 in c:\\users\\kamran\\appdata\\local\\programs\\python\\python38\\lib\\site-packages (from matplotlib>=2.2->seaborn) (8.1.2)\n",
      "Requirement already satisfied: kiwisolver>=1.0.1 in c:\\users\\kamran\\appdata\\local\\programs\\python\\python38\\lib\\site-packages (from matplotlib>=2.2->seaborn) (1.3.1)\n",
      "Requirement already satisfied: python-dateutil>=2.1 in c:\\users\\kamran\\appdata\\local\\programs\\python\\python38\\lib\\site-packages (from matplotlib>=2.2->seaborn) (2.8.1)\n",
      "Requirement already satisfied: cycler>=0.10 in c:\\users\\kamran\\appdata\\local\\programs\\python\\python38\\lib\\site-packages (from matplotlib>=2.2->seaborn) (0.10.0)\n",
      "Requirement already satisfied: pytz>=2017.3 in c:\\users\\kamran\\appdata\\local\\programs\\python\\python38\\lib\\site-packages (from pandas>=0.23->seaborn) (2021.3)\n",
      "Requirement already satisfied: six in c:\\users\\kamran\\appdata\\local\\programs\\python\\python38\\lib\\site-packages (from cycler>=0.10->matplotlib>=2.2->seaborn) (1.15.0)\n",
      "Requirement already satisfied: wordcloud in c:\\users\\kamran\\appdata\\local\\programs\\python\\python38\\lib\\site-packages (1.8.1)\n",
      "Requirement already satisfied: numpy>=1.6.1 in c:\\users\\kamran\\appdata\\local\\programs\\python\\python38\\lib\\site-packages (from wordcloud) (1.20.1)\n",
      "Requirement already satisfied: matplotlib in c:\\users\\kamran\\appdata\\local\\programs\\python\\python38\\lib\\site-packages (from wordcloud) (3.3.4)\n",
      "Requirement already satisfied: pillow in c:\\users\\kamran\\appdata\\local\\programs\\python\\python38\\lib\\site-packages (from wordcloud) (8.1.2)\n",
      "Requirement already satisfied: pyparsing!=2.0.4,!=2.1.2,!=2.1.6,>=2.0.3 in c:\\users\\kamran\\appdata\\local\\programs\\python\\python38\\lib\\site-packages (from matplotlib->wordcloud) (2.4.7)\n",
      "Requirement already satisfied: python-dateutil>=2.1 in c:\\users\\kamran\\appdata\\local\\programs\\python\\python38\\lib\\site-packages (from matplotlib->wordcloud) (2.8.1)\n",
      "Requirement already satisfied: cycler>=0.10 in c:\\users\\kamran\\appdata\\local\\programs\\python\\python38\\lib\\site-packages (from matplotlib->wordcloud) (0.10.0)\n",
      "Requirement already satisfied: kiwisolver>=1.0.1 in c:\\users\\kamran\\appdata\\local\\programs\\python\\python38\\lib\\site-packages (from matplotlib->wordcloud) (1.3.1)\n",
      "Requirement already satisfied: six in c:\\users\\kamran\\appdata\\local\\programs\\python\\python38\\lib\\site-packages (from cycler>=0.10->matplotlib->wordcloud) (1.15.0)\n",
      "Collecting sklearn\n",
      "  Downloading sklearn-0.0.tar.gz (1.1 kB)\n",
      "  Preparing metadata (setup.py): started\n",
      "  Preparing metadata (setup.py): finished with status 'done'\n",
      "Collecting scikit-learn\n",
      "  Downloading scikit_learn-1.0.2-cp38-cp38-win_amd64.whl (7.2 MB)\n",
      "     ---------------------------------------- 7.2/7.2 MB 50.9 MB/s eta 0:00:00\n",
      "Collecting joblib>=0.11\n",
      "  Downloading joblib-1.1.0-py2.py3-none-any.whl (306 kB)\n",
      "     -------------------------------------- 307.0/307.0 KB 9.3 MB/s eta 0:00:00\n",
      "Collecting threadpoolctl>=2.0.0\n",
      "  Downloading threadpoolctl-3.1.0-py3-none-any.whl (14 kB)\n",
      "Requirement already satisfied: scipy>=1.1.0 in c:\\users\\kamran\\appdata\\local\\programs\\python\\python38\\lib\\site-packages (from scikit-learn->sklearn) (1.8.0)\n",
      "Requirement already satisfied: numpy>=1.14.6 in c:\\users\\kamran\\appdata\\local\\programs\\python\\python38\\lib\\site-packages (from scikit-learn->sklearn) (1.20.1)\n",
      "Building wheels for collected packages: sklearn\n",
      "  Building wheel for sklearn (setup.py): started\n",
      "  Building wheel for sklearn (setup.py): finished with status 'done'\n",
      "  Created wheel for sklearn: filename=sklearn-0.0-py2.py3-none-any.whl size=1317 sha256=e4cc392524a8715848bae14bce34656bc6bb37b6ef0a0e4e24102f13c34a65fe\n",
      "  Stored in directory: c:\\users\\kamran\\appdata\\local\\pip\\cache\\wheels\\22\\0b\\40\\fd3f795caaa1fb4c6cb738bc1f56100be1e57da95849bfc897\n",
      "Successfully built sklearn\n",
      "Installing collected packages: threadpoolctl, joblib, scikit-learn, sklearn\n",
      "Successfully installed joblib-1.1.0 scikit-learn-1.0.2 sklearn-0.0 threadpoolctl-3.1.0\n"
     ]
    }
   ],
   "source": [
    "! pip install seaborn\n",
    "! pip install wordcloud\n",
    "! pip install sklearn"
   ]
  },
  {
   "cell_type": "code",
   "execution_count": 7,
   "metadata": {
    "id": "IElTOk96dpJW"
   },
   "outputs": [],
   "source": [
    "import pandas as pd\n",
    "import numpy as np\n",
    "import tensorflow as tf\n",
    "import matplotlib.pyplot as plt\n",
    "import seaborn as sns\n",
    "from sklearn.model_selection import train_test_split\n",
    "from wordcloud import WordCloud\n",
    "import os\n",
    "import time\n",
    "import logging"
   ]
  },
  {
   "cell_type": "markdown",
   "metadata": {
    "id": "1XwrwvBydpJY"
   },
   "source": [
    "Import and read the data into a pandas dataframe"
   ]
  },
  {
   "cell_type": "code",
   "execution_count": 8,
   "metadata": {
    "id": "xR5XvE75dpJZ"
   },
   "outputs": [
    {
     "name": "stdout",
     "output_type": "stream",
     "text": [
      "File Found\n"
     ]
    }
   ],
   "source": [
    "path = \"daily_weather_2020.csv\" # path to data csv\n",
    "if(os.path.exists(path)):\n",
    "    print(\"File Found\")\n",
    "    df = pd.read_csv(path, usecols=['summary', 'icon'], low_memory=True, dtype=str, encoding=\"utf-8\")\n",
    "else:\n",
    "    print(\"no file found\")"
   ]
  },
  {
   "cell_type": "markdown",
   "metadata": {
    "id": "mY_8Ys9pdpJZ"
   },
   "source": [
    "# Data Cleaning and Validation setup"
   ]
  },
  {
   "cell_type": "markdown",
   "metadata": {
    "id": "Q1lfXMu0dpJa"
   },
   "source": [
    "Replace the icon column of the dataframe and check all the data was loaded properly as expected. The icon column items are replaced with the proper sentiment instead of the current icon value. This will help with validation when training the data. The entire dataset has validation."
   ]
  },
  {
   "cell_type": "code",
   "execution_count": 9,
   "metadata": {
    "id": "pA2yWj7QdpJb"
   },
   "outputs": [
    {
     "name": "stdout",
     "output_type": "stream",
     "text": [
      "<class 'pandas.core.frame.DataFrame'>\n",
      "RangeIndex: 30688 entries, 0 to 30687\n",
      "Data columns (total 2 columns):\n",
      " #   Column     Non-Null Count  Dtype \n",
      "---  ------     --------------  ----- \n",
      " 0   statement  30685 non-null  object\n",
      " 1   sentiment  30688 non-null  object\n",
      "dtypes: object(2)\n",
      "memory usage: 479.6+ KB\n"
     ]
    }
   ],
   "source": [
    "# Print the dataframe basic information\n",
    "df = df.rename(columns={'summary':'statement', 'icon': 'sentiment'})\n",
    "df.info()\n",
    "# Set up the validation column in the dataframe without modifying the raw data\n",
    "def setValidation():\n",
    "    print(\"SETTING UP DATA VALIDATION\")\n",
    "    for i in range(len(df.sentiment)):\n",
    "        val = df.sentiment[i]\n",
    "        if val == 'rain' or val == 'snow' or val == 'wind' or val == 'fog':\n",
    "            df.sentiment[i] = 'negative' # negative sentiment\n",
    "        elif val == 'clear-day':\n",
    "            df.sentiment[i] = 'positive' # positive sentiment\n",
    "        elif val == 'partly-cloudy-day' or val == 'cloudy':\n",
    "            df.sentiment[i] = 'neutral' # neutral (possibly not enough data)\n",
    "    print(\"VALIDATION HAS BEEN SET UP\")"
   ]
  },
  {
   "cell_type": "markdown",
   "metadata": {
    "id": "v02At_McdpJd"
   },
   "source": [
    "The validation that is setup can be tested by running the snippet below. This is a time consuming and resource intensive step, so it is not recommended to run this when reusing the same dataset."
   ]
  },
  {
   "cell_type": "code",
   "execution_count": 10,
   "metadata": {
    "id": "dDUnKrtedpJd"
   },
   "outputs": [
    {
     "name": "stdout",
     "output_type": "stream",
     "text": [
      "SETTING UP DATA VALIDATION\n",
      "VALIDATION HAS BEEN SET UP\n",
      "CHECKING VALIDATION DATA\n",
      "Favorable Count: 8527\n",
      "Unfavorable Count: 12904\n",
      "Neutral Count: 9257\n",
      "==PROCESS COMPLETED==\n",
      " 4.6366050243377686 seconds\n"
     ]
    }
   ],
   "source": [
    "# check the validation edit worked\n",
    "def checkValidationSetting():\n",
    "    print(\"CHECKING VALIDATION DATA\")\n",
    "    favorable_count = 0\n",
    "    unfavorable_count = 0\n",
    "    neutral_count = 0\n",
    "\n",
    "    for i in range(len(df.sentiment)):\n",
    "        if(df.sentiment[i] == 'positive'):\n",
    "            favorable_count +=1\n",
    "        elif(df.sentiment[i] == 'negative'):\n",
    "            unfavorable_count +=1\n",
    "        elif(df.sentiment[i] == 'neutral'):\n",
    "            neutral_count +=1\n",
    "\n",
    "    print('Favorable Count: ' + str(favorable_count))\n",
    "    print('Unfavorable Count: ' + str(unfavorable_count))\n",
    "    print('Neutral Count: ' + str(neutral_count))\n",
    "\n",
    "\n",
    "start = time.time()\n",
    "setValidation()\n",
    "checkValidationSetting()\n",
    "print('==PROCESS COMPLETED==\\n', time.time()-start, 'seconds')\n"
   ]
  },
  {
   "cell_type": "markdown",
   "metadata": {
    "id": "kH4KZhl1mwmW"
   },
   "source": [
    "# Data Visualization\n",
    "The input data is visualized here to validate the efficacy of the dataset and the expected parameters. Wordcloud visualization was thought to not be an efficient visualization because specific words do not matter, we are testing for overall sentiment using a variety of key words, some will not appear in real world data. "
   ]
  },
  {
   "cell_type": "code",
   "execution_count": 11,
   "metadata": {
    "id": "A-Gmj7pzm4d_"
   },
   "outputs": [
    {
     "name": "stdout",
     "output_type": "stream",
     "text": [
      "<class 'pandas.core.frame.DataFrame'>\n",
      "RangeIndex: 30688 entries, 0 to 30687\n",
      "Data columns (total 2 columns):\n",
      " #   Column     Non-Null Count  Dtype \n",
      "---  ------     --------------  ----- \n",
      " 0   statement  30685 non-null  object\n",
      " 1   sentiment  30688 non-null  object\n",
      "dtypes: object(2)\n",
      "memory usage: 479.6+ KB\n"
     ]
    },
    {
     "name": "stderr",
     "output_type": "stream",
     "text": [
      "c:\\users\\kamran\\appdata\\local\\programs\\python\\python38\\lib\\site-packages\\seaborn\\_decorators.py:36: FutureWarning: Pass the following variable as a keyword arg: x. From version 0.12, the only valid positional argument will be `data`, and passing other arguments without an explicit keyword will result in an error or misinterpretation.\n",
      "  warnings.warn(\n"
     ]
    },
    {
     "data": {
      "text/plain": [
       "negative    12904\n",
       "neutral      9257\n",
       "positive     8527\n",
       "Name: sentiment, dtype: int64"
      ]
     },
     "execution_count": 11,
     "metadata": {},
     "output_type": "execute_result"
    },
    {
     "data": {
      "image/png": "[encoded data removed]",
      "text/plain": [
       "<Figure size 432x288 with 1 Axes>"
      ]
     },
     "metadata": {
      "needs_background": "light"
     },
     "output_type": "display_data"
    }
   ],
   "source": [
    "df.describe()\n",
    "df.info()\n",
    "\n",
    "sns.countplot(df.sentiment)\n",
    "\n",
    "df['sentiment'].value_counts()"
   ]
  },
  {
   "cell_type": "markdown",
   "metadata": {
    "id": "pXUHdrTlup22"
   },
   "source": [
    "# Custom Tokenization\n",
    "Custom tokenization is needed to add weight to named entities and numerical values. Because named entities and numerical values are inherently more data rich, they should have greater weight in the word vector of the input phrase, thus custom tokenization is required. Input phrases are tokenized based on number of named entities, numerical values, length, and any sentimental key phrases."
   ]
  },
  {
   "cell_type": "markdown",
   "metadata": {
    "id": "CgbdeH3iwYNH"
   },
   "source": [
    "Necessary tokenization modules are imported first and setup"
   ]
  },
  {
   "cell_type": "code",
   "execution_count": null,
   "metadata": {
    "id": "3OlRl4BBwXFq"
   },
   "outputs": [],
   "source": []
  },
  {
   "cell_type": "markdown",
   "metadata": {
    "id": "8lSFEygBdpJe"
   },
   "source": [
    "# Test and Train DataFrames"
   ]
  },
  {
   "cell_type": "code",
   "execution_count": 12,
   "metadata": {
    "id": "w9ltOKG7dpJe"
   },
   "outputs": [],
   "source": [
    "train,eval = train_test_split(df,test_size=0.1)"
   ]
  },
  {
   "cell_type": "markdown",
   "metadata": {
    "id": "91BtNd8ydpJf"
   },
   "source": [
    "# SimpleTransformers Model Setup and Build"
   ]
  },
  {
   "cell_type": "markdown",
   "metadata": {
    "id": "E3Hhhfa5dpJf"
   },
   "source": [
    "The BERT model is setup here with the sentiment classifiers. The model segments into three classes by default. These three classes are mapped to condition sentiments in the dataframe for training validation. BERT Base-cased is the pretrain used to recognize and tokenize with weight on character casing, essential in understanding more of the data. "
   ]
  },
  {
   "cell_type": "code",
   "execution_count": null,
   "metadata": {
    "id": "9o3p-D9TdpJg"
   },
   "outputs": [],
   "source": [
    "!pip install simpletransformers"
   ]
  },
  {
   "cell_type": "code",
   "execution_count": null,
   "metadata": {
    "id": "myYzSRCndpJg"
   },
   "outputs": [],
   "source": [
    "from simpletransformers.classification import ClassificationModel, ClassificationArgs\n",
    "import torch\n",
    "\n",
    "# Logging for model\n",
    "logging.basicConfig(level=logging.INFO)\n",
    "transformers_logger = logging.getLogger(\"transformers\")\n",
    "transformers_logger.setLevel(logging.WARNING)\n",
    "\n",
    "train_gpu = torch.cuda.is_available()\n",
    "\n",
    "# Create a TransformerModel\n",
    "model_args = ClassificationArgs(num_train_epochs=2,\n",
    "                                reprocess_input_data=True,\n",
    "                                overwrite_output_dir=True,\n",
    "                                train_batch_size=1)\n",
    "model = ClassificationModel('bert', 'bert-base-cased', num_labels=3, args=model_args, use_cuda=True)"
   ]
  },
  {
   "cell_type": "markdown",
   "metadata": {
    "id": "ht7BfbvRdpJg"
   },
   "source": [
    "The default model outputs are overwritten here and replaced with the relevant condition sentiment"
   ]
  },
  {
   "cell_type": "code",
   "execution_count": null,
   "metadata": {
    "id": "FxQpb1gfdpJg"
   },
   "outputs": [],
   "source": [
    "# 0,1,2 : positive,negative,neutral\n",
    "def making_label(st):\n",
    "    if(st=='positive'):\n",
    "        return 0\n",
    "    elif(st=='neutral'):\n",
    "        return 2\n",
    "    else:\n",
    "        return 1\n",
    "\n",
    "train['label'] = train['sentiment'].apply(making_label)\n",
    "eval['label'] = eval['sentiment'].apply(making_label)\n",
    "print(train.shape)"
   ]
  },
  {
   "cell_type": "markdown",
   "metadata": {
    "id": "ppSyMA2WdpJh"
   },
   "source": [
    "The dataset is prepared for training via the creation of a test DataFrame and Evaluation DataFrame"
   ]
  },
  {
   "cell_type": "code",
   "execution_count": null,
   "metadata": {
    "id": "fIhaFbRqdpJh"
   },
   "outputs": [],
   "source": [
    "train_df = pd.DataFrame({\n",
    "    'text': train['statement'][:27619],\n",
    "    'label': train['label'][:27619]\n",
    "})\n",
    "train_df.columns = [\"text\", \"labels\"]\n",
    "\n",
    "print(train_df)\n",
    "\n",
    "eval_df = pd.DataFrame({\n",
    "    'text': eval['statement'][-3069:],\n",
    "    'label': eval['label'][-3069:]\n",
    "})\n",
    "eval_df.columns=[\"text\", \"labels\"]\n",
    "print(eval_df)"
   ]
  },
  {
   "cell_type": "markdown",
   "metadata": {
    "id": "EOgqQNEVdpJh"
   },
   "source": [
    "The DataFrames are then run through testing and new result variables are created for evaluating model metrics"
   ]
  },
  {
   "cell_type": "code",
   "execution_count": null,
   "metadata": {
    "id": "4xWaVCxPdpJh"
   },
   "outputs": [],
   "source": [
    "puystart = time.time()\n",
    "model.train_model(train_df, eval_df=eval_df)\n",
    "print('TRAINING TIME:', time.time()-start)\n",
    "result, model_outputs, wrong_predictions = model.eval_model(eval_df)"
   ]
  },
  {
   "cell_type": "markdown",
   "metadata": {
    "id": "t3oC61fguJ9p"
   },
   "source": [
    "# Transformers Model Build and Setup\n"
   ]
  },
  {
   "cell_type": "markdown",
   "metadata": {
    "id": "umPhYpQMuTNV"
   },
   "source": [
    "Install the transformers package containing BERT and its necessary sublibraries. It also builds wheels for runtime and loads the models into runtime with the given models and tokenizers. "
   ]
  },
  {
   "cell_type": "code",
   "execution_count": 13,
   "metadata": {
    "id": "OaJ2TpM4uPN_"
   },
   "outputs": [
    {
     "name": "stdout",
     "output_type": "stream",
     "text": [
      "Collecting transformers\n",
      "  Downloading transformers-4.17.0-py3-none-any.whl (3.8 MB)\n",
      "     ---------------------------------------- 3.8/3.8 MB 15.3 MB/s eta 0:00:00\n",
      "Requirement already satisfied: packaging>=20.0 in c:\\users\\kamran\\appdata\\local\\programs\\python\\python38\\lib\\site-packages (from transformers) (21.3)\n",
      "Requirement already satisfied: tqdm>=4.27 in c:\\users\\kamran\\appdata\\local\\programs\\python\\python38\\lib\\site-packages (from transformers) (4.62.3)\n",
      "Requirement already satisfied: numpy>=1.17 in c:\\users\\kamran\\appdata\\local\\programs\\python\\python38\\lib\\site-packages (from transformers) (1.20.1)\n",
      "Collecting regex!=2019.12.17\n",
      "  Downloading regex-2022.3.2-cp38-cp38-win_amd64.whl (274 kB)\n",
      "     ------------------------------------- 274.4/274.4 KB 16.5 MB/s eta 0:00:00\n",
      "Collecting huggingface-hub<1.0,>=0.1.0\n",
      "  Downloading huggingface_hub-0.4.0-py3-none-any.whl (67 kB)\n",
      "     ---------------------------------------- 67.0/67.0 KB ? eta 0:00:00\n",
      "Collecting tokenizers!=0.11.3,>=0.11.1\n",
      "  Downloading tokenizers-0.11.6-cp38-cp38-win_amd64.whl (3.2 MB)\n",
      "     ---------------------------------------- 3.2/3.2 MB 25.7 MB/s eta 0:00:00\n",
      "Collecting sacremoses\n",
      "  Downloading sacremoses-0.0.47-py2.py3-none-any.whl (895 kB)\n",
      "     ------------------------------------- 895.2/895.2 KB 28.5 MB/s eta 0:00:00\n",
      "Collecting pyyaml>=5.1\n",
      "  Downloading PyYAML-6.0-cp38-cp38-win_amd64.whl (155 kB)\n",
      "     ---------------------------------------- 155.4/155.4 KB ? eta 0:00:00\n",
      "Collecting filelock\n",
      "  Downloading filelock-3.6.0-py3-none-any.whl (10.0 kB)\n",
      "Requirement already satisfied: requests in c:\\users\\kamran\\appdata\\local\\programs\\python\\python38\\lib\\site-packages (from transformers) (2.26.0)\n",
      "Requirement already satisfied: typing-extensions>=3.7.4.3 in c:\\users\\kamran\\appdata\\local\\programs\\python\\python38\\lib\\site-packages (from huggingface-hub<1.0,>=0.1.0->transformers) (3.7.4.3)\n",
      "Requirement already satisfied: pyparsing!=3.0.5,>=2.0.2 in c:\\users\\kamran\\appdata\\local\\programs\\python\\python38\\lib\\site-packages (from packaging>=20.0->transformers) (2.4.7)\n",
      "Requirement already satisfied: colorama in c:\\users\\kamran\\appdata\\local\\programs\\python\\python38\\lib\\site-packages (from tqdm>=4.27->transformers) (0.4.4)\n",
      "Requirement already satisfied: idna<4,>=2.5 in c:\\users\\kamran\\appdata\\local\\programs\\python\\python38\\lib\\site-packages (from requests->transformers) (3.1)\n",
      "Requirement already satisfied: certifi>=2017.4.17 in c:\\users\\kamran\\appdata\\local\\programs\\python\\python38\\lib\\site-packages (from requests->transformers) (2021.10.8)\n",
      "Requirement already satisfied: charset-normalizer~=2.0.0 in c:\\users\\kamran\\appdata\\local\\programs\\python\\python38\\lib\\site-packages (from requests->transformers) (2.0.7)\n",
      "Requirement already satisfied: urllib3<1.27,>=1.21.1 in c:\\users\\kamran\\appdata\\local\\programs\\python\\python38\\lib\\site-packages (from requests->transformers) (1.26.7)\n",
      "Requirement already satisfied: joblib in c:\\users\\kamran\\appdata\\local\\programs\\python\\python38\\lib\\site-packages (from sacremoses->transformers) (1.1.0)\n",
      "Requirement already satisfied: click in c:\\users\\kamran\\appdata\\local\\programs\\python\\python38\\lib\\site-packages (from sacremoses->transformers) (7.1.2)\n",
      "Requirement already satisfied: six in c:\\users\\kamran\\appdata\\local\\programs\\python\\python38\\lib\\site-packages (from sacremoses->transformers) (1.15.0)\n",
      "Installing collected packages: tokenizers, regex, pyyaml, filelock, sacremoses, huggingface-hub, transformers\n",
      "Successfully installed filelock-3.6.0 huggingface-hub-0.4.0 pyyaml-6.0 regex-2022.3.2 sacremoses-0.0.47 tokenizers-0.11.6 transformers-4.17.0\n"
     ]
    }
   ],
   "source": [
    "! pip install transformers"
   ]
  },
  {
   "cell_type": "code",
   "execution_count": 14,
   "metadata": {
    "id": "o5EhMKk8uecH"
   },
   "outputs": [
    {
     "data": {
      "application/vnd.jupyter.widget-view+json": {
       "model_id": "0603e043f6fb41748ed1f2ebadf52f6d",
       "version_major": 2,
       "version_minor": 0
      },
      "text/plain": [
       "Downloading:   0%|          | 0.00/570 [00:00<?, ?B/s]"
      ]
     },
     "metadata": {},
     "output_type": "display_data"
    },
    {
     "data": {
      "application/vnd.jupyter.widget-view+json": {
       "model_id": "4f8597f070a94149afb7ad677bc03c7e",
       "version_major": 2,
       "version_minor": 0
      },
      "text/plain": [
       "Downloading:   0%|          | 0.00/511M [00:00<?, ?B/s]"
      ]
     },
     "metadata": {},
     "output_type": "display_data"
    },
    {
     "name": "stderr",
     "output_type": "stream",
     "text": [
      "All model checkpoint layers were used when initializing TFBertForSequenceClassification.\n",
      "\n",
      "Some layers of TFBertForSequenceClassification were not initialized from the model checkpoint at bert-base-uncased and are newly initialized: ['classifier']\n",
      "You should probably TRAIN this model on a down-stream task to be able to use it for predictions and inference.\n"
     ]
    },
    {
     "data": {
      "application/vnd.jupyter.widget-view+json": {
       "model_id": "f968f09e81e346b98d0687ee2396b670",
       "version_major": 2,
       "version_minor": 0
      },
      "text/plain": [
       "Downloading:   0%|          | 0.00/226k [00:00<?, ?B/s]"
      ]
     },
     "metadata": {},
     "output_type": "display_data"
    },
    {
     "data": {
      "application/vnd.jupyter.widget-view+json": {
       "model_id": "800b2dff47b04d9a9c6a116b7d3eb9d1",
       "version_major": 2,
       "version_minor": 0
      },
      "text/plain": [
       "Downloading:   0%|          | 0.00/28.0 [00:00<?, ?B/s]"
      ]
     },
     "metadata": {},
     "output_type": "display_data"
    },
    {
     "name": "stdout",
     "output_type": "stream",
     "text": [
      "Model: \"tf_bert_for_sequence_classification\"\n",
      "_________________________________________________________________\n",
      " Layer (type)                Output Shape              Param #   \n",
      "=================================================================\n",
      " bert (TFBertMainLayer)      multiple                  109482240 \n",
      "                                                                 \n",
      " dropout_37 (Dropout)        multiple                  0         \n",
      "                                                                 \n",
      " classifier (Dense)          multiple                  1538      \n",
      "                                                                 \n",
      "=================================================================\n",
      "Total params: 109,483,778\n",
      "Trainable params: 109,483,778\n",
      "Non-trainable params: 0\n",
      "_________________________________________________________________\n"
     ]
    }
   ],
   "source": [
    "from transformers import BertTokenizer, TFBertForSequenceClassification\n",
    "from transformers import InputExample, InputFeatures\n",
    "\n",
    "model = TFBertForSequenceClassification.from_pretrained(\"bert-base-uncased\")\n",
    "tokenizer = BertTokenizer.from_pretrained(\"bert-base-uncased\")\n",
    "model.summary()"
   ]
  },
  {
   "cell_type": "markdown",
   "metadata": {
    "id": "WDLrGgv8mJSQ"
   },
   "source": [
    "## Data Formatting and Refactoring"
   ]
  },
  {
   "cell_type": "markdown",
   "metadata": {
    "id": "_Q3iZ5eGgrLF"
   },
   "source": [
    "Replace sentiments with numerical class representations for tensors."
   ]
  },
  {
   "cell_type": "code",
   "execution_count": 15,
   "metadata": {
    "id": "PH9TumN_gqVl"
   },
   "outputs": [
    {
     "name": "stdout",
     "output_type": "stream",
     "text": [
      "<class 'pandas.core.frame.DataFrame'>\n",
      "RangeIndex: 30688 entries, 0 to 30687\n",
      "Data columns (total 2 columns):\n",
      " #   Column     Non-Null Count  Dtype \n",
      "---  ------     --------------  ----- \n",
      " 0   statement  30685 non-null  object\n",
      " 1   sentiment  30688 non-null  object\n",
      "dtypes: object(2)\n",
      "memory usage: 479.6+ KB\n"
     ]
    }
   ],
   "source": [
    "df.describe()\n",
    "df.info()\n",
    "\n",
    "# Set up the validation column in the dataframe without modifying the raw data\n",
    "def setValidation():\n",
    "    print(\"REFACTORING SENTIMENTS\")\n",
    "    for i in range(len(df.sentiment)):\n",
    "        val = df.sentiment[i]\n",
    "        if val == 'negative':\n",
    "            df.sentiment[i] = 1 # negative sentiment\n",
    "        elif val == 'positive':\n",
    "            df.sentiment[i] = 0 # positive sentiment\n",
    "        elif val == 'neutral':\n",
    "            df.sentiment[i] = 2 # neutral (possibly not enough data)\n",
    "    print(\"SENTIMENTS REFACTORED\")"
   ]
  },
  {
   "cell_type": "markdown",
   "metadata": {
    "id": "Qcevm4tGjN6H"
   },
   "source": [
    "Visualize the modified data and determine if the refactoring was applied correctly."
   ]
  },
  {
   "cell_type": "code",
   "execution_count": 16,
   "metadata": {
    "id": "R-rLgtFYjNnA"
   },
   "outputs": [
    {
     "name": "stderr",
     "output_type": "stream",
     "text": [
      "c:\\users\\kamran\\appdata\\local\\programs\\python\\python38\\lib\\site-packages\\seaborn\\_decorators.py:36: FutureWarning: Pass the following variable as a keyword arg: x. From version 0.12, the only valid positional argument will be `data`, and passing other arguments without an explicit keyword will result in an error or misinterpretation.\n",
      "  warnings.warn(\n"
     ]
    },
    {
     "data": {
      "text/plain": [
       "<AxesSubplot:xlabel='sentiment', ylabel='count'>"
      ]
     },
     "execution_count": 16,
     "metadata": {},
     "output_type": "execute_result"
    },
    {
     "data": {
      "image/png": "[encoded data removed]",
      "text/plain": [
       "<Figure size 432x288 with 1 Axes>"
      ]
     },
     "metadata": {
      "needs_background": "light"
     },
     "output_type": "display_data"
    }
   ],
   "source": [
    "sns.countplot(df.sentiment)"
   ]
  },
  {
   "cell_type": "markdown",
   "metadata": {
    "id": "Sbm3aCISlC2g"
   },
   "source": [
    "Define an example for the model, prevents discrepencies in data pulling."
   ]
  },
  {
   "cell_type": "code",
   "execution_count": 17,
   "metadata": {
    "id": "2tNBwgWuk-Jl"
   },
   "outputs": [
    {
     "data": {
      "text/plain": [
       "InputExample(guid=None, text_a='Hello, world', text_b=None, label=1)"
      ]
     },
     "execution_count": 17,
     "metadata": {},
     "output_type": "execute_result"
    }
   ],
   "source": [
    "InputExample(guid=None,\n",
    "             text_a = \"Hello, world\",\n",
    "             text_b = None,\n",
    "             label = 1)"
   ]
  },
  {
   "cell_type": "markdown",
   "metadata": {
    "id": "ceTZ_G-TmBDu"
   },
   "source": [
    "## Begin data tensorfication and loading classes"
   ]
  },
  {
   "cell_type": "code",
   "execution_count": null,
   "metadata": {
    "id": "ajLbVN_6mEuu"
   },
   "outputs": [],
   "source": []
  },
  {
   "cell_type": "markdown",
   "metadata": {
    "id": "csfoGI7odpJi"
   },
   "source": [
    "# Model Metrics and Model Performance"
   ]
  },
  {
   "cell_type": "markdown",
   "metadata": {
    "id": "yZ73nlBZdpJi"
   },
   "source": [
    "SciKit is used to validate the model and test how the model performs when trained with this dataset. Anything above 90% is enough for the model to be considered useful and accurate."
   ]
  },
  {
   "cell_type": "code",
   "execution_count": 18,
   "metadata": {
    "id": "RcRV2dNydpJi"
   },
   "outputs": [
    {
     "ename": "NameError",
     "evalue": "name 'result' is not defined",
     "output_type": "error",
     "traceback": [
      "\u001b[1;31m---------------------------------------------------------------------------\u001b[0m",
      "\u001b[1;31mNameError\u001b[0m                                 Traceback (most recent call last)",
      "Input \u001b[1;32mIn [18]\u001b[0m, in \u001b[0;36m<cell line: 1>\u001b[1;34m()\u001b[0m\n\u001b[1;32m----> 1\u001b[0m \u001b[38;5;28mprint\u001b[39m(\u001b[43mresult\u001b[49m)\n\u001b[0;32m      2\u001b[0m \u001b[38;5;28mprint\u001b[39m(model_outputs)\n\u001b[0;32m      4\u001b[0m lst \u001b[38;5;241m=\u001b[39m []\n",
      "\u001b[1;31mNameError\u001b[0m: name 'result' is not defined"
     ]
    }
   ],
   "source": [
    "print(result)\n",
    "print(model_outputs)\n",
    "\n",
    "lst = []\n",
    "for arr in model_outputs:\n",
    "    lst.append(np.argmax(arr))\n",
    "\n",
    "true = eval_df['labels'].tolist()\n",
    "predicted = lst"
   ]
  },
  {
   "cell_type": "code",
   "execution_count": 19,
   "metadata": {
    "id": "EH_Gx7RJdpJi"
   },
   "outputs": [
    {
     "ename": "NameError",
     "evalue": "name 'true' is not defined",
     "output_type": "error",
     "traceback": [
      "\u001b[1;31m---------------------------------------------------------------------------\u001b[0m",
      "\u001b[1;31mNameError\u001b[0m                                 Traceback (most recent call last)",
      "Input \u001b[1;32mIn [19]\u001b[0m, in \u001b[0;36m<cell line: 2>\u001b[1;34m()\u001b[0m\n\u001b[0;32m      1\u001b[0m \u001b[38;5;28;01mimport\u001b[39;00m \u001b[38;5;21;01msklearn\u001b[39;00m\n\u001b[1;32m----> 2\u001b[0m mat \u001b[38;5;241m=\u001b[39m sklearn\u001b[38;5;241m.\u001b[39mmetrics\u001b[38;5;241m.\u001b[39mconfusion_matrix(\u001b[43mtrue\u001b[49m , predicted)\n\u001b[0;32m      3\u001b[0m \u001b[38;5;28mprint\u001b[39m(mat)\n\u001b[0;32m      5\u001b[0m df_cm \u001b[38;5;241m=\u001b[39m pd\u001b[38;5;241m.\u001b[39mDataFrame(mat, \u001b[38;5;28mrange\u001b[39m(\u001b[38;5;241m3\u001b[39m), \u001b[38;5;28mrange\u001b[39m(\u001b[38;5;241m3\u001b[39m))\n",
      "\u001b[1;31mNameError\u001b[0m: name 'true' is not defined"
     ]
    }
   ],
   "source": [
    "import sklearn\n",
    "mat = sklearn.metrics.confusion_matrix(true , predicted)\n",
    "print(mat)\n",
    "\n",
    "df_cm = pd.DataFrame(mat, range(3), range(3))\n",
    "\n",
    "sns.heatmap(df_cm, annot=True)\n",
    "plt.show()\n",
    "print('Model Accuracy: ', 100*sklearn.metrics.accuracy_score(true,predicted), '%')\n",
    "\n",
    "sklearn.metrics.classification_report(true,predicted,target_names=['positive','neutral','negative'])\n",
    "print('Model Accuracy: ', 100*sklearn.metrics.accuracy_score(true,predicted), '%')"
   ]
  },
  {
   "cell_type": "markdown",
   "metadata": {
    "id": "esxYZ3-2dpJi"
   },
   "source": [
    "# Live Demo and Model Testing\n",
    "This function allows for the model to be evaluated with manually prompted data, a user interface for evaluating the model with real time and human generated queries."
   ]
  },
  {
   "cell_type": "code",
   "execution_count": null,
   "metadata": {
    "id": "PHO1oV9ldpJi"
   },
   "outputs": [],
   "source": [
    "def get_result(statement):\n",
    "    result = model.predict([statement])\n",
    "    pos = np.where(result[1][0] == np.amax(result[1][0]))\n",
    "    pos = int(pos[0])\n",
    "    sentiment_dict = {0:'positive',1:'negative',2:'neutral'}\n",
    "    print(sentiment_dict[pos])\n",
    "    return\n",
    "\n",
    "sentiment = get_result(input(\"Input a phrase for Validation: \"))\n",
    "print(\"The input data was classified as:\", sentiment)"
   ]
  }
 ],
 "metadata": {
  "accelerator": "GPU",
  "colab": {
   "name": "BertDRFConditionSegmentation.ipynb",
   "provenance": [],
   "toc_visible": true
  },
  "kernelspec": {
   "display_name": "Python 3 (ipykernel)",
   "language": "python",
   "name": "python3"
  },
  "language_info": {
   "codemirror_mode": {
    "name": "ipython",
    "version": 3
   },
   "file_extension": ".py",
   "mimetype": "text/x-python",
   "name": "python",
   "nbconvert_exporter": "python",
   "pygments_lexer": "ipython3",
   "version": "3.8.9"
  }
 },
 "nbformat": 4,
 "nbformat_minor": 1
}

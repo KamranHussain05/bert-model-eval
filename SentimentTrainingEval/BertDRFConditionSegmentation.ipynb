{
 "cells": [
  {
   "cell_type": "markdown",
   "metadata": {
    "collapsed": false,
    "id": "x2wF0bMrdpJO"
   },
   "source": [
    "# BERT Weather Condition Custom Training and Sentiment Analysis Evaluation"
   ]
  },
  {
   "cell_type": "markdown",
   "metadata": {
    "collapsed": false,
    "id": "jjPtK9A-dpJW"
   },
   "source": [
    "Import the necessary libraries and packages. Pandas for the dataframe and in-memory data management. Numpy for linear algebra, wordcloud and matplotlib for visualization."
   ]
  },
  {
   "cell_type": "code",
   "execution_count": 2,
   "metadata": {
    "id": "IElTOk96dpJW"
   },
   "outputs": [],
   "source": [
    "import pandas as pd\n",
    "import numpy as np\n",
    "import matplotlib.pyplot as plt\n",
    "import seaborn as sns\n",
    "from sklearn.model_selection import train_test_split\n",
    "from wordcloud import WordCloud\n",
    "import os"
   ]
  },
  {
   "cell_type": "markdown",
   "metadata": {
    "collapsed": false,
    "id": "1XwrwvBydpJY"
   },
   "source": [
    "Import and read the data into a pandas dataframe"
   ]
  },
  {
   "cell_type": "code",
   "execution_count": 3,
   "metadata": {
    "colab": {
     "base_uri": "https://localhost:8080/"
    },
    "id": "xR5XvE75dpJZ",
    "outputId": "33b29e84-78f0-4d12-fce8-191a12151ae5"
   },
   "outputs": [
    {
     "name": "stdout",
     "output_type": "stream",
     "text": [
      "File Found\n"
     ]
    }
   ],
   "source": [
    "path = \"daily_weather_2020.csv\" # path to data csv\n",
    "if(os.path.exists(path)):\n",
    "    print(\"File Found\")\n",
    "    df = pd.read_csv(path, usecols=['summary', 'icon'], low_memory=True, dtype=str)\n",
    "else:\n",
    "    print(\"no file found\")"
   ]
  },
  {
   "cell_type": "markdown",
   "metadata": {
    "collapsed": false,
    "id": "mY_8Ys9pdpJZ"
   },
   "source": [
    "# Data Cleaning and Validation setup"
   ]
  },
  {
   "cell_type": "markdown",
   "metadata": {
    "collapsed": false,
    "id": "Q1lfXMu0dpJa"
   },
   "source": [
    "Replace the icon column of the dataframe and check all the data was loaded properly as expected. The icon column items are replaced with the proper sentiment instead of the current icon value. This will help with validation when training the data. The entire dataset has validation."
   ]
  },
  {
   "cell_type": "code",
   "execution_count": 4,
   "metadata": {
    "colab": {
     "base_uri": "https://localhost:8080/",
     "height": 240
    },
    "id": "pA2yWj7QdpJb",
    "outputId": "bb78bcc9-1b7b-4560-be8a-16666db66781"
   },
   "outputs": [
    {
     "name": "stdout",
     "output_type": "stream",
     "text": [
      "<class 'pandas.core.frame.DataFrame'>\n",
      "RangeIndex: 30688 entries, 0 to 30687\n",
      "Data columns (total 2 columns):\n",
      " #   Column     Non-Null Count  Dtype \n",
      "---  ------     --------------  ----- \n",
      " 0   statement  30685 non-null  object\n",
      " 1   sentiment  30688 non-null  object\n",
      "dtypes: object(2)\n",
      "memory usage: 479.6+ KB\n"
     ]
    }
   ],
   "source": [
    "# Print the dataframe basic information\n",
    "df = df.rename(columns={'summary':'statement', 'icon': 'sentiment'})\n",
    "df.info()\n",
    "df.describe()\n",
    "# Set up the validation column in the dataframe without modifying the raw data\n",
    "def setValidation():\n",
    "    print(\"SETTING UP DATA VALIDATION\")\n",
    "    for i in range(len(df.sentiment)):\n",
    "        val = df.sentiment[i]\n",
    "        if val == 'rain' or val == 'snow' or val == 'wind' or val == 'fog':\n",
    "            df.sentiment[i] = 'unfavorable' # negative sentiment\n",
    "        elif val == 'clear-day':\n",
    "            df.sentiment[i] = 'favorable' # positive sentiment\n",
    "        elif val == 'partly-cloudy-day' or val == 'cloudy':\n",
    "            df.sentiment[i] = 'neutral' # neutral (possibly not enough data)\n",
    "    print(\"VALIDATION HAS BEEN SET UP\")"
   ]
  },
  {
   "cell_type": "markdown",
   "metadata": {
    "collapsed": false,
    "id": "v02At_McdpJd"
   },
   "source": [
    "The validation that is setup can be tested by running the snippet below. This is a time consuming and resource intensive step, so it is not recommended to run this when reusing the same dataset."
   ]
  },
  {
   "cell_type": "code",
   "execution_count": 5,
   "metadata": {
    "id": "dDUnKrtedpJd"
   },
   "outputs": [
    {
     "name": "stdout",
     "output_type": "stream",
     "text": [
      "SETTING UP DATA VALIDATION\n",
      "VALIDATION HAS BEEN SET UP\n",
      "CHECKING VALIDATION DATA\n",
      "Favorable Count: 8527\n",
      "Unfavorable Count: 12904\n",
      "Neutral Count: 9257\n",
      "PROCESS COMPLETED\n"
     ]
    }
   ],
   "source": [
    "# check the validation edit worked\n",
    "def checkValidationSetting():\n",
    "    print(\"CHECKING VALIDATION DATA\")\n",
    "    favorable_count = 0\n",
    "    unfavorable_count = 0\n",
    "    neutral_count = 0\n",
    "\n",
    "    for i in range(len(df.sentiment)):\n",
    "        if(df.sentiment[i] == 'favorable'):\n",
    "            favorable_count +=1\n",
    "        elif(df.sentiment[i] == 'unfavorable'):\n",
    "            unfavorable_count +=1\n",
    "        elif(df.sentiment[i] == 'neutral'):\n",
    "            neutral_count +=1\n",
    "\n",
    "    print('Favorable Count: ' + str(favorable_count))\n",
    "    print('Unfavorable Count: ' + str(unfavorable_count))\n",
    "    print('Neutral Count: ' + str(neutral_count))\n",
    "\n",
    "\n",
    "setValidation()\n",
    "checkValidationSetting()\n",
    "print('PROCESS COMPLETED')"
   ]
  },
  {
   "cell_type": "markdown",
   "metadata": {
    "collapsed": false,
    "id": "8lSFEygBdpJe"
   },
   "source": [
    "# Test and Train DataFrames"
   ]
  },
  {
   "cell_type": "code",
   "execution_count": 6,
   "metadata": {
    "id": "w9ltOKG7dpJe"
   },
   "outputs": [],
   "source": [
    "train,eva = train_test_split(df,test_size=0.2)"
   ]
  },
  {
   "cell_type": "markdown",
   "metadata": {
    "collapsed": false,
    "id": "91BtNd8ydpJf"
   },
   "source": [
    "# Model Setup"
   ]
  },
  {
   "cell_type": "markdown",
   "metadata": {
    "collapsed": false,
    "id": "E3Hhhfa5dpJf"
   },
   "source": [
    "The BERT model is setup here with the sentiment classifiers. The model segments into three classes by default. These three classes are mapped to condition sentiments in the model setup."
   ]
  },
  {
   "cell_type": "code",
   "execution_count": 7,
   "metadata": {
    "id": "9o3p-D9TdpJg"
   },
   "outputs": [
    {
     "name": "stdout",
     "output_type": "stream",
     "text": [
      "Collecting simpletransformers\r\n",
      "  Using cached simpletransformers-0.63.4-py3-none-any.whl (248 kB)\r\n",
      "Requirement already satisfied: pandas in /Users/kamranhussain/Documents/GitHub/bert-model-eval/venv/lib/python3.6/site-packages (from simpletransformers) (1.1.5)\r\n",
      "Collecting sentencepiece\r\n",
      "  Using cached sentencepiece-0.1.96-cp36-cp36m-macosx_10_6_x86_64.whl (1.2 MB)\r\n",
      "Collecting streamlit\r\n",
      "  Using cached streamlit-1.5.1-py2.py3-none-any.whl (9.7 MB)\r\n",
      "Requirement already satisfied: requests in /Users/kamranhussain/Documents/GitHub/bert-model-eval/venv/lib/python3.6/site-packages (from simpletransformers) (2.27.1)\r\n",
      "Collecting seqeval\r\n",
      "  Using cached seqeval-1.2.2-py3-none-any.whl\r\n",
      "Collecting tokenizers\r\n",
      "  Using cached tokenizers-0.11.5.tar.gz (220 kB)\r\n",
      "  Installing build dependencies ... \u001B[?25ldone\r\n",
      "\u001B[?25h  Getting requirements to build wheel ... \u001B[?25ldone\r\n",
      "\u001B[?25h  Preparing metadata (pyproject.toml) ... \u001B[?25ldone\r\n",
      "\u001B[?25hCollecting regex\r\n",
      "  Using cached regex-2022.1.18-cp36-cp36m-macosx_10_9_x86_64.whl (289 kB)\r\n",
      "Requirement already satisfied: scikit-learn in /Users/kamranhussain/Documents/GitHub/bert-model-eval/venv/lib/python3.6/site-packages (from simpletransformers) (0.24.2)\r\n",
      "Collecting datasets\r\n",
      "  Using cached datasets-1.18.3-py3-none-any.whl (311 kB)\r\n",
      "Collecting transformers>=4.6.0\r\n",
      "  Using cached transformers-4.16.2-py3-none-any.whl (3.5 MB)\r\n",
      "Requirement already satisfied: tensorboard in /Users/kamranhussain/Documents/GitHub/bert-model-eval/venv/lib/python3.6/site-packages (from simpletransformers) (2.6.0)\r\n",
      "Requirement already satisfied: numpy in /Users/kamranhussain/Documents/GitHub/bert-model-eval/venv/lib/python3.6/site-packages (from simpletransformers) (1.19.5)\r\n",
      "Requirement already satisfied: scipy in /Users/kamranhussain/Documents/GitHub/bert-model-eval/venv/lib/python3.6/site-packages (from simpletransformers) (1.5.4)\r\n",
      "Collecting tqdm>=4.47.0\r\n",
      "  Using cached tqdm-4.62.3-py2.py3-none-any.whl (76 kB)\r\n",
      "Collecting wandb>=0.10.32\r\n",
      "  Using cached wandb-0.12.10-py2.py3-none-any.whl (1.7 MB)\r\n",
      "Requirement already satisfied: packaging>=20.0 in /Users/kamranhussain/Documents/GitHub/bert-model-eval/venv/lib/python3.6/site-packages (from transformers>=4.6.0->simpletransformers) (21.3)\r\n",
      "Requirement already satisfied: importlib-metadata in /Users/kamranhussain/Documents/GitHub/bert-model-eval/venv/lib/python3.6/site-packages (from transformers>=4.6.0->simpletransformers) (4.8.3)\r\n",
      "Collecting sacremoses\r\n",
      "  Using cached sacremoses-0.0.47-py2.py3-none-any.whl (895 kB)\r\n",
      "Collecting pyyaml>=5.1\r\n",
      "  Using cached PyYAML-6.0-cp36-cp36m-macosx_10_9_x86_64.whl (189 kB)\r\n",
      "Requirement already satisfied: dataclasses in /Users/kamranhussain/Documents/GitHub/bert-model-eval/venv/lib/python3.6/site-packages (from transformers>=4.6.0->simpletransformers) (0.8)\r\n",
      "Collecting huggingface-hub<1.0,>=0.1.0\r\n",
      "  Using cached huggingface_hub-0.4.0-py3-none-any.whl (67 kB)\r\n",
      "Collecting filelock\r\n",
      "  Using cached filelock-3.4.1-py3-none-any.whl (9.9 kB)\r\n",
      "Collecting psutil>=5.0.0\r\n",
      "  Using cached psutil-5.9.0-cp36-cp36m-macosx_10_9_x86_64.whl (238 kB)\r\n",
      "Collecting yaspin>=1.0.0\r\n",
      "  Using cached yaspin-2.1.0-py3-none-any.whl (18 kB)\r\n",
      "Requirement already satisfied: six>=1.13.0 in /Users/kamranhussain/Documents/GitHub/bert-model-eval/venv/lib/python3.6/site-packages (from wandb>=0.10.32->simpletransformers) (1.15.0)\r\n",
      "Requirement already satisfied: protobuf>=3.12.0 in /Users/kamranhussain/Documents/GitHub/bert-model-eval/venv/lib/python3.6/site-packages (from wandb>=0.10.32->simpletransformers) (3.19.4)\r\n",
      "Collecting promise<3,>=2.0\r\n",
      "  Using cached promise-2.3-py3-none-any.whl\r\n",
      "Requirement already satisfied: Click!=8.0.0,>=7.0 in /Users/kamranhussain/Documents/GitHub/bert-model-eval/venv/lib/python3.6/site-packages (from wandb>=0.10.32->simpletransformers) (7.1.2)\r\n",
      "Collecting GitPython>=1.0.0\r\n",
      "  Using cached GitPython-3.1.18-py3-none-any.whl (170 kB)\r\n",
      "Requirement already satisfied: python-dateutil>=2.6.1 in /Users/kamranhussain/Documents/GitHub/bert-model-eval/venv/lib/python3.6/site-packages (from wandb>=0.10.32->simpletransformers) (2.8.2)\r\n",
      "Collecting docker-pycreds>=0.4.0\r\n",
      "  Using cached docker_pycreds-0.4.0-py2.py3-none-any.whl (9.0 kB)\r\n",
      "Collecting pathtools\r\n",
      "  Using cached pathtools-0.1.2-py3-none-any.whl\r\n",
      "Collecting sentry-sdk>=1.0.0\r\n",
      "  Using cached sentry_sdk-1.5.5-py2.py3-none-any.whl (144 kB)\r\n",
      "Collecting shortuuid>=0.5.0\r\n",
      "  Using cached shortuuid-1.0.8-py3-none-any.whl (9.5 kB)\r\n",
      "Requirement already satisfied: certifi>=2017.4.17 in /Users/kamranhussain/Documents/GitHub/bert-model-eval/venv/lib/python3.6/site-packages (from requests->simpletransformers) (2021.10.8)\r\n",
      "Requirement already satisfied: idna<4,>=2.5 in /Users/kamranhussain/Documents/GitHub/bert-model-eval/venv/lib/python3.6/site-packages (from requests->simpletransformers) (3.3)\r\n",
      "Requirement already satisfied: charset-normalizer~=2.0.0 in /Users/kamranhussain/Documents/GitHub/bert-model-eval/venv/lib/python3.6/site-packages (from requests->simpletransformers) (2.0.12)\r\n",
      "Requirement already satisfied: urllib3<1.27,>=1.21.1 in /Users/kamranhussain/Documents/GitHub/bert-model-eval/venv/lib/python3.6/site-packages (from requests->simpletransformers) (1.26.8)\r\n",
      "Collecting aiohttp\r\n",
      "  Using cached aiohttp-3.8.1-cp36-cp36m-macosx_10_9_x86_64.whl (571 kB)\r\n",
      "Collecting xxhash\r\n",
      "  Using cached xxhash-2.0.2-cp36-cp36m-macosx_10_9_x86_64.whl (31 kB)\r\n",
      "Collecting multiprocess\r\n",
      "  Using cached multiprocess-0.70.12.2-py36-none-any.whl (106 kB)\r\n",
      "Collecting pyarrow!=4.0.0,>=3.0.0\r\n",
      "  Using cached pyarrow-6.0.1-cp36-cp36m-macosx_10_13_x86_64.whl (19.1 MB)\r\n",
      "Collecting dill\r\n",
      "  Using cached dill-0.3.4-py2.py3-none-any.whl (86 kB)\r\n",
      "Collecting fsspec[http]>=2021.05.0\r\n",
      "  Using cached fsspec-2022.1.0-py3-none-any.whl (133 kB)\r\n",
      "Requirement already satisfied: pytz>=2017.2 in /Users/kamranhussain/Documents/GitHub/bert-model-eval/venv/lib/python3.6/site-packages (from pandas->simpletransformers) (2021.3)\r\n",
      "Requirement already satisfied: joblib>=0.11 in /Users/kamranhussain/Documents/GitHub/bert-model-eval/venv/lib/python3.6/site-packages (from scikit-learn->simpletransformers) (1.1.0)\r\n",
      "Requirement already satisfied: threadpoolctl>=2.0.0 in /Users/kamranhussain/Documents/GitHub/bert-model-eval/venv/lib/python3.6/site-packages (from scikit-learn->simpletransformers) (3.1.0)\r\n",
      "Collecting validators\r\n",
      "  Using cached validators-0.18.2-py3-none-any.whl (19 kB)\r\n",
      "Requirement already satisfied: pillow>=6.2.0 in /Users/kamranhussain/Documents/GitHub/bert-model-eval/venv/lib/python3.6/site-packages (from streamlit->simpletransformers) (8.4.0)\r\n",
      "Collecting pydeck>=0.1.dev5\r\n",
      "  Using cached pydeck-0.6.2-py2.py3-none-any.whl (4.2 MB)\r\n",
      "Collecting astor\r\n",
      "  Using cached astor-0.8.1-py2.py3-none-any.whl (27 kB)\r\n",
      "Collecting altair>=3.2.0\r\n",
      "  Using cached altair-4.1.0-py3-none-any.whl (727 kB)\r\n",
      "Requirement already satisfied: typing-extensions in /Users/kamranhussain/Documents/GitHub/bert-model-eval/venv/lib/python3.6/site-packages (from streamlit->simpletransformers) (3.7.4.3)\r\n",
      "Collecting base58\r\n",
      "  Using cached base58-2.1.1-py3-none-any.whl (5.6 kB)\r\n",
      "Requirement already satisfied: cachetools>=4.0 in /Users/kamranhussain/Documents/GitHub/bert-model-eval/venv/lib/python3.6/site-packages (from streamlit->simpletransformers) (4.2.4)\r\n",
      "Requirement already satisfied: attrs in /Users/kamranhussain/Documents/GitHub/bert-model-eval/venv/lib/python3.6/site-packages (from streamlit->simpletransformers) (21.4.0)\r\n",
      "Collecting tzlocal\r\n",
      "  Using cached tzlocal-4.1-py3-none-any.whl (19 kB)\r\n",
      "Collecting pympler>=0.9\r\n",
      "  Using cached Pympler-1.0.1-py3-none-any.whl (164 kB)\r\n",
      "Collecting blinker\r\n",
      "  Using cached blinker-1.4-py3-none-any.whl\r\n",
      "Requirement already satisfied: tornado>=5.0 in /Users/kamranhussain/Documents/GitHub/bert-model-eval/venv/lib/python3.6/site-packages (from streamlit->simpletransformers) (6.1)\r\n",
      "Collecting toml\r\n",
      "  Using cached toml-0.10.2-py2.py3-none-any.whl (16 kB)\r\n",
      "Requirement already satisfied: tensorboard-plugin-wit>=1.6.0 in /Users/kamranhussain/Documents/GitHub/bert-model-eval/venv/lib/python3.6/site-packages (from tensorboard->simpletransformers) (1.8.1)\r\n",
      "Requirement already satisfied: wheel>=0.26 in /Users/kamranhussain/Documents/GitHub/bert-model-eval/venv/lib/python3.6/site-packages (from tensorboard->simpletransformers) (0.36.2)\r\n",
      "Requirement already satisfied: google-auth<2,>=1.6.3 in /Users/kamranhussain/Documents/GitHub/bert-model-eval/venv/lib/python3.6/site-packages (from tensorboard->simpletransformers) (1.35.0)\r\n",
      "Requirement already satisfied: grpcio>=1.24.3 in /Users/kamranhussain/Documents/GitHub/bert-model-eval/venv/lib/python3.6/site-packages (from tensorboard->simpletransformers) (1.43.0)\r\n",
      "Requirement already satisfied: tensorboard-data-server<0.7.0,>=0.6.0 in /Users/kamranhussain/Documents/GitHub/bert-model-eval/venv/lib/python3.6/site-packages (from tensorboard->simpletransformers) (0.6.1)\r\n",
      "Requirement already satisfied: google-auth-oauthlib<0.5,>=0.4.1 in /Users/kamranhussain/Documents/GitHub/bert-model-eval/venv/lib/python3.6/site-packages (from tensorboard->simpletransformers) (0.4.6)\r\n",
      "Requirement already satisfied: setuptools>=41.0.0 in /Users/kamranhussain/Documents/GitHub/bert-model-eval/venv/lib/python3.6/site-packages (from tensorboard->simpletransformers) (57.0.0)\r\n",
      "Requirement already satisfied: werkzeug>=0.11.15 in /Users/kamranhussain/Documents/GitHub/bert-model-eval/venv/lib/python3.6/site-packages (from tensorboard->simpletransformers) (2.0.3)\r\n",
      "Requirement already satisfied: markdown>=2.6.8 in /Users/kamranhussain/Documents/GitHub/bert-model-eval/venv/lib/python3.6/site-packages (from tensorboard->simpletransformers) (3.3.6)\r\n",
      "Requirement already satisfied: absl-py>=0.4 in /Users/kamranhussain/Documents/GitHub/bert-model-eval/venv/lib/python3.6/site-packages (from tensorboard->simpletransformers) (0.15.0)\r\n",
      "Collecting toolz\r\n",
      "  Using cached toolz-0.11.2-py3-none-any.whl (55 kB)\r\n",
      "Requirement already satisfied: entrypoints in /Users/kamranhussain/Documents/GitHub/bert-model-eval/venv/lib/python3.6/site-packages (from altair>=3.2.0->streamlit->simpletransformers) (0.4)\r\n",
      "Requirement already satisfied: jsonschema in /Users/kamranhussain/Documents/GitHub/bert-model-eval/venv/lib/python3.6/site-packages (from altair>=3.2.0->streamlit->simpletransformers) (3.2.0)\r\n",
      "Requirement already satisfied: jinja2 in /Users/kamranhussain/Documents/GitHub/bert-model-eval/venv/lib/python3.6/site-packages (from altair>=3.2.0->streamlit->simpletransformers) (3.0.3)\r\n",
      "Collecting gitdb<5,>=4.0.1\r\n",
      "  Using cached gitdb-4.0.9-py3-none-any.whl (63 kB)\r\n",
      "Requirement already satisfied: pyasn1-modules>=0.2.1 in /Users/kamranhussain/Documents/GitHub/bert-model-eval/venv/lib/python3.6/site-packages (from google-auth<2,>=1.6.3->tensorboard->simpletransformers) (0.2.8)\r\n",
      "Requirement already satisfied: rsa<5,>=3.1.4 in /Users/kamranhussain/Documents/GitHub/bert-model-eval/venv/lib/python3.6/site-packages (from google-auth<2,>=1.6.3->tensorboard->simpletransformers) (4.8)\r\n",
      "Requirement already satisfied: requests-oauthlib>=0.7.0 in /Users/kamranhussain/Documents/GitHub/bert-model-eval/venv/lib/python3.6/site-packages (from google-auth-oauthlib<0.5,>=0.4.1->tensorboard->simpletransformers) (1.3.1)\r\n",
      "Requirement already satisfied: zipp>=0.5 in /Users/kamranhussain/Documents/GitHub/bert-model-eval/venv/lib/python3.6/site-packages (from importlib-metadata->transformers>=4.6.0->simpletransformers) (3.6.0)\r\n",
      "Requirement already satisfied: pyparsing!=3.0.5,>=2.0.2 in /Users/kamranhussain/Documents/GitHub/bert-model-eval/venv/lib/python3.6/site-packages (from packaging>=20.0->transformers>=4.6.0->simpletransformers) (3.0.7)\r\n",
      "Requirement already satisfied: ipykernel>=5.1.2 in /Users/kamranhussain/Documents/GitHub/bert-model-eval/venv/lib/python3.6/site-packages (from pydeck>=0.1.dev5->streamlit->simpletransformers) (5.5.6)\r\n",
      "Requirement already satisfied: traitlets>=4.3.2 in /Users/kamranhussain/Documents/GitHub/bert-model-eval/venv/lib/python3.6/site-packages (from pydeck>=0.1.dev5->streamlit->simpletransformers) (4.3.3)\r\n",
      "Requirement already satisfied: ipywidgets>=7.0.0 in /Users/kamranhussain/Documents/GitHub/bert-model-eval/venv/lib/python3.6/site-packages (from pydeck>=0.1.dev5->streamlit->simpletransformers) (7.6.5)\r\n",
      "Requirement already satisfied: termcolor<2.0.0,>=1.1.0 in /Users/kamranhussain/Documents/GitHub/bert-model-eval/venv/lib/python3.6/site-packages (from yaspin>=1.0.0->wandb>=0.10.32->simpletransformers) (1.1.0)\r\n",
      "Collecting yarl<2.0,>=1.0\r\n",
      "  Using cached yarl-1.7.2-cp36-cp36m-macosx_10_9_x86_64.whl (120 kB)\r\n",
      "Collecting frozenlist>=1.1.1\r\n",
      "  Using cached frozenlist-1.2.0-cp36-cp36m-macosx_10_9_x86_64.whl (81 kB)\r\n",
      "Collecting async-timeout<5.0,>=4.0.0a3\r\n",
      "  Using cached async_timeout-4.0.2-py3-none-any.whl (5.8 kB)\r\n",
      "Collecting aiosignal>=1.1.2\r\n",
      "  Using cached aiosignal-1.2.0-py3-none-any.whl (8.2 kB)\r\n",
      "Collecting multidict<7.0,>=4.5\r\n",
      "  Using cached multidict-5.2.0-cp36-cp36m-macosx_10_9_x86_64.whl (45 kB)\r\n",
      "Collecting idna-ssl>=1.0\r\n",
      "  Using cached idna_ssl-1.1.0-py3-none-any.whl\r\n",
      "Collecting asynctest==0.13.0\r\n",
      "  Using cached asynctest-0.13.0-py3-none-any.whl (26 kB)\r\n",
      "Collecting pytz-deprecation-shim\r\n",
      "  Using cached pytz_deprecation_shim-0.1.0.post0-py2.py3-none-any.whl (15 kB)\r\n",
      "Collecting backports.zoneinfo\r\n",
      "  Using cached backports.zoneinfo-0.2.1-cp36-cp36m-macosx_10_14_x86_64.whl (35 kB)\r\n",
      "Requirement already satisfied: decorator>=3.4.0 in /Users/kamranhussain/Documents/GitHub/bert-model-eval/venv/lib/python3.6/site-packages (from validators->streamlit->simpletransformers) (5.1.1)\r\n",
      "Collecting smmap<6,>=3.0.1\r\n",
      "  Using cached smmap-5.0.0-py3-none-any.whl (24 kB)\r\n",
      "Requirement already satisfied: appnope in /Users/kamranhussain/Documents/GitHub/bert-model-eval/venv/lib/python3.6/site-packages (from ipykernel>=5.1.2->pydeck>=0.1.dev5->streamlit->simpletransformers) (0.1.2)\r\n",
      "Requirement already satisfied: jupyter-client in /Users/kamranhussain/Documents/GitHub/bert-model-eval/venv/lib/python3.6/site-packages (from ipykernel>=5.1.2->pydeck>=0.1.dev5->streamlit->simpletransformers) (7.1.2)\r\n",
      "Requirement already satisfied: ipython>=5.0.0 in /Users/kamranhussain/Documents/GitHub/bert-model-eval/venv/lib/python3.6/site-packages (from ipykernel>=5.1.2->pydeck>=0.1.dev5->streamlit->simpletransformers) (7.16.3)\r\n",
      "Requirement already satisfied: ipython-genutils in /Users/kamranhussain/Documents/GitHub/bert-model-eval/venv/lib/python3.6/site-packages (from ipykernel>=5.1.2->pydeck>=0.1.dev5->streamlit->simpletransformers) (0.2.0)\r\n",
      "Requirement already satisfied: widgetsnbextension~=3.5.0 in /Users/kamranhussain/Documents/GitHub/bert-model-eval/venv/lib/python3.6/site-packages (from ipywidgets>=7.0.0->pydeck>=0.1.dev5->streamlit->simpletransformers) (3.5.2)\r\n",
      "Requirement already satisfied: nbformat>=4.2.0 in /Users/kamranhussain/Documents/GitHub/bert-model-eval/venv/lib/python3.6/site-packages (from ipywidgets>=7.0.0->pydeck>=0.1.dev5->streamlit->simpletransformers) (5.1.3)\r\n",
      "Requirement already satisfied: jupyterlab-widgets>=1.0.0 in /Users/kamranhussain/Documents/GitHub/bert-model-eval/venv/lib/python3.6/site-packages (from ipywidgets>=7.0.0->pydeck>=0.1.dev5->streamlit->simpletransformers) (1.0.2)\r\n",
      "Requirement already satisfied: MarkupSafe>=2.0 in /Users/kamranhussain/Documents/GitHub/bert-model-eval/venv/lib/python3.6/site-packages (from jinja2->altair>=3.2.0->streamlit->simpletransformers) (2.0.1)\r\n",
      "Requirement already satisfied: pyasn1<0.5.0,>=0.4.6 in /Users/kamranhussain/Documents/GitHub/bert-model-eval/venv/lib/python3.6/site-packages (from pyasn1-modules>=0.2.1->google-auth<2,>=1.6.3->tensorboard->simpletransformers) (0.4.8)\r\n",
      "Requirement already satisfied: oauthlib>=3.0.0 in /Users/kamranhussain/Documents/GitHub/bert-model-eval/venv/lib/python3.6/site-packages (from requests-oauthlib>=0.7.0->google-auth-oauthlib<0.5,>=0.4.1->tensorboard->simpletransformers) (3.2.0)\r\n",
      "Collecting importlib-resources\r\n",
      "  Using cached importlib_resources-5.4.0-py3-none-any.whl (28 kB)\r\n",
      "Requirement already satisfied: pyrsistent>=0.14.0 in /Users/kamranhussain/Documents/GitHub/bert-model-eval/venv/lib/python3.6/site-packages (from jsonschema->altair>=3.2.0->streamlit->simpletransformers) (0.18.0)\r\n",
      "Collecting tzdata\r\n",
      "  Using cached tzdata-2021.5-py2.py3-none-any.whl (339 kB)\r\n",
      "Requirement already satisfied: jedi<=0.17.2,>=0.10 in /Users/kamranhussain/Documents/GitHub/bert-model-eval/venv/lib/python3.6/site-packages (from ipython>=5.0.0->ipykernel>=5.1.2->pydeck>=0.1.dev5->streamlit->simpletransformers) (0.17.2)\r\n",
      "Requirement already satisfied: pexpect in /Users/kamranhussain/Documents/GitHub/bert-model-eval/venv/lib/python3.6/site-packages (from ipython>=5.0.0->ipykernel>=5.1.2->pydeck>=0.1.dev5->streamlit->simpletransformers) (4.8.0)\r\n",
      "Requirement already satisfied: backcall in /Users/kamranhussain/Documents/GitHub/bert-model-eval/venv/lib/python3.6/site-packages (from ipython>=5.0.0->ipykernel>=5.1.2->pydeck>=0.1.dev5->streamlit->simpletransformers) (0.2.0)\r\n",
      "Requirement already satisfied: pygments in /Users/kamranhussain/Documents/GitHub/bert-model-eval/venv/lib/python3.6/site-packages (from ipython>=5.0.0->ipykernel>=5.1.2->pydeck>=0.1.dev5->streamlit->simpletransformers) (2.11.2)\r\n",
      "Requirement already satisfied: pickleshare in /Users/kamranhussain/Documents/GitHub/bert-model-eval/venv/lib/python3.6/site-packages (from ipython>=5.0.0->ipykernel>=5.1.2->pydeck>=0.1.dev5->streamlit->simpletransformers) (0.7.5)\r\n",
      "Requirement already satisfied: prompt-toolkit!=3.0.0,!=3.0.1,<3.1.0,>=2.0.0 in /Users/kamranhussain/Documents/GitHub/bert-model-eval/venv/lib/python3.6/site-packages (from ipython>=5.0.0->ipykernel>=5.1.2->pydeck>=0.1.dev5->streamlit->simpletransformers) (3.0.28)\r\n",
      "Requirement already satisfied: jupyter-core in /Users/kamranhussain/Documents/GitHub/bert-model-eval/venv/lib/python3.6/site-packages (from nbformat>=4.2.0->ipywidgets>=7.0.0->pydeck>=0.1.dev5->streamlit->simpletransformers) (4.9.1)\r\n",
      "Requirement already satisfied: notebook>=4.4.1 in /Users/kamranhussain/Documents/GitHub/bert-model-eval/venv/lib/python3.6/site-packages (from widgetsnbextension~=3.5.0->ipywidgets>=7.0.0->pydeck>=0.1.dev5->streamlit->simpletransformers) (6.4.8)\r\n",
      "Requirement already satisfied: pyzmq>=13 in /Users/kamranhussain/Documents/GitHub/bert-model-eval/venv/lib/python3.6/site-packages (from jupyter-client->ipykernel>=5.1.2->pydeck>=0.1.dev5->streamlit->simpletransformers) (22.3.0)\r\n",
      "Requirement already satisfied: nest-asyncio>=1.5 in /Users/kamranhussain/Documents/GitHub/bert-model-eval/venv/lib/python3.6/site-packages (from jupyter-client->ipykernel>=5.1.2->pydeck>=0.1.dev5->streamlit->simpletransformers) (1.5.4)\r\n",
      "Requirement already satisfied: parso<0.8.0,>=0.7.0 in /Users/kamranhussain/Documents/GitHub/bert-model-eval/venv/lib/python3.6/site-packages (from jedi<=0.17.2,>=0.10->ipython>=5.0.0->ipykernel>=5.1.2->pydeck>=0.1.dev5->streamlit->simpletransformers) (0.7.1)\r\n",
      "Requirement already satisfied: argon2-cffi in /Users/kamranhussain/Documents/GitHub/bert-model-eval/venv/lib/python3.6/site-packages (from notebook>=4.4.1->widgetsnbextension~=3.5.0->ipywidgets>=7.0.0->pydeck>=0.1.dev5->streamlit->simpletransformers) (21.3.0)\r\n",
      "Requirement already satisfied: nbconvert in /Users/kamranhussain/Documents/GitHub/bert-model-eval/venv/lib/python3.6/site-packages (from notebook>=4.4.1->widgetsnbextension~=3.5.0->ipywidgets>=7.0.0->pydeck>=0.1.dev5->streamlit->simpletransformers) (6.0.7)\r\n",
      "Requirement already satisfied: Send2Trash>=1.8.0 in /Users/kamranhussain/Documents/GitHub/bert-model-eval/venv/lib/python3.6/site-packages (from notebook>=4.4.1->widgetsnbextension~=3.5.0->ipywidgets>=7.0.0->pydeck>=0.1.dev5->streamlit->simpletransformers) (1.8.0)\r\n",
      "Requirement already satisfied: prometheus-client in /Users/kamranhussain/Documents/GitHub/bert-model-eval/venv/lib/python3.6/site-packages (from notebook>=4.4.1->widgetsnbextension~=3.5.0->ipywidgets>=7.0.0->pydeck>=0.1.dev5->streamlit->simpletransformers) (0.13.1)\r\n",
      "Requirement already satisfied: terminado>=0.8.3 in /Users/kamranhussain/Documents/GitHub/bert-model-eval/venv/lib/python3.6/site-packages (from notebook>=4.4.1->widgetsnbextension~=3.5.0->ipywidgets>=7.0.0->pydeck>=0.1.dev5->streamlit->simpletransformers) (0.12.1)\r\n",
      "Requirement already satisfied: wcwidth in /Users/kamranhussain/Documents/GitHub/bert-model-eval/venv/lib/python3.6/site-packages (from prompt-toolkit!=3.0.0,!=3.0.1,<3.1.0,>=2.0.0->ipython>=5.0.0->ipykernel>=5.1.2->pydeck>=0.1.dev5->streamlit->simpletransformers) (0.2.5)\r\n",
      "Requirement already satisfied: ptyprocess>=0.5 in /Users/kamranhussain/Documents/GitHub/bert-model-eval/venv/lib/python3.6/site-packages (from pexpect->ipython>=5.0.0->ipykernel>=5.1.2->pydeck>=0.1.dev5->streamlit->simpletransformers) (0.7.0)\r\n",
      "Requirement already satisfied: argon2-cffi-bindings in /Users/kamranhussain/Documents/GitHub/bert-model-eval/venv/lib/python3.6/site-packages (from argon2-cffi->notebook>=4.4.1->widgetsnbextension~=3.5.0->ipywidgets>=7.0.0->pydeck>=0.1.dev5->streamlit->simpletransformers) (21.2.0)\r\n",
      "Requirement already satisfied: mistune<2,>=0.8.1 in /Users/kamranhussain/Documents/GitHub/bert-model-eval/venv/lib/python3.6/site-packages (from nbconvert->notebook>=4.4.1->widgetsnbextension~=3.5.0->ipywidgets>=7.0.0->pydeck>=0.1.dev5->streamlit->simpletransformers) (0.8.4)\r\n",
      "Requirement already satisfied: bleach in /Users/kamranhussain/Documents/GitHub/bert-model-eval/venv/lib/python3.6/site-packages (from nbconvert->notebook>=4.4.1->widgetsnbextension~=3.5.0->ipywidgets>=7.0.0->pydeck>=0.1.dev5->streamlit->simpletransformers) (4.1.0)\r\n",
      "Requirement already satisfied: nbclient<0.6.0,>=0.5.0 in /Users/kamranhussain/Documents/GitHub/bert-model-eval/venv/lib/python3.6/site-packages (from nbconvert->notebook>=4.4.1->widgetsnbextension~=3.5.0->ipywidgets>=7.0.0->pydeck>=0.1.dev5->streamlit->simpletransformers) (0.5.9)\r\n",
      "Requirement already satisfied: pandocfilters>=1.4.1 in /Users/kamranhussain/Documents/GitHub/bert-model-eval/venv/lib/python3.6/site-packages (from nbconvert->notebook>=4.4.1->widgetsnbextension~=3.5.0->ipywidgets>=7.0.0->pydeck>=0.1.dev5->streamlit->simpletransformers) (1.5.0)\r\n",
      "Requirement already satisfied: jupyterlab-pygments in /Users/kamranhussain/Documents/GitHub/bert-model-eval/venv/lib/python3.6/site-packages (from nbconvert->notebook>=4.4.1->widgetsnbextension~=3.5.0->ipywidgets>=7.0.0->pydeck>=0.1.dev5->streamlit->simpletransformers) (0.1.2)\r\n",
      "Requirement already satisfied: testpath in /Users/kamranhussain/Documents/GitHub/bert-model-eval/venv/lib/python3.6/site-packages (from nbconvert->notebook>=4.4.1->widgetsnbextension~=3.5.0->ipywidgets>=7.0.0->pydeck>=0.1.dev5->streamlit->simpletransformers) (0.5.0)\r\n",
      "Requirement already satisfied: defusedxml in /Users/kamranhussain/Documents/GitHub/bert-model-eval/venv/lib/python3.6/site-packages (from nbconvert->notebook>=4.4.1->widgetsnbextension~=3.5.0->ipywidgets>=7.0.0->pydeck>=0.1.dev5->streamlit->simpletransformers) (0.7.1)\r\n",
      "Requirement already satisfied: async-generator in /Users/kamranhussain/Documents/GitHub/bert-model-eval/venv/lib/python3.6/site-packages (from nbclient<0.6.0,>=0.5.0->nbconvert->notebook>=4.4.1->widgetsnbextension~=3.5.0->ipywidgets>=7.0.0->pydeck>=0.1.dev5->streamlit->simpletransformers) (1.10)\r\n",
      "Requirement already satisfied: cffi>=1.0.1 in /Users/kamranhussain/Documents/GitHub/bert-model-eval/venv/lib/python3.6/site-packages (from argon2-cffi-bindings->argon2-cffi->notebook>=4.4.1->widgetsnbextension~=3.5.0->ipywidgets>=7.0.0->pydeck>=0.1.dev5->streamlit->simpletransformers) (1.15.0)\r\n",
      "Requirement already satisfied: webencodings in /Users/kamranhussain/Documents/GitHub/bert-model-eval/venv/lib/python3.6/site-packages (from bleach->nbconvert->notebook>=4.4.1->widgetsnbextension~=3.5.0->ipywidgets>=7.0.0->pydeck>=0.1.dev5->streamlit->simpletransformers) (0.5.1)\r\n",
      "Requirement already satisfied: pycparser in /Users/kamranhussain/Documents/GitHub/bert-model-eval/venv/lib/python3.6/site-packages (from cffi>=1.0.1->argon2-cffi-bindings->argon2-cffi->notebook>=4.4.1->widgetsnbextension~=3.5.0->ipywidgets>=7.0.0->pydeck>=0.1.dev5->streamlit->simpletransformers) (2.21)\r\n",
      "Building wheels for collected packages: tokenizers\r\n",
      "  Building wheel for tokenizers (pyproject.toml) ... \u001B[?25lerror\r\n",
      "\u001B[31m  ERROR: Command errored out with exit status 1:\r\n",
      "   command: /Users/kamranhussain/Documents/GitHub/bert-model-eval/venv/bin/python /Users/kamranhussain/Documents/GitHub/bert-model-eval/venv/lib/python3.6/site-packages/pip/_vendor/pep517/in_process/_in_process.py build_wheel /var/folders/1v/wqcvkrq94gv9nngqt977414h0000gn/T/tmppzeid3z4\r\n",
      "       cwd: /private/var/folders/1v/wqcvkrq94gv9nngqt977414h0000gn/T/pip-install-i2gxvhhs/tokenizers_c46ddd8bb2a24f8aa025f464ed198744\r\n",
      "  Complete output (51 lines):\r\n",
      "  running bdist_wheel\r\n",
      "  running build\r\n",
      "  running build_py\r\n",
      "  creating build\r\n",
      "  creating build/lib.macosx-10.9-x86_64-3.6\r\n",
      "  creating build/lib.macosx-10.9-x86_64-3.6/tokenizers\r\n",
      "  copying py_src/tokenizers/__init__.py -> build/lib.macosx-10.9-x86_64-3.6/tokenizers\r\n",
      "  creating build/lib.macosx-10.9-x86_64-3.6/tokenizers/models\r\n",
      "  copying py_src/tokenizers/models/__init__.py -> build/lib.macosx-10.9-x86_64-3.6/tokenizers/models\r\n",
      "  creating build/lib.macosx-10.9-x86_64-3.6/tokenizers/decoders\r\n",
      "  copying py_src/tokenizers/decoders/__init__.py -> build/lib.macosx-10.9-x86_64-3.6/tokenizers/decoders\r\n",
      "  creating build/lib.macosx-10.9-x86_64-3.6/tokenizers/normalizers\r\n",
      "  copying py_src/tokenizers/normalizers/__init__.py -> build/lib.macosx-10.9-x86_64-3.6/tokenizers/normalizers\r\n",
      "  creating build/lib.macosx-10.9-x86_64-3.6/tokenizers/pre_tokenizers\r\n",
      "  copying py_src/tokenizers/pre_tokenizers/__init__.py -> build/lib.macosx-10.9-x86_64-3.6/tokenizers/pre_tokenizers\r\n",
      "  creating build/lib.macosx-10.9-x86_64-3.6/tokenizers/processors\r\n",
      "  copying py_src/tokenizers/processors/__init__.py -> build/lib.macosx-10.9-x86_64-3.6/tokenizers/processors\r\n",
      "  creating build/lib.macosx-10.9-x86_64-3.6/tokenizers/trainers\r\n",
      "  copying py_src/tokenizers/trainers/__init__.py -> build/lib.macosx-10.9-x86_64-3.6/tokenizers/trainers\r\n",
      "  creating build/lib.macosx-10.9-x86_64-3.6/tokenizers/implementations\r\n",
      "  copying py_src/tokenizers/implementations/byte_level_bpe.py -> build/lib.macosx-10.9-x86_64-3.6/tokenizers/implementations\r\n",
      "  copying py_src/tokenizers/implementations/sentencepiece_unigram.py -> build/lib.macosx-10.9-x86_64-3.6/tokenizers/implementations\r\n",
      "  copying py_src/tokenizers/implementations/sentencepiece_bpe.py -> build/lib.macosx-10.9-x86_64-3.6/tokenizers/implementations\r\n",
      "  copying py_src/tokenizers/implementations/base_tokenizer.py -> build/lib.macosx-10.9-x86_64-3.6/tokenizers/implementations\r\n",
      "  copying py_src/tokenizers/implementations/__init__.py -> build/lib.macosx-10.9-x86_64-3.6/tokenizers/implementations\r\n",
      "  copying py_src/tokenizers/implementations/char_level_bpe.py -> build/lib.macosx-10.9-x86_64-3.6/tokenizers/implementations\r\n",
      "  copying py_src/tokenizers/implementations/bert_wordpiece.py -> build/lib.macosx-10.9-x86_64-3.6/tokenizers/implementations\r\n",
      "  creating build/lib.macosx-10.9-x86_64-3.6/tokenizers/tools\r\n",
      "  copying py_src/tokenizers/tools/__init__.py -> build/lib.macosx-10.9-x86_64-3.6/tokenizers/tools\r\n",
      "  copying py_src/tokenizers/tools/visualizer.py -> build/lib.macosx-10.9-x86_64-3.6/tokenizers/tools\r\n",
      "  copying py_src/tokenizers/__init__.pyi -> build/lib.macosx-10.9-x86_64-3.6/tokenizers\r\n",
      "  copying py_src/tokenizers/models/__init__.pyi -> build/lib.macosx-10.9-x86_64-3.6/tokenizers/models\r\n",
      "  copying py_src/tokenizers/decoders/__init__.pyi -> build/lib.macosx-10.9-x86_64-3.6/tokenizers/decoders\r\n",
      "  copying py_src/tokenizers/normalizers/__init__.pyi -> build/lib.macosx-10.9-x86_64-3.6/tokenizers/normalizers\r\n",
      "  copying py_src/tokenizers/pre_tokenizers/__init__.pyi -> build/lib.macosx-10.9-x86_64-3.6/tokenizers/pre_tokenizers\r\n",
      "  copying py_src/tokenizers/processors/__init__.pyi -> build/lib.macosx-10.9-x86_64-3.6/tokenizers/processors\r\n",
      "  copying py_src/tokenizers/trainers/__init__.pyi -> build/lib.macosx-10.9-x86_64-3.6/tokenizers/trainers\r\n",
      "  copying py_src/tokenizers/tools/visualizer-styles.css -> build/lib.macosx-10.9-x86_64-3.6/tokenizers/tools\r\n",
      "  running build_ext\r\n",
      "  running build_rust\r\n",
      "  error: can't find Rust compiler\r\n",
      "  \r\n",
      "  If you are using an outdated pip version, it is possible a prebuilt wheel is available for this package but pip is not able to install from it. Installing from the wheel would avoid the need for a Rust compiler.\r\n",
      "  \r\n",
      "  To update pip, run:\r\n",
      "  \r\n",
      "      pip install --upgrade pip\r\n",
      "  \r\n",
      "  and then retry package installation.\r\n",
      "  \r\n",
      "  If you did intend to build this package from source, try installing a Rust compiler from your system package manager and ensure it is on the PATH during installation. Alternatively, rustup (available at https://rustup.rs) is the recommended way to download and update the Rust compiler toolchain.\r\n",
      "  ----------------------------------------\u001B[0m\r\n",
      "\u001B[31m  ERROR: Failed building wheel for tokenizers\u001B[0m\r\n",
      "\u001B[?25hFailed to build tokenizers\r\n",
      "\u001B[31mERROR: Could not build wheels for tokenizers, which is required to install pyproject.toml-based projects\u001B[0m\r\n"
     ]
    }
   ],
   "source": [
    "!pip install simpletransformers"
   ]
  },
  {
   "cell_type": "code",
   "execution_count": 8,
   "metadata": {
    "id": "myYzSRCndpJg"
   },
   "outputs": [
    {
     "ename": "ModuleNotFoundError",
     "evalue": "No module named 'simpletransformers'",
     "output_type": "error",
     "traceback": [
      "\u001B[0;31m---------------------------------------------------------------------------\u001B[0m",
      "\u001B[0;31mModuleNotFoundError\u001B[0m                       Traceback (most recent call last)",
      "\u001B[0;32m<ipython-input-8-f1ae91f53d38>\u001B[0m in \u001B[0;36m<module>\u001B[0;34m\u001B[0m\n\u001B[0;32m----> 1\u001B[0;31m \u001B[0;32mfrom\u001B[0m \u001B[0msimpletransformers\u001B[0m\u001B[0;34m.\u001B[0m\u001B[0mclassification\u001B[0m \u001B[0;32mimport\u001B[0m \u001B[0mClassificationModel\u001B[0m\u001B[0;34m\u001B[0m\u001B[0;34m\u001B[0m\u001B[0m\n\u001B[0m\u001B[1;32m      2\u001B[0m \u001B[0;34m\u001B[0m\u001B[0m\n\u001B[1;32m      3\u001B[0m \u001B[0;31m# Create a TransformerModel\u001B[0m\u001B[0;34m\u001B[0m\u001B[0;34m\u001B[0m\u001B[0;34m\u001B[0m\u001B[0m\n\u001B[1;32m      4\u001B[0m \u001B[0mmodel\u001B[0m \u001B[0;34m=\u001B[0m \u001B[0mClassificationModel\u001B[0m\u001B[0;34m(\u001B[0m\u001B[0;34m'bert'\u001B[0m\u001B[0;34m,\u001B[0m \u001B[0;34m'bert-base-cased'\u001B[0m\u001B[0;34m,\u001B[0m \u001B[0mnum_labels\u001B[0m\u001B[0;34m=\u001B[0m\u001B[0;36m3\u001B[0m\u001B[0;34m,\u001B[0m \u001B[0margs\u001B[0m\u001B[0;34m=\u001B[0m\u001B[0;34m{\u001B[0m\u001B[0;34m'reprocess_input_data'\u001B[0m\u001B[0;34m:\u001B[0m \u001B[0;32mTrue\u001B[0m\u001B[0;34m,\u001B[0m \u001B[0;34m'overwrite_output_dir'\u001B[0m\u001B[0;34m:\u001B[0m \u001B[0;32mTrue\u001B[0m\u001B[0;34m}\u001B[0m\u001B[0;34m,\u001B[0m\u001B[0muse_cuda\u001B[0m\u001B[0;34m=\u001B[0m\u001B[0;32mTrue\u001B[0m\u001B[0;34m)\u001B[0m\u001B[0;34m\u001B[0m\u001B[0;34m\u001B[0m\u001B[0m\n",
      "\u001B[0;31mModuleNotFoundError\u001B[0m: No module named 'simpletransformers'"
     ]
    }
   ],
   "source": [
    "from simpletransformers.classification import ClassificationModel\n",
    "\n",
    "# Create a TransformerModel\n",
    "model = ClassificationModel('bert', 'bert-base-cased', num_labels=3, args={'reprocess_input_data': True, 'overwrite_output_dir': True},use_cuda=True)"
   ]
  },
  {
   "cell_type": "markdown",
   "metadata": {
    "collapsed": false,
    "id": "ht7BfbvRdpJg"
   },
   "source": [
    "The default model outputs are overwritten here and replaced with the relevant condition sentiment"
   ]
  },
  {
   "cell_type": "code",
   "execution_count": null,
   "metadata": {
    "id": "FxQpb1gfdpJg"
   },
   "outputs": [],
   "source": [
    "# 0,1,2 : positive,negative\n",
    "def making_label(st):\n",
    "    if(st=='positive'):\n",
    "        return 0\n",
    "    elif(st=='neutral'):\n",
    "        return 2\n",
    "    else:\n",
    "        return 1\n",
    "\n",
    "train['label'] = train['sentiment'].apply(making_label)\n",
    "eva['label'] = eva['sentiment'].apply(making_label)\n",
    "print(train.shape)"
   ]
  },
  {
   "cell_type": "markdown",
   "metadata": {
    "collapsed": false,
    "id": "ppSyMA2WdpJh"
   },
   "source": [
    "The dataset is prepared for training via the creation of a test DataFrame and Evaluation DataFrame"
   ]
  },
  {
   "cell_type": "code",
   "execution_count": null,
   "metadata": {
    "id": "fIhaFbRqdpJh"
   },
   "outputs": [],
   "source": [
    "train_df = pd.DataFrame({\n",
    "    'text': train['statement'][:1500].replace(r'\\n', ' ', regex=True),\n",
    "    'label': train['label'][:1500]\n",
    "})\n",
    "\n",
    "eval_df = pd.DataFrame({\n",
    "    'text': eva['statement'][-400:].replace(r'\\n', ' ', regex=True),\n",
    "    'label': eva['label'][-400:]\n",
    "})"
   ]
  },
  {
   "cell_type": "markdown",
   "metadata": {
    "collapsed": false,
    "id": "EOgqQNEVdpJh"
   },
   "source": [
    "The DataFrames are then run through testing and new result variables are created for evaluating model metrics"
   ]
  },
  {
   "cell_type": "code",
   "execution_count": null,
   "metadata": {
    "id": "4xWaVCxPdpJh"
   },
   "outputs": [],
   "source": [
    "model.train_model(train_df)\n",
    "result, model_outputs, wrong_predictions = model.eval_model(eval_df)"
   ]
  },
  {
   "cell_type": "markdown",
   "metadata": {
    "collapsed": false,
    "id": "csfoGI7odpJi"
   },
   "source": [
    "# Model Metrics and Model Performance"
   ]
  },
  {
   "cell_type": "markdown",
   "metadata": {
    "collapsed": false,
    "id": "yZ73nlBZdpJi"
   },
   "source": [
    "SciKit is used to validate the model and test how the model performs when trained with this dataset. Anything above 90% is enough for the model to be considered useful and accurate."
   ]
  },
  {
   "cell_type": "code",
   "execution_count": null,
   "metadata": {
    "id": "RcRV2dNydpJi"
   },
   "outputs": [],
   "source": [
    "print(result)\n",
    "print(model_outputs)\n",
    "\n",
    "lst = []\n",
    "for arr in model_outputs:\n",
    "    lst.append(np.argmax(arr))\n",
    "\n",
    "true = eval_df['label'].tolist()\n",
    "predicted = lst"
   ]
  },
  {
   "cell_type": "code",
   "execution_count": null,
   "metadata": {
    "id": "EH_Gx7RJdpJi"
   },
   "outputs": [],
   "source": [
    "import sklearn\n",
    "mat = sklearn.metrics.confusion_matrix(true , predicted)\n",
    "print(mat)\n",
    "\n",
    "df_cm = pd.DataFrame(mat, range(3), range(3))\n",
    "\n",
    "sns.heatmap(df_cm, annot=True)\n",
    "plt.show()\n",
    "\n",
    "sklearn.metrics.classification_report(true,predicted,target_names=['favorable','neutral','unfavorable'])\n",
    "print('Model Accuracy: ', 100*sklearn.metrics.accuracy_score(true,predicted), '%')"
   ]
  },
  {
   "cell_type": "markdown",
   "metadata": {
    "collapsed": false,
    "id": "esxYZ3-2dpJi"
   },
   "source": [
    "# Live Demo and Model Testing\n",
    "This function allows for the model to be evaluated with manually prompted data, a user interface for evaluating the model with real time and human generated queries."
   ]
  },
  {
   "cell_type": "code",
   "execution_count": null,
   "metadata": {
    "id": "PHO1oV9ldpJi"
   },
   "outputs": [],
   "source": [
    "def get_result(statement):\n",
    "    result = model.predict([statement])\n",
    "    pos = np.where(result[1][0] == np.amax(result[1][0]))\n",
    "    pos = int(pos[0])\n",
    "    sentiment_dict = {0:'positive',1:'negative',2:'neutral'}\n",
    "    print(sentiment_dict[pos])\n",
    "    return\n",
    "\n",
    "sentiment = get_result(input(\"Input a phrase for Validation: \"))\n",
    "print(\"The input data was classified as:\", sentiment)"
   ]
  }
 ],
 "metadata": {
  "accelerator": "GPU",
  "colab": {
   "name": "BertDRFConditionSegmentation.ipynb",
   "provenance": []
  },
  "kernelspec": {
   "display_name": "Python 3",
   "language": "python",
   "name": "python3"
  },
  "language_info": {
   "codemirror_mode": {
    "name": "ipython",
    "version": 2
   },
   "file_extension": ".py",
   "mimetype": "text/x-python",
   "name": "python",
   "nbconvert_exporter": "python",
   "pygments_lexer": "ipython2",
   "version": "2.7.6"
  }
 },
 "nbformat": 4,
 "nbformat_minor": 0
}
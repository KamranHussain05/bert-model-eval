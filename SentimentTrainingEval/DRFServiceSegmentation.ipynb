{
 "cells": [
  {
   "cell_type": "markdown",
   "metadata": {
    "id": "tdzkSBUcaUY-",
    "pycharm": {
     "name": "#%% md\n"
    }
   },
   "source": [
    "# Semantic Segmentation DRF Service Recommendation Engine"
   ]
  },
  {
   "cell_type": "markdown",
   "metadata": {
    "id": "zAYkWu4CakYf",
    "pycharm": {
     "name": "#%% md\n"
    }
   },
   "source": [
    "In order to recommend Data Reasoning Fabric services to Advaned Air Mobility Vehicles, semantic segmentation using Word2Vec Tokenization and BERT are deployed. The model architecture was evaluated on a dataset of 30,000+ weather conditions, with the final model being trained on a combination of 500 curated phrases and NOTAMs. "
   ]
  },
  {
   "cell_type": "code",
   "execution_count": 1,
   "metadata": {
    "id": "CFeBdh5uaRNI",
    "pycharm": {
     "name": "#%%\n"
    }
   },
   "outputs": [
    {
     "name": "stdout",
     "output_type": "stream",
     "text": [
      "Requirement already satisfied: simpletransformers in c:\\users\\kamran\\appdata\\local\\programs\\python\\python38\\lib\\site-packages (0.63.4)\n",
      "Requirement already satisfied: tokenizers in c:\\users\\kamran\\appdata\\local\\programs\\python\\python38\\lib\\site-packages (from simpletransformers) (0.11.6)\n",
      "Requirement already satisfied: pandas in c:\\users\\kamran\\appdata\\local\\programs\\python\\python38\\lib\\site-packages (from simpletransformers) (1.3.4)\n",
      "Requirement already satisfied: seqeval in c:\\users\\kamran\\appdata\\local\\programs\\python\\python38\\lib\\site-packages (from simpletransformers) (1.2.2)\n",
      "Requirement already satisfied: sentencepiece in c:\\users\\kamran\\appdata\\local\\programs\\python\\python38\\lib\\site-packages (from simpletransformers) (0.1.96)\n",
      "Requirement already satisfied: scipy in c:\\users\\kamran\\appdata\\local\\programs\\python\\python38\\lib\\site-packages (from simpletransformers) (1.8.0)\n",
      "Requirement already satisfied: transformers>=4.6.0 in c:\\users\\kamran\\appdata\\local\\programs\\python\\python38\\lib\\site-packages (from simpletransformers) (4.17.0)\n",
      "Requirement already satisfied: streamlit in c:\\users\\kamran\\appdata\\local\\programs\\python\\python38\\lib\\site-packages (from simpletransformers) (1.7.0)\n",
      "Requirement already satisfied: tqdm>=4.47.0 in c:\\users\\kamran\\appdata\\local\\programs\\python\\python38\\lib\\site-packages (from simpletransformers) (4.62.3)\n",
      "Requirement already satisfied: datasets in c:\\users\\kamran\\appdata\\local\\programs\\python\\python38\\lib\\site-packages (from simpletransformers) (1.18.3)\n",
      "Requirement already satisfied: wandb>=0.10.32 in c:\\users\\kamran\\appdata\\local\\programs\\python\\python38\\lib\\site-packages (from simpletransformers) (0.12.11)\n",
      "Requirement already satisfied: requests in c:\\users\\kamran\\appdata\\local\\programs\\python\\python38\\lib\\site-packages (from simpletransformers) (2.26.0)\n",
      "Requirement already satisfied: numpy in c:\\users\\kamran\\appdata\\local\\programs\\python\\python38\\lib\\site-packages (from simpletransformers) (1.20.1)\n",
      "Requirement already satisfied: tensorboard in c:\\users\\kamran\\appdata\\local\\programs\\python\\python38\\lib\\site-packages (from simpletransformers) (2.7.0)\n",
      "Requirement already satisfied: regex in c:\\users\\kamran\\appdata\\local\\programs\\python\\python38\\lib\\site-packages (from simpletransformers) (2022.3.2)\n",
      "Requirement already satisfied: scikit-learn in c:\\users\\kamran\\appdata\\local\\programs\\python\\python38\\lib\\site-packages (from simpletransformers) (1.0.2)\n",
      "Requirement already satisfied: colorama in c:\\users\\kamran\\appdata\\local\\programs\\python\\python38\\lib\\site-packages (from tqdm>=4.47.0->simpletransformers) (0.4.4)\n",
      "Requirement already satisfied: pyyaml>=5.1 in c:\\users\\kamran\\appdata\\local\\programs\\python\\python38\\lib\\site-packages (from transformers>=4.6.0->simpletransformers) (6.0)\n",
      "Requirement already satisfied: huggingface-hub<1.0,>=0.1.0 in c:\\users\\kamran\\appdata\\local\\programs\\python\\python38\\lib\\site-packages (from transformers>=4.6.0->simpletransformers) (0.4.0)\n",
      "Requirement already satisfied: sacremoses in c:\\users\\kamran\\appdata\\local\\programs\\python\\python38\\lib\\site-packages (from transformers>=4.6.0->simpletransformers) (0.0.47)\n",
      "Requirement already satisfied: packaging>=20.0 in c:\\users\\kamran\\appdata\\local\\programs\\python\\python38\\lib\\site-packages (from transformers>=4.6.0->simpletransformers) (21.3)\n",
      "Requirement already satisfied: filelock in c:\\users\\kamran\\appdata\\local\\programs\\python\\python38\\lib\\site-packages (from transformers>=4.6.0->simpletransformers) (3.6.0)\n",
      "Requirement already satisfied: setproctitle in c:\\users\\kamran\\appdata\\local\\programs\\python\\python38\\lib\\site-packages (from wandb>=0.10.32->simpletransformers) (1.2.2)\n",
      "Requirement already satisfied: psutil>=5.0.0 in c:\\users\\kamran\\appdata\\local\\programs\\python\\python38\\lib\\site-packages (from wandb>=0.10.32->simpletransformers) (5.9.0)\n",
      "Requirement already satisfied: pathtools in c:\\users\\kamran\\appdata\\local\\programs\\python\\python38\\lib\\site-packages (from wandb>=0.10.32->simpletransformers) (0.1.2)\n",
      "Requirement already satisfied: Click!=8.0.0,>=7.0 in c:\\users\\kamran\\appdata\\local\\programs\\python\\python38\\lib\\site-packages (from wandb>=0.10.32->simpletransformers) (7.1.2)\n",
      "Requirement already satisfied: promise<3,>=2.0 in c:\\users\\kamran\\appdata\\local\\programs\\python\\python38\\lib\\site-packages (from wandb>=0.10.32->simpletransformers) (2.3)\n",
      "Requirement already satisfied: sentry-sdk>=1.0.0 in c:\\users\\kamran\\appdata\\local\\programs\\python\\python38\\lib\\site-packages (from wandb>=0.10.32->simpletransformers) (1.5.6)\n",
      "Requirement already satisfied: python-dateutil>=2.6.1 in c:\\users\\kamran\\appdata\\local\\programs\\python\\python38\\lib\\site-packages (from wandb>=0.10.32->simpletransformers) (2.8.1)\n",
      "Requirement already satisfied: shortuuid>=0.5.0 in c:\\users\\kamran\\appdata\\local\\programs\\python\\python38\\lib\\site-packages (from wandb>=0.10.32->simpletransformers) (1.0.8)\n",
      "Requirement already satisfied: docker-pycreds>=0.4.0 in c:\\users\\kamran\\appdata\\local\\programs\\python\\python38\\lib\\site-packages (from wandb>=0.10.32->simpletransformers) (0.4.0)\n",
      "Requirement already satisfied: six>=1.13.0 in c:\\users\\kamran\\appdata\\local\\programs\\python\\python38\\lib\\site-packages (from wandb>=0.10.32->simpletransformers) (1.15.0)\n",
      "Requirement already satisfied: GitPython>=1.0.0 in c:\\users\\kamran\\appdata\\local\\programs\\python\\python38\\lib\\site-packages (from wandb>=0.10.32->simpletransformers) (3.1.27)\n",
      "Requirement already satisfied: protobuf>=3.12.0 in c:\\users\\kamran\\appdata\\local\\programs\\python\\python38\\lib\\site-packages (from wandb>=0.10.32->simpletransformers) (3.19.1)\n",
      "Requirement already satisfied: yaspin>=1.0.0 in c:\\users\\kamran\\appdata\\local\\programs\\python\\python38\\lib\\site-packages (from wandb>=0.10.32->simpletransformers) (2.1.0)\n",
      "Requirement already satisfied: urllib3<1.27,>=1.21.1 in c:\\users\\kamran\\appdata\\local\\programs\\python\\python38\\lib\\site-packages (from requests->simpletransformers) (1.26.7)\n",
      "Requirement already satisfied: idna<4,>=2.5 in c:\\users\\kamran\\appdata\\local\\programs\\python\\python38\\lib\\site-packages (from requests->simpletransformers) (3.1)\n",
      "Requirement already satisfied: certifi>=2017.4.17 in c:\\users\\kamran\\appdata\\local\\programs\\python\\python38\\lib\\site-packages (from requests->simpletransformers) (2021.10.8)\n",
      "Requirement already satisfied: charset-normalizer~=2.0.0 in c:\\users\\kamran\\appdata\\local\\programs\\python\\python38\\lib\\site-packages (from requests->simpletransformers) (2.0.7)\n",
      "Requirement already satisfied: dill in c:\\users\\kamran\\appdata\\local\\programs\\python\\python38\\lib\\site-packages (from datasets->simpletransformers) (0.3.4)\n",
      "Requirement already satisfied: multiprocess in c:\\users\\kamran\\appdata\\local\\programs\\python\\python38\\lib\\site-packages (from datasets->simpletransformers) (0.70.12.2)\n",
      "Requirement already satisfied: pyarrow!=4.0.0,>=3.0.0 in c:\\users\\kamran\\appdata\\local\\programs\\python\\python38\\lib\\site-packages (from datasets->simpletransformers) (7.0.0)\n",
      "Requirement already satisfied: aiohttp in c:\\users\\kamran\\appdata\\local\\programs\\python\\python38\\lib\\site-packages (from datasets->simpletransformers) (3.7.4.post0)\n",
      "Requirement already satisfied: xxhash in c:\\users\\kamran\\appdata\\local\\programs\\python\\python38\\lib\\site-packages (from datasets->simpletransformers) (3.0.0)\n",
      "Requirement already satisfied: fsspec[http]>=2021.05.0 in c:\\users\\kamran\\appdata\\local\\programs\\python\\python38\\lib\\site-packages (from datasets->simpletransformers) (2022.2.0)\n",
      "Requirement already satisfied: pytz>=2017.3 in c:\\users\\kamran\\appdata\\local\\programs\\python\\python38\\lib\\site-packages (from pandas->simpletransformers) (2021.3)\n",
      "Requirement already satisfied: threadpoolctl>=2.0.0 in c:\\users\\kamran\\appdata\\local\\programs\\python\\python38\\lib\\site-packages (from scikit-learn->simpletransformers) (3.1.0)\n",
      "Requirement already satisfied: joblib>=0.11 in c:\\users\\kamran\\appdata\\local\\programs\\python\\python38\\lib\\site-packages (from scikit-learn->simpletransformers) (1.1.0)\n",
      "Requirement already satisfied: toml in c:\\users\\kamran\\appdata\\local\\programs\\python\\python38\\lib\\site-packages (from streamlit->simpletransformers) (0.10.2)\n",
      "Requirement already satisfied: astor in c:\\users\\kamran\\appdata\\local\\programs\\python\\python38\\lib\\site-packages (from streamlit->simpletransformers) (0.8.1)\n",
      "Requirement already satisfied: altair>=3.2.0 in c:\\users\\kamran\\appdata\\local\\programs\\python\\python38\\lib\\site-packages (from streamlit->simpletransformers) (4.2.0)\n",
      "Requirement already satisfied: base58 in c:\\users\\kamran\\appdata\\local\\programs\\python\\python38\\lib\\site-packages (from streamlit->simpletransformers) (2.1.1)\n",
      "Requirement already satisfied: tornado>=5.0 in c:\\users\\kamran\\appdata\\local\\programs\\python\\python38\\lib\\site-packages (from streamlit->simpletransformers) (6.1)\n",
      "Requirement already satisfied: pillow>=6.2.0 in c:\\users\\kamran\\appdata\\local\\programs\\python\\python38\\lib\\site-packages (from streamlit->simpletransformers) (8.1.2)\n",
      "Requirement already satisfied: attrs in c:\\users\\kamran\\appdata\\local\\programs\\python\\python38\\lib\\site-packages (from streamlit->simpletransformers) (20.3.0)\n",
      "Requirement already satisfied: blinker in c:\\users\\kamran\\appdata\\local\\programs\\python\\python38\\lib\\site-packages (from streamlit->simpletransformers) (1.4)\n",
      "Requirement already satisfied: validators in c:\\users\\kamran\\appdata\\local\\programs\\python\\python38\\lib\\site-packages (from streamlit->simpletransformers) (0.18.2)\n",
      "Requirement already satisfied: watchdog in c:\\users\\kamran\\appdata\\local\\programs\\python\\python38\\lib\\site-packages (from streamlit->simpletransformers) (2.1.6)\n",
      "Requirement already satisfied: pympler>=0.9 in c:\\users\\kamran\\appdata\\local\\programs\\python\\python38\\lib\\site-packages (from streamlit->simpletransformers) (1.0.1)\n",
      "Requirement already satisfied: cachetools>=4.0 in c:\\users\\kamran\\appdata\\local\\programs\\python\\python38\\lib\\site-packages (from streamlit->simpletransformers) (4.2.4)\n",
      "Requirement already satisfied: tzlocal in c:\\users\\kamran\\appdata\\local\\programs\\python\\python38\\lib\\site-packages (from streamlit->simpletransformers) (4.1)\n",
      "Requirement already satisfied: semver in c:\\users\\kamran\\appdata\\local\\programs\\python\\python38\\lib\\site-packages (from streamlit->simpletransformers) (2.13.0)\n",
      "Requirement already satisfied: pydeck>=0.1.dev5 in c:\\users\\kamran\\appdata\\local\\programs\\python\\python38\\lib\\site-packages (from streamlit->simpletransformers) (0.7.1)\n",
      "Requirement already satisfied: importlib-metadata>=1.4 in c:\\users\\kamran\\appdata\\local\\programs\\python\\python38\\lib\\site-packages (from streamlit->simpletransformers) (4.8.2)\n",
      "Requirement already satisfied: setuptools>=41.0.0 in c:\\users\\kamran\\appdata\\local\\programs\\python\\python38\\lib\\site-packages (from tensorboard->simpletransformers) (49.2.1)\n",
      "Requirement already satisfied: wheel>=0.26 in c:\\users\\kamran\\appdata\\local\\programs\\python\\python38\\lib\\site-packages (from tensorboard->simpletransformers) (0.37.0)\n",
      "Requirement already satisfied: google-auth-oauthlib<0.5,>=0.4.1 in c:\\users\\kamran\\appdata\\local\\programs\\python\\python38\\lib\\site-packages (from tensorboard->simpletransformers) (0.4.6)\n",
      "Requirement already satisfied: google-auth<3,>=1.6.3 in c:\\users\\kamran\\appdata\\local\\programs\\python\\python38\\lib\\site-packages (from tensorboard->simpletransformers) (2.3.3)\n",
      "Requirement already satisfied: markdown>=2.6.8 in c:\\users\\kamran\\appdata\\local\\programs\\python\\python38\\lib\\site-packages (from tensorboard->simpletransformers) (3.3.6)\n",
      "Requirement already satisfied: tensorboard-data-server<0.7.0,>=0.6.0 in c:\\users\\kamran\\appdata\\local\\programs\\python\\python38\\lib\\site-packages (from tensorboard->simpletransformers) (0.6.1)\n",
      "Requirement already satisfied: tensorboard-plugin-wit>=1.6.0 in c:\\users\\kamran\\appdata\\local\\programs\\python\\python38\\lib\\site-packages (from tensorboard->simpletransformers) (1.8.0)\n",
      "Requirement already satisfied: werkzeug>=0.11.15 in c:\\users\\kamran\\appdata\\local\\programs\\python\\python38\\lib\\site-packages (from tensorboard->simpletransformers) (2.0.2)\n",
      "Requirement already satisfied: absl-py>=0.4 in c:\\users\\kamran\\appdata\\local\\programs\\python\\python38\\lib\\site-packages (from tensorboard->simpletransformers) (1.0.0)\n",
      "Requirement already satisfied: grpcio>=1.24.3 in c:\\users\\kamran\\appdata\\local\\programs\\python\\python38\\lib\\site-packages (from tensorboard->simpletransformers) (1.42.0)\n",
      "Requirement already satisfied: toolz in c:\\users\\kamran\\appdata\\local\\programs\\python\\python38\\lib\\site-packages (from altair>=3.2.0->streamlit->simpletransformers) (0.11.2)\n",
      "Requirement already satisfied: entrypoints in c:\\users\\kamran\\appdata\\local\\programs\\python\\python38\\lib\\site-packages (from altair>=3.2.0->streamlit->simpletransformers) (0.4)\n",
      "Requirement already satisfied: jinja2 in c:\\users\\kamran\\appdata\\local\\programs\\python\\python38\\lib\\site-packages (from altair>=3.2.0->streamlit->simpletransformers) (3.0.3)\n",
      "Requirement already satisfied: jsonschema>=3.0 in c:\\users\\kamran\\appdata\\local\\programs\\python\\python38\\lib\\site-packages (from altair>=3.2.0->streamlit->simpletransformers) (4.4.0)\n",
      "Requirement already satisfied: gitdb<5,>=4.0.1 in c:\\users\\kamran\\appdata\\local\\programs\\python\\python38\\lib\\site-packages (from GitPython>=1.0.0->wandb>=0.10.32->simpletransformers) (4.0.9)\n",
      "Requirement already satisfied: pyasn1-modules>=0.2.1 in c:\\users\\kamran\\appdata\\local\\programs\\python\\python38\\lib\\site-packages (from google-auth<3,>=1.6.3->tensorboard->simpletransformers) (0.2.8)\n",
      "Requirement already satisfied: rsa<5,>=3.1.4 in c:\\users\\kamran\\appdata\\local\\programs\\python\\python38\\lib\\site-packages (from google-auth<3,>=1.6.3->tensorboard->simpletransformers) (4.7.2)\n",
      "Requirement already satisfied: requests-oauthlib>=0.7.0 in c:\\users\\kamran\\appdata\\local\\programs\\python\\python38\\lib\\site-packages (from google-auth-oauthlib<0.5,>=0.4.1->tensorboard->simpletransformers) (1.3.0)\n",
      "Requirement already satisfied: typing-extensions>=3.7.4.3 in c:\\users\\kamran\\appdata\\local\\programs\\python\\python38\\lib\\site-packages (from huggingface-hub<1.0,>=0.1.0->transformers>=4.6.0->simpletransformers) (3.7.4.3)\n",
      "Requirement already satisfied: zipp>=0.5 in c:\\users\\kamran\\appdata\\local\\programs\\python\\python38\\lib\\site-packages (from importlib-metadata>=1.4->streamlit->simpletransformers) (3.6.0)\n",
      "Requirement already satisfied: pyparsing!=3.0.5,>=2.0.2 in c:\\users\\kamran\\appdata\\local\\programs\\python\\python38\\lib\\site-packages (from packaging>=20.0->transformers>=4.6.0->simpletransformers) (2.4.7)\n",
      "Requirement already satisfied: traitlets>=4.3.2 in c:\\users\\kamran\\appdata\\local\\programs\\python\\python38\\lib\\site-packages (from pydeck>=0.1.dev5->streamlit->simpletransformers) (5.1.1)\n",
      "Requirement already satisfied: ipykernel>=5.1.2 in c:\\users\\kamran\\appdata\\local\\programs\\python\\python38\\lib\\site-packages (from pydeck>=0.1.dev5->streamlit->simpletransformers) (6.9.1)\n",
      "Requirement already satisfied: ipywidgets>=7.0.0 in c:\\users\\kamran\\appdata\\local\\programs\\python\\python38\\lib\\site-packages (from pydeck>=0.1.dev5->streamlit->simpletransformers) (7.6.5)\n",
      "Requirement already satisfied: termcolor<2.0.0,>=1.1.0 in c:\\users\\kamran\\appdata\\local\\programs\\python\\python38\\lib\\site-packages (from yaspin>=1.0.0->wandb>=0.10.32->simpletransformers) (1.1.0)\n",
      "Requirement already satisfied: multidict<7.0,>=4.5 in c:\\users\\kamran\\appdata\\local\\programs\\python\\python38\\lib\\site-packages (from aiohttp->datasets->simpletransformers) (5.1.0)\n",
      "Requirement already satisfied: chardet<5.0,>=2.0 in c:\\users\\kamran\\appdata\\local\\programs\\python\\python38\\lib\\site-packages (from aiohttp->datasets->simpletransformers) (4.0.0)\n",
      "Requirement already satisfied: async-timeout<4.0,>=3.0 in c:\\users\\kamran\\appdata\\local\\programs\\python\\python38\\lib\\site-packages (from aiohttp->datasets->simpletransformers) (3.0.1)\n",
      "Requirement already satisfied: yarl<2.0,>=1.0 in c:\\users\\kamran\\appdata\\local\\programs\\python\\python38\\lib\\site-packages (from aiohttp->datasets->simpletransformers) (1.6.3)\n",
      "Requirement already satisfied: pytz-deprecation-shim in c:\\users\\kamran\\appdata\\local\\programs\\python\\python38\\lib\\site-packages (from tzlocal->streamlit->simpletransformers) (0.1.0.post0)\n",
      "Requirement already satisfied: tzdata in c:\\users\\kamran\\appdata\\local\\programs\\python\\python38\\lib\\site-packages (from tzlocal->streamlit->simpletransformers) (2021.5)\n",
      "Requirement already satisfied: backports.zoneinfo in c:\\users\\kamran\\appdata\\local\\programs\\python\\python38\\lib\\site-packages (from tzlocal->streamlit->simpletransformers) (0.2.1)\n",
      "Requirement already satisfied: decorator>=3.4.0 in c:\\users\\kamran\\appdata\\local\\programs\\python\\python38\\lib\\site-packages (from validators->streamlit->simpletransformers) (5.1.1)\n",
      "Requirement already satisfied: smmap<6,>=3.0.1 in c:\\users\\kamran\\appdata\\local\\programs\\python\\python38\\lib\\site-packages (from gitdb<5,>=4.0.1->GitPython>=1.0.0->wandb>=0.10.32->simpletransformers) (5.0.0)\n",
      "Requirement already satisfied: jupyter-client<8.0 in c:\\users\\kamran\\appdata\\local\\programs\\python\\python38\\lib\\site-packages (from ipykernel>=5.1.2->pydeck>=0.1.dev5->streamlit->simpletransformers) (7.1.2)\n",
      "Requirement already satisfied: debugpy<2.0,>=1.0.0 in c:\\users\\kamran\\appdata\\local\\programs\\python\\python38\\lib\\site-packages (from ipykernel>=5.1.2->pydeck>=0.1.dev5->streamlit->simpletransformers) (1.5.1)\n",
      "Requirement already satisfied: ipython>=7.23.1 in c:\\users\\kamran\\appdata\\local\\programs\\python\\python38\\lib\\site-packages (from ipykernel>=5.1.2->pydeck>=0.1.dev5->streamlit->simpletransformers) (8.1.1)\n",
      "Requirement already satisfied: matplotlib-inline<0.2.0,>=0.1.0 in c:\\users\\kamran\\appdata\\local\\programs\\python\\python38\\lib\\site-packages (from ipykernel>=5.1.2->pydeck>=0.1.dev5->streamlit->simpletransformers) (0.1.3)\n",
      "Requirement already satisfied: nest-asyncio in c:\\users\\kamran\\appdata\\local\\programs\\python\\python38\\lib\\site-packages (from ipykernel>=5.1.2->pydeck>=0.1.dev5->streamlit->simpletransformers) (1.5.4)\n",
      "Requirement already satisfied: jupyterlab-widgets>=1.0.0 in c:\\users\\kamran\\appdata\\local\\programs\\python\\python38\\lib\\site-packages (from ipywidgets>=7.0.0->pydeck>=0.1.dev5->streamlit->simpletransformers) (1.0.2)\n",
      "Requirement already satisfied: ipython-genutils~=0.2.0 in c:\\users\\kamran\\appdata\\local\\programs\\python\\python38\\lib\\site-packages (from ipywidgets>=7.0.0->pydeck>=0.1.dev5->streamlit->simpletransformers) (0.2.0)\n",
      "Requirement already satisfied: nbformat>=4.2.0 in c:\\users\\kamran\\appdata\\local\\programs\\python\\python38\\lib\\site-packages (from ipywidgets>=7.0.0->pydeck>=0.1.dev5->streamlit->simpletransformers) (5.1.3)\n",
      "Requirement already satisfied: widgetsnbextension~=3.5.0 in c:\\users\\kamran\\appdata\\local\\programs\\python\\python38\\lib\\site-packages (from ipywidgets>=7.0.0->pydeck>=0.1.dev5->streamlit->simpletransformers) (3.5.2)\n",
      "Requirement already satisfied: MarkupSafe>=2.0 in c:\\users\\kamran\\appdata\\local\\programs\\python\\python38\\lib\\site-packages (from jinja2->altair>=3.2.0->streamlit->simpletransformers) (2.1.0)\n",
      "Requirement already satisfied: importlib-resources>=1.4.0 in c:\\users\\kamran\\appdata\\local\\programs\\python\\python38\\lib\\site-packages (from jsonschema>=3.0->altair>=3.2.0->streamlit->simpletransformers) (5.4.0)\n",
      "Requirement already satisfied: pyrsistent!=0.17.0,!=0.17.1,!=0.17.2,>=0.14.0 in c:\\users\\kamran\\appdata\\local\\programs\\python\\python38\\lib\\site-packages (from jsonschema>=3.0->altair>=3.2.0->streamlit->simpletransformers) (0.18.1)\n",
      "Requirement already satisfied: pyasn1<0.5.0,>=0.4.6 in c:\\users\\kamran\\appdata\\local\\programs\\python\\python38\\lib\\site-packages (from pyasn1-modules>=0.2.1->google-auth<3,>=1.6.3->tensorboard->simpletransformers) (0.4.8)\n",
      "Requirement already satisfied: oauthlib>=3.0.0 in c:\\users\\kamran\\appdata\\local\\programs\\python\\python38\\lib\\site-packages (from requests-oauthlib>=0.7.0->google-auth-oauthlib<0.5,>=0.4.1->tensorboard->simpletransformers) (3.1.1)\n",
      "Requirement already satisfied: backcall in c:\\users\\kamran\\appdata\\local\\programs\\python\\python38\\lib\\site-packages (from ipython>=7.23.1->ipykernel>=5.1.2->pydeck>=0.1.dev5->streamlit->simpletransformers) (0.2.0)\n",
      "Requirement already satisfied: jedi>=0.16 in c:\\users\\kamran\\appdata\\local\\programs\\python\\python38\\lib\\site-packages (from ipython>=7.23.1->ipykernel>=5.1.2->pydeck>=0.1.dev5->streamlit->simpletransformers) (0.18.1)\n",
      "Requirement already satisfied: pygments>=2.4.0 in c:\\users\\kamran\\appdata\\local\\programs\\python\\python38\\lib\\site-packages (from ipython>=7.23.1->ipykernel>=5.1.2->pydeck>=0.1.dev5->streamlit->simpletransformers) (2.11.2)\n",
      "Requirement already satisfied: stack-data in c:\\users\\kamran\\appdata\\local\\programs\\python\\python38\\lib\\site-packages (from ipython>=7.23.1->ipykernel>=5.1.2->pydeck>=0.1.dev5->streamlit->simpletransformers) (0.2.0)\n",
      "Requirement already satisfied: pickleshare in c:\\users\\kamran\\appdata\\local\\programs\\python\\python38\\lib\\site-packages (from ipython>=7.23.1->ipykernel>=5.1.2->pydeck>=0.1.dev5->streamlit->simpletransformers) (0.7.5)\n",
      "Requirement already satisfied: prompt-toolkit!=3.0.0,!=3.0.1,<3.1.0,>=2.0.0 in c:\\users\\kamran\\appdata\\local\\programs\\python\\python38\\lib\\site-packages (from ipython>=7.23.1->ipykernel>=5.1.2->pydeck>=0.1.dev5->streamlit->simpletransformers) (3.0.28)\n",
      "Requirement already satisfied: jupyter-core>=4.6.0 in c:\\users\\kamran\\appdata\\local\\programs\\python\\python38\\lib\\site-packages (from jupyter-client<8.0->ipykernel>=5.1.2->pydeck>=0.1.dev5->streamlit->simpletransformers) (4.9.2)\n",
      "Requirement already satisfied: pyzmq>=13 in c:\\users\\kamran\\appdata\\local\\programs\\python\\python38\\lib\\site-packages (from jupyter-client<8.0->ipykernel>=5.1.2->pydeck>=0.1.dev5->streamlit->simpletransformers) (22.3.0)\n",
      "Requirement already satisfied: notebook>=4.4.1 in c:\\users\\kamran\\appdata\\local\\programs\\python\\python38\\lib\\site-packages (from widgetsnbextension~=3.5.0->ipywidgets>=7.0.0->pydeck>=0.1.dev5->streamlit->simpletransformers) (6.4.8)\n",
      "Requirement already satisfied: parso<0.9.0,>=0.8.0 in c:\\users\\kamran\\appdata\\local\\programs\\python\\python38\\lib\\site-packages (from jedi>=0.16->ipython>=7.23.1->ipykernel>=5.1.2->pydeck>=0.1.dev5->streamlit->simpletransformers) (0.8.3)\n",
      "Requirement already satisfied: pywin32>=1.0 in c:\\users\\kamran\\appdata\\local\\programs\\python\\python38\\lib\\site-packages (from jupyter-core>=4.6.0->jupyter-client<8.0->ipykernel>=5.1.2->pydeck>=0.1.dev5->streamlit->simpletransformers) (303)\n",
      "Requirement already satisfied: terminado>=0.8.3 in c:\\users\\kamran\\appdata\\local\\programs\\python\\python38\\lib\\site-packages (from notebook>=4.4.1->widgetsnbextension~=3.5.0->ipywidgets>=7.0.0->pydeck>=0.1.dev5->streamlit->simpletransformers) (0.13.2)\n",
      "Requirement already satisfied: nbconvert in c:\\users\\kamran\\appdata\\local\\programs\\python\\python38\\lib\\site-packages (from notebook>=4.4.1->widgetsnbextension~=3.5.0->ipywidgets>=7.0.0->pydeck>=0.1.dev5->streamlit->simpletransformers) (6.4.2)\n",
      "Requirement already satisfied: Send2Trash>=1.8.0 in c:\\users\\kamran\\appdata\\local\\programs\\python\\python38\\lib\\site-packages (from notebook>=4.4.1->widgetsnbextension~=3.5.0->ipywidgets>=7.0.0->pydeck>=0.1.dev5->streamlit->simpletransformers) (1.8.0)\n",
      "Requirement already satisfied: argon2-cffi in c:\\users\\kamran\\appdata\\local\\programs\\python\\python38\\lib\\site-packages (from notebook>=4.4.1->widgetsnbextension~=3.5.0->ipywidgets>=7.0.0->pydeck>=0.1.dev5->streamlit->simpletransformers) (21.3.0)\n",
      "Requirement already satisfied: prometheus-client in c:\\users\\kamran\\appdata\\local\\programs\\python\\python38\\lib\\site-packages (from notebook>=4.4.1->widgetsnbextension~=3.5.0->ipywidgets>=7.0.0->pydeck>=0.1.dev5->streamlit->simpletransformers) (0.13.1)\n",
      "Requirement already satisfied: wcwidth in c:\\users\\kamran\\appdata\\local\\programs\\python\\python38\\lib\\site-packages (from prompt-toolkit!=3.0.0,!=3.0.1,<3.1.0,>=2.0.0->ipython>=7.23.1->ipykernel>=5.1.2->pydeck>=0.1.dev5->streamlit->simpletransformers) (0.2.5)\n",
      "Requirement already satisfied: executing in c:\\users\\kamran\\appdata\\local\\programs\\python\\python38\\lib\\site-packages (from stack-data->ipython>=7.23.1->ipykernel>=5.1.2->pydeck>=0.1.dev5->streamlit->simpletransformers) (0.8.3)\n",
      "Requirement already satisfied: pure-eval in c:\\users\\kamran\\appdata\\local\\programs\\python\\python38\\lib\\site-packages (from stack-data->ipython>=7.23.1->ipykernel>=5.1.2->pydeck>=0.1.dev5->streamlit->simpletransformers) (0.2.2)\n",
      "Requirement already satisfied: asttokens in c:\\users\\kamran\\appdata\\local\\programs\\python\\python38\\lib\\site-packages (from stack-data->ipython>=7.23.1->ipykernel>=5.1.2->pydeck>=0.1.dev5->streamlit->simpletransformers) (2.0.5)\n",
      "Requirement already satisfied: pywinpty>=1.1.0 in c:\\users\\kamran\\appdata\\local\\programs\\python\\python38\\lib\\site-packages (from terminado>=0.8.3->notebook>=4.4.1->widgetsnbextension~=3.5.0->ipywidgets>=7.0.0->pydeck>=0.1.dev5->streamlit->simpletransformers) (2.0.4)\n",
      "Requirement already satisfied: argon2-cffi-bindings in c:\\users\\kamran\\appdata\\local\\programs\\python\\python38\\lib\\site-packages (from argon2-cffi->notebook>=4.4.1->widgetsnbextension~=3.5.0->ipywidgets>=7.0.0->pydeck>=0.1.dev5->streamlit->simpletransformers) (21.2.0)\n",
      "Requirement already satisfied: bleach in c:\\users\\kamran\\appdata\\local\\programs\\python\\python38\\lib\\site-packages (from nbconvert->notebook>=4.4.1->widgetsnbextension~=3.5.0->ipywidgets>=7.0.0->pydeck>=0.1.dev5->streamlit->simpletransformers) (4.1.0)\n",
      "Requirement already satisfied: nbclient<0.6.0,>=0.5.0 in c:\\users\\kamran\\appdata\\local\\programs\\python\\python38\\lib\\site-packages (from nbconvert->notebook>=4.4.1->widgetsnbextension~=3.5.0->ipywidgets>=7.0.0->pydeck>=0.1.dev5->streamlit->simpletransformers) (0.5.11)\n",
      "Requirement already satisfied: mistune<2,>=0.8.1 in c:\\users\\kamran\\appdata\\local\\programs\\python\\python38\\lib\\site-packages (from nbconvert->notebook>=4.4.1->widgetsnbextension~=3.5.0->ipywidgets>=7.0.0->pydeck>=0.1.dev5->streamlit->simpletransformers) (0.8.4)\n",
      "Requirement already satisfied: jupyterlab-pygments in c:\\users\\kamran\\appdata\\local\\programs\\python\\python38\\lib\\site-packages (from nbconvert->notebook>=4.4.1->widgetsnbextension~=3.5.0->ipywidgets>=7.0.0->pydeck>=0.1.dev5->streamlit->simpletransformers) (0.1.2)\n",
      "Requirement already satisfied: defusedxml in c:\\users\\kamran\\appdata\\local\\programs\\python\\python38\\lib\\site-packages (from nbconvert->notebook>=4.4.1->widgetsnbextension~=3.5.0->ipywidgets>=7.0.0->pydeck>=0.1.dev5->streamlit->simpletransformers) (0.7.1)\n",
      "Requirement already satisfied: testpath in c:\\users\\kamran\\appdata\\local\\programs\\python\\python38\\lib\\site-packages (from nbconvert->notebook>=4.4.1->widgetsnbextension~=3.5.0->ipywidgets>=7.0.0->pydeck>=0.1.dev5->streamlit->simpletransformers) (0.6.0)\n",
      "Requirement already satisfied: pandocfilters>=1.4.1 in c:\\users\\kamran\\appdata\\local\\programs\\python\\python38\\lib\\site-packages (from nbconvert->notebook>=4.4.1->widgetsnbextension~=3.5.0->ipywidgets>=7.0.0->pydeck>=0.1.dev5->streamlit->simpletransformers) (1.5.0)\n",
      "Requirement already satisfied: cffi>=1.0.1 in c:\\users\\kamran\\appdata\\local\\programs\\python\\python38\\lib\\site-packages (from argon2-cffi-bindings->argon2-cffi->notebook>=4.4.1->widgetsnbextension~=3.5.0->ipywidgets>=7.0.0->pydeck>=0.1.dev5->streamlit->simpletransformers) (1.15.0)\n",
      "Requirement already satisfied: webencodings in c:\\users\\kamran\\appdata\\local\\programs\\python\\python38\\lib\\site-packages (from bleach->nbconvert->notebook>=4.4.1->widgetsnbextension~=3.5.0->ipywidgets>=7.0.0->pydeck>=0.1.dev5->streamlit->simpletransformers) (0.5.1)\n",
      "Requirement already satisfied: pycparser in c:\\users\\kamran\\appdata\\local\\programs\\python\\python38\\lib\\site-packages (from cffi>=1.0.1->argon2-cffi-bindings->argon2-cffi->notebook>=4.4.1->widgetsnbextension~=3.5.0->ipywidgets>=7.0.0->pydeck>=0.1.dev5->streamlit->simpletransformers) (2.21)\n"
     ]
    },
    {
     "name": "stderr",
     "output_type": "stream",
     "text": [
      "WARNING: You are using pip version 22.0.3; however, version 22.0.4 is available.\n",
      "You should consider upgrading via the 'C:\\Users\\Kamran\\AppData\\Local\\Programs\\Python\\Python38\\python.exe -m pip install --upgrade pip' command.\n"
     ]
    }
   ],
   "source": [
    "!pip install simpletransformers"
   ]
  },
  {
   "cell_type": "markdown",
   "metadata": {
    "id": "LLvG_LRTfEjY",
    "pycharm": {
     "name": "#%% md\n"
    }
   },
   "source": [
    "Import all necessary libraries and submodules"
   ]
  },
  {
   "cell_type": "code",
   "execution_count": 2,
   "metadata": {
    "id": "Li1oFN09cV9V",
    "pycharm": {
     "name": "#%%\n"
    }
   },
   "outputs": [
    {
     "name": "stderr",
     "output_type": "stream",
     "text": [
      "c:\\users\\kamran\\appdata\\local\\programs\\python\\python38\\lib\\site-packages\\setuptools\\distutils_patch.py:25: UserWarning: Distutils was imported before Setuptools. This usage is discouraged and may exhibit undesirable behaviors or errors. Please use Setuptools' objects directly or at least import Setuptools first.\n",
      "  warnings.warn(\n"
     ]
    }
   ],
   "source": [
    "import pandas as pd\n",
    "import numpy as np\n",
    "import tensorflow as tf\n",
    "import matplotlib.pyplot as plt\n",
    "import seaborn as sns\n",
    "from sklearn.model_selection import train_test_split\n",
    "import os\n",
    "import time\n",
    "import logging\n",
    "import torch\n",
    "import sklearn\n",
    "from simpletransformers.classification import ClassificationModel, ClassificationArgs"
   ]
  },
  {
   "cell_type": "markdown",
   "metadata": {
    "id": "n7jWgqWOcX93",
    "pycharm": {
     "name": "#%% md\n"
    }
   },
   "source": [
    "# Data Importing and PreProcessing"
   ]
  },
  {
   "cell_type": "markdown",
   "metadata": {
    "id": "5WVcxZFNcgd-",
    "pycharm": {
     "name": "#%% md\n"
    }
   },
   "source": [
    "The dataset is then imported into a Pandas dataframe object, with the labels as integers"
   ]
  },
  {
   "cell_type": "code",
   "execution_count": 3,
   "metadata": {
    "colab": {
     "base_uri": "https://localhost:8080/"
    },
    "id": "ubKLtcpRcv0E",
    "outputId": "b381b5df-ecfb-4b34-df2e-3de9352de233",
    "pycharm": {
     "name": "#%%\n"
    }
   },
   "outputs": [
    {
     "name": "stdout",
     "output_type": "stream",
     "text": [
      "File Found: daily_weather_training_data_normalized.csv\n"
     ]
    }
   ],
   "source": [
    "path = 'daily_weather_training_data_normalized.csv'\n",
    "\n",
    "if(os.path.exists(path)):\n",
    "  print('File Found:', path)\n",
    "  df = pd.read_csv(path, usecols=['text', 'label'], low_memory=True, dtype=str, encoding='utf-8')\n",
    "  df.head()\n",
    "else:\n",
    "  print(\"No File Found\")"
   ]
  },
  {
   "cell_type": "markdown",
   "metadata": {
    "id": "ISik7JHFdcuK",
    "pycharm": {
     "name": "#%% md\n"
    }
   },
   "source": [
    "Force Wrap the datatypes"
   ]
  },
  {
   "cell_type": "code",
   "execution_count": 4,
   "metadata": {
    "id": "j91cXGOcdl7g",
    "pycharm": {
     "name": "#%%\n"
    }
   },
   "outputs": [],
   "source": [
    "df['labels'] = df['label'].astype(int)\n",
    "df['text'] = df['text'].astype(str)"
   ]
  },
  {
   "cell_type": "markdown",
   "metadata": {
    "id": "fOdOArcVdO1_",
    "pycharm": {
     "name": "#%% md\n"
    }
   },
   "source": [
    "Visualize the dataset and ensure the correct number of labels are present. Standard bar graph visualizations are used for efficient data visualization. This helps validate the efficacy of the dataset."
   ]
  },
  {
   "cell_type": "code",
   "execution_count": 5,
   "metadata": {
    "colab": {
     "base_uri": "https://localhost:8080/"
    },
    "id": "UYzJRmEMdOoc",
    "outputId": "346f1381-ed68-4fb0-b9dd-98c479f7815f",
    "pycharm": {
     "name": "#%%\n"
    }
   },
   "outputs": [
    {
     "name": "stderr",
     "output_type": "stream",
     "text": [
      "c:\\users\\kamran\\appdata\\local\\programs\\python\\python38\\lib\\site-packages\\seaborn\\_decorators.py:36: FutureWarning: Pass the following variable as a keyword arg: x. From version 0.12, the only valid positional argument will be `data`, and passing other arguments without an explicit keyword will result in an error or misinterpretation.\n",
      "  warnings.warn(\n"
     ]
    },
    {
     "data": {
      "text/plain": [
       "<AxesSubplot:xlabel='labels', ylabel='count'>"
      ]
     },
     "execution_count": 5,
     "metadata": {},
     "output_type": "execute_result"
    },
    {
     "data": {
      "image/png": "[encoded data removed]",
      "text/plain": [
       "<Figure size 432x288 with 1 Axes>"
      ]
     },
     "metadata": {
      "needs_background": "light"
     },
     "output_type": "display_data"
    }
   ],
   "source": [
    "df['labels'].value_counts()\n",
    "sns.countplot(df.labels)"
   ]
  },
  {
   "cell_type": "markdown",
   "metadata": {
    "id": "a-x7GiR9ePTj",
    "pycharm": {
     "name": "#%% md\n"
    }
   },
   "source": [
    "Split into test and training dataframes"
   ]
  },
  {
   "cell_type": "code",
   "execution_count": 6,
   "metadata": {
    "id": "WyZ6MQpEePHT",
    "pycharm": {
     "name": "#%%\n"
    }
   },
   "outputs": [],
   "source": [
    "train,eval = train_test_split(df.astype(str),test_size=0.1)"
   ]
  },
  {
   "cell_type": "markdown",
   "metadata": {
    "id": "6xsLyIx4ehjR",
    "pycharm": {
     "name": "#%% md\n"
    }
   },
   "source": [
    "The test and training datasets are then prepared and the data is converted to that format. "
   ]
  },
  {
   "cell_type": "code",
   "execution_count": 7,
   "metadata": {
    "id": "e0cEEfEJebBq",
    "pycharm": {
     "name": "#%%\n"
    }
   },
   "outputs": [],
   "source": [
    "train_df = pd.DataFrame({\n",
    "    'text': train['text'],\n",
    "    'labels': train['labels']\n",
    "})\n",
    "train_df['labels'] = train_df['labels'].astype(int)\n",
    "train_df.columns = [\"text\", \"labels\"]\n",
    "\n",
    "eval_df = pd.DataFrame({\n",
    "    'text': eval['text'],\n",
    "    'labels': eval['labels']\n",
    "})\n",
    "eval_df['labels'] = eval_df['labels'].astype(int)\n",
    "eval_df.columns=[\"text\", \"labels\"]"
   ]
  },
  {
   "cell_type": "markdown",
   "metadata": {
    "id": "nZ5iUfzffQZe",
    "pycharm": {
     "name": "#%% md\n"
    }
   },
   "source": [
    "# Load the BERT Model"
   ]
  },
  {
   "cell_type": "markdown",
   "metadata": {
    "id": "LXHUxtNOe725",
    "pycharm": {
     "name": "#%% md\n"
    }
   },
   "source": [
    "The BERT Model is setup here with the sentiment classification model. The model uses 5 classes or labels. Each label is mapped to its respective class. BERT Base-cased is the pretrain used to recognize and tokenize with weight on character casing, essential in understanding more of the data.\n",
    "\n",
    "Word2Vec Embeddings are used as the tokenization algorithm is well known for its useful feature vectors for semantic analysis and classification. The default BERT tokenizer is better suited for question answering and language translation."
   ]
  },
  {
   "cell_type": "code",
   "execution_count": 8,
   "metadata": {
    "id": "3GRz6KxlfP-Q",
    "pycharm": {
     "name": "#%%\n"
    }
   },
   "outputs": [
    {
     "name": "stdout",
     "output_type": "stream",
     "text": [
      "GPU Available: False\n"
     ]
    },
    {
     "data": {
      "application/vnd.jupyter.widget-view+json": {
       "model_id": "1f4c2e0190d44f4b9ab09f3d45c0c38f",
       "version_major": 2,
       "version_minor": 0
      },
      "text/plain": [
       "Downloading:   0%|          | 0.00/659 [00:00<?, ?B/s]"
      ]
     },
     "metadata": {},
     "output_type": "display_data"
    },
    {
     "data": {
      "application/vnd.jupyter.widget-view+json": {
       "model_id": "6b2ad988ff844ef9b51c54b1fc9e5de7",
       "version_major": 2,
       "version_minor": 0
      },
      "text/plain": [
       "Downloading:   0%|          | 0.00/1.05G [00:00<?, ?B/s]"
      ]
     },
     "metadata": {},
     "output_type": "display_data"
    },
    {
     "name": "stderr",
     "output_type": "stream",
     "text": [
      "Some weights of BertForSequenceClassification were not initialized from the model checkpoint at nicoladecao/msmarco-word2vec256000-bert-base-uncased and are newly initialized: ['classifier.bias', 'classifier.weight']\n",
      "You should probably TRAIN this model on a down-stream task to be able to use it for predictions and inference.\n"
     ]
    },
    {
     "data": {
      "application/vnd.jupyter.widget-view+json": {
       "model_id": "dfba730021d547f98ce70fb59c175026",
       "version_major": 2,
       "version_minor": 0
      },
      "text/plain": [
       "Downloading:   0%|          | 0.00/183 [00:00<?, ?B/s]"
      ]
     },
     "metadata": {},
     "output_type": "display_data"
    },
    {
     "data": {
      "application/vnd.jupyter.widget-view+json": {
       "model_id": "4d41118a96f54c37a7db2b11ecc53e29",
       "version_major": 2,
       "version_minor": 0
      },
      "text/plain": [
       "Downloading:   0%|          | 0.00/4.06M [00:00<?, ?B/s]"
      ]
     },
     "metadata": {},
     "output_type": "display_data"
    },
    {
     "data": {
      "application/vnd.jupyter.widget-view+json": {
       "model_id": "6ff6c6436812449fa21738fdcad8e03c",
       "version_major": 2,
       "version_minor": 0
      },
      "text/plain": [
       "Downloading:   0%|          | 0.00/112 [00:00<?, ?B/s]"
      ]
     },
     "metadata": {},
     "output_type": "display_data"
    },
    {
     "name": "stderr",
     "output_type": "stream",
     "text": [
      "The tokenizer class you load from this checkpoint is not the same type as the class this function is called from. It may result in unexpected tokenization. \n",
      "The tokenizer class you load from this checkpoint is 'PreTrainedTokenizerFast'. \n",
      "The class this function is called from is 'BertTokenizerFast'.\n"
     ]
    }
   ],
   "source": [
    "# Logging for model\n",
    "logging.basicConfig(level=logging.INFO)\n",
    "transformers_logger = logging.getLogger(\"transformers\")\n",
    "transformers_logger.setLevel(logging.WARNING)\n",
    "\n",
    "train_gpu = torch.cuda.is_available()\n",
    "print('GPU Available:', train_gpu)\n",
    "\n",
    "# Create a TransformerModel\n",
    "model_args = ClassificationArgs(num_train_epochs=15, # Should be changed to 15 epochs on a compute cluster, single epoch training on colab vm\n",
    "                                reprocess_input_data=True,\n",
    "                                overwrite_output_dir=True,\n",
    "                                train_batch_size=1,\n",
    "                                )\n",
    "\n",
    "model = ClassificationModel('bert', 'nicoladecao/msmarco-word2vec256000-bert-base-uncased', num_labels=3, args=model_args, use_cuda=train_gpu) # Use the word2vec embeddings instead of the regular bert tokenizer\n",
    "#model = ClassificationModel('bert', \"bert-base-cased\", num_labels=3, args=model_args, use_cuda=train_gpu)\n",
    "#model = ClassificationModel('bert', \"/content/fasttexttokenizer.bin\", num_labels=3, args=model_args, use_cuda=train_gpu)"
   ]
  },
  {
   "cell_type": "markdown",
   "metadata": {
    "id": "HLP06jLvfYpE",
    "pycharm": {
     "name": "#%% md\n"
    }
   },
   "source": [
    "## Train the model\n",
    "Enable model checkpoint saves for runtime disconnect issue. This should have the model pick up training from the last downloaded checkpoint."
   ]
  },
  {
   "cell_type": "code",
   "execution_count": null,
   "metadata": {
    "colab": {
     "background_save": true
    },
    "id": "nlU6J8tfffr9",
    "pycharm": {
     "name": "#%%\n"
    }
   },
   "outputs": [
    {
     "name": "stderr",
     "output_type": "stream",
     "text": [
      "INFO:simpletransformers.classification.classification_utils: Converting to features started. Cache is not used.\n"
     ]
    },
    {
     "data": {
      "application/vnd.jupyter.widget-view+json": {
       "model_id": "0e925ef3192249109cc2ea8f5d6c7fbb",
       "version_major": 2,
       "version_minor": 0
      },
      "text/plain": [
       "  0%|          | 0/15989 [00:00<?, ?it/s]"
      ]
     },
     "metadata": {},
     "output_type": "display_data"
    },
    {
     "name": "stderr",
     "output_type": "stream",
     "text": [
      "INFO:simpletransformers.classification.classification_utils: Saving features into cached file cache_dir/cached_train_bert_128_3_2\n",
      "c:\\users\\kamran\\appdata\\local\\programs\\python\\python38\\lib\\site-packages\\transformers\\optimization.py:306: FutureWarning: This implementation of AdamW is deprecated and will be removed in a future version. Use the PyTorch implementation torch.optim.AdamW instead, or set `no_deprecation_warning=True` to disable this warning\n",
      "  warnings.warn(\n"
     ]
    },
    {
     "data": {
      "application/vnd.jupyter.widget-view+json": {
       "model_id": "1c94634f963941ff825568103df96d5b",
       "version_major": 2,
       "version_minor": 0
      },
      "text/plain": [
       "Epoch:   0%|          | 0/15 [00:00<?, ?it/s]"
      ]
     },
     "metadata": {},
     "output_type": "display_data"
    },
    {
     "data": {
      "application/vnd.jupyter.widget-view+json": {
       "model_id": "caba415044f146f49befe3985e870145",
       "version_major": 2,
       "version_minor": 0
      },
      "text/plain": [
       "Running Epoch 0 of 15:   0%|          | 0/15989 [00:00<?, ?it/s]"
      ]
     },
     "metadata": {},
     "output_type": "display_data"
    }
   ],
   "source": [
    "model.train_model(train_df, eval_df=eval_df)\n",
    "result, model_outputs, wrong_predictions = model.eval_model(eval_df)"
   ]
  },
  {
   "cell_type": "markdown",
   "metadata": {
    "id": "Fvd5I_txfrdp",
    "pycharm": {
     "name": "#%% md\n"
    }
   },
   "source": [
    "## Model Metrics and Performance\n",
    "SciKit is used to validate the model and test how the model performs when trained with this dataset. Anything above 90% is enough for the model to be considered useful and accurate."
   ]
  },
  {
   "cell_type": "code",
   "execution_count": null,
   "metadata": {
    "id": "Irq3D-JifuZp",
    "pycharm": {
     "name": "#%%\n"
    }
   },
   "outputs": [],
   "source": [
    "print(result)\n",
    "print(model_outputs)\n",
    "\n",
    "lst = []\n",
    "for arr in model_outputs:\n",
    "    lst.append(np.argmax(arr))\n",
    "\n",
    "true = eval_df['labels'].tolist()\n",
    "predicted = lst"
   ]
  },
  {
   "cell_type": "code",
   "execution_count": null,
   "metadata": {
    "colab": {
     "base_uri": "https://localhost:8080/",
     "height": 481
    },
    "id": "o7OtnhE4fxGd",
    "outputId": "81dbc74c-3010-447c-e66c-76232f49c789",
    "pycharm": {
     "name": "#%%\n"
    }
   },
   "outputs": [
    {
     "name": "stdout",
     "output_type": "stream",
     "text": [
      "[[599 282   0]\n",
      " [ 11 832   0]\n",
      " [ 77 681   0]]\n"
     ]
    },
    {
     "data": {
      "image/png": "[encoded data removed]",
      "text/plain": [
       "<Figure size 432x288 with 2 Axes>"
      ]
     },
     "metadata": {},
     "output_type": "display_data"
    },
    {
     "name": "stdout",
     "output_type": "stream",
     "text": [
      "Model Accuracy:  57.65511684125705 %\n",
      "Model Accuracy:  57.65511684125705 %\n"
     ]
    },
    {
     "name": "stderr",
     "output_type": "stream",
     "text": [
      "/usr/local/lib/python3.7/dist-packages/sklearn/metrics/_classification.py:1318: UndefinedMetricWarning: Precision and F-score are ill-defined and being set to 0.0 in labels with no predicted samples. Use `zero_division` parameter to control this behavior.\n",
      "  _warn_prf(average, modifier, msg_start, len(result))\n",
      "/usr/local/lib/python3.7/dist-packages/sklearn/metrics/_classification.py:1318: UndefinedMetricWarning: Precision and F-score are ill-defined and being set to 0.0 in labels with no predicted samples. Use `zero_division` parameter to control this behavior.\n",
      "  _warn_prf(average, modifier, msg_start, len(result))\n",
      "/usr/local/lib/python3.7/dist-packages/sklearn/metrics/_classification.py:1318: UndefinedMetricWarning: Precision and F-score are ill-defined and being set to 0.0 in labels with no predicted samples. Use `zero_division` parameter to control this behavior.\n",
      "  _warn_prf(average, modifier, msg_start, len(result))\n"
     ]
    }
   ],
   "source": [
    "mat = sklearn.metrics.confusion_matrix(true , predicted)\n",
    "print(mat)\n",
    "\n",
    "df_cm = pd.DataFrame(mat, range(3), range(3))\n",
    "\n",
    "sns.heatmap(df_cm, annot=True)\n",
    "plt.show()\n",
    "print('Model Accuracy: ', 100*sklearn.metrics.accuracy_score(true,predicted), '%')\n",
    "\n",
    "sklearn.metrics.classification_report(true,predicted,target_names=['positive','neutral','negative'])\n",
    "print('Model Accuracy: ', 100*sklearn.metrics.accuracy_score(true,predicted), '%')"
   ]
  },
  {
   "cell_type": "markdown",
   "metadata": {
    "id": "nDEnhwZVfzsX",
    "pycharm": {
     "name": "#%% md\n"
    }
   },
   "source": [
    "## Model Demo and Testing\n",
    "The get_result function allows for the model, to be loaded and use a mapped user interface for use and manual evaluation."
   ]
  },
  {
   "cell_type": "code",
   "execution_count": null,
   "metadata": {
    "id": "ZYlzKZKef2OP",
    "pycharm": {
     "name": "#%%\n"
    }
   },
   "outputs": [],
   "source": [
    "def get_result(statement):\n",
    "    result = model.predict([statement])\n",
    "    print(result)\n",
    "    pos = np.where(result[1][0] == np.amax(result[1][0]))\n",
    "    pos = int(pos[0])\n",
    "    #sentiment_dict = {0:'Flight-Planning',1:'Weather',2:'Emergency',3:'Ground-Operations', 4:'Communications'} # Convert the model outputs to the class names\n",
    "    sentiment_dict = {0:'negative', 1:'positive', 2:'neutral'}\n",
    "    print(sentiment_dict[pos])\n",
    "    return sentiment_dict[pos]"
   ]
  },
  {
   "cell_type": "markdown",
   "metadata": {
    "id": "fL8aL_82gYq-",
    "pycharm": {
     "name": "#%% md\n"
    }
   },
   "source": [
    "See a manually inputted phrase"
   ]
  },
  {
   "cell_type": "code",
   "execution_count": null,
   "metadata": {
    "id": "iA3iJKxogcPP",
    "pycharm": {
     "name": "#%%\n"
    }
   },
   "outputs": [],
   "source": [
    "print(get_result(input(\"Input Phrase:\")))"
   ]
  },
  {
   "cell_type": "markdown",
   "metadata": {
    "id": "Uy5JG581saxJ",
    "pycharm": {
     "name": "#%% md\n"
    }
   },
   "source": [
    "Pre-Fabricated phrases"
   ]
  },
  {
   "cell_type": "markdown",
   "metadata": {
    "id": "zmld36OLoT1h",
    "pycharm": {
     "name": "#%% md\n"
    }
   },
   "source": [
    "Should be positive"
   ]
  },
  {
   "cell_type": "code",
   "execution_count": null,
   "metadata": {
    "id": "SAnEB26QrwOw",
    "pycharm": {
     "name": "#%%\n"
    }
   },
   "outputs": [],
   "source": [
    "print(get_result(\"Clear weather throughout the day\"))"
   ]
  },
  {
   "cell_type": "markdown",
   "metadata": {
    "id": "jO3JyJXNoWeB",
    "pycharm": {
     "name": "#%% md\n"
    }
   },
   "source": [
    "Should be negative"
   ]
  },
  {
   "cell_type": "code",
   "execution_count": null,
   "metadata": {
    "id": "cTCEkB9Lr0mc",
    "pycharm": {
     "name": "#%%\n"
    }
   },
   "outputs": [],
   "source": [
    "print(get_result(\"heavy rain and low visibility in the morning\"))"
   ]
  },
  {
   "cell_type": "markdown",
   "metadata": {
    "id": "t6kWoXSGoYoU",
    "pycharm": {
     "name": "#%% md\n"
    }
   },
   "source": [
    "Should be neutral"
   ]
  },
  {
   "cell_type": "code",
   "execution_count": null,
   "metadata": {
    "id": "rpYn7WcksD4S",
    "pycharm": {
     "name": "#%%\n"
    }
   },
   "outputs": [],
   "source": [
    "print(get_result(\"partly cloudy\"))"
   ]
  },
  {
   "cell_type": "markdown",
   "metadata": {
    "id": "gWljFyGnAogU",
    "pycharm": {
     "name": "#%% md\n"
    }
   },
   "source": [
    "# Get Program Dependencies"
   ]
  },
  {
   "cell_type": "code",
   "execution_count": 3,
   "metadata": {
    "id": "qI50KLhHArxn",
    "pycharm": {
     "name": "#%%\n"
    }
   },
   "outputs": [],
   "source": [
    "!pip freeze > requirements.txt"
   ]
  }
 ],
 "metadata": {
  "accelerator": "GPU",
  "colab": {
   "collapsed_sections": [
    "vQe4MDRVYPJ7",
    "Fvd5I_txfrdp",
    "nDEnhwZVfzsX",
    "1VEZjmsegUcs"
   ],
   "name": "DRFServiceSegmentation.ipynb",
   "provenance": []
  },
  "kernelspec": {
   "display_name": "Python 3 (ipykernel)",
   "language": "python",
   "name": "python3"
  },
  "language_info": {
   "codemirror_mode": {
    "name": "ipython",
    "version": 3
   },
   "file_extension": ".py",
   "mimetype": "text/x-python",
   "name": "python",
   "nbconvert_exporter": "python",
   "pygments_lexer": "ipython3",
   "version": "3.8.9"
  }
 },
 "nbformat": 4,
 "nbformat_minor": 1
}
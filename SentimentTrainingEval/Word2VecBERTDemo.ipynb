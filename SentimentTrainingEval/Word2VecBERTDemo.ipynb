{
 "cells": [
  {
   "cell_type": "markdown",
   "source": [
    "# Word2Vec Tokenizer in BERT Demo\n",
    "A demonstration of the Word2Vec tokenizer in BERT for the semantic segmentation of Advanced Air Mobility Data Reasoning Fabric semantic recommendation engine."
   ],
   "metadata": {
    "collapsed": false,
    "pycharm": {
     "name": "#%% md\n"
    }
   }
  },
  {
   "cell_type": "markdown",
   "source": [
    "Import the BERT Model and tokenizer, then load them from the saved model."
   ],
   "metadata": {
    "collapsed": false
   }
  },
  {
   "cell_type": "code",
   "execution_count": 5,
   "outputs": [
    {
     "name": "stdout",
     "output_type": "stream",
     "text": [
      "Collecting simpletransformers\r\n",
      "  Using cached simpletransformers-0.63.6-py3-none-any.whl (249 kB)\r\n",
      "Requirement already satisfied: regex in /Users/kamranhussain/Documents/GitHub/bert-model-eval/venv/lib/python3.6/site-packages (from simpletransformers) (2022.3.2)\r\n",
      "Requirement already satisfied: scipy in /Users/kamranhussain/Documents/GitHub/bert-model-eval/venv/lib/python3.6/site-packages (from simpletransformers) (1.5.4)\r\n",
      "Collecting datasets\r\n",
      "  Using cached datasets-2.0.0-py3-none-any.whl (325 kB)\r\n",
      "Collecting streamlit\r\n",
      "  Using cached streamlit-1.8.1-py2.py3-none-any.whl (10.1 MB)\r\n",
      "Requirement already satisfied: numpy in /Users/kamranhussain/Documents/GitHub/bert-model-eval/venv/lib/python3.6/site-packages (from simpletransformers) (1.19.5)\r\n",
      "Collecting seqeval\r\n",
      "  Using cached seqeval-1.2.2-py3-none-any.whl\r\n",
      "Requirement already satisfied: pandas in /Users/kamranhussain/Documents/GitHub/bert-model-eval/venv/lib/python3.6/site-packages (from simpletransformers) (1.1.5)\r\n",
      "Requirement already satisfied: tensorboard in /Users/kamranhussain/Documents/GitHub/bert-model-eval/venv/lib/python3.6/site-packages (from simpletransformers) (2.6.0)\r\n",
      "Collecting transformers>=4.6.0\r\n",
      "  Using cached transformers-4.17.0-py3-none-any.whl (3.8 MB)\r\n",
      "Collecting sentencepiece\r\n",
      "  Using cached sentencepiece-0.1.96-cp36-cp36m-macosx_10_6_x86_64.whl (1.2 MB)\r\n",
      "Requirement already satisfied: requests in /Users/kamranhussain/Documents/GitHub/bert-model-eval/venv/lib/python3.6/site-packages (from simpletransformers) (2.27.1)\r\n",
      "Requirement already satisfied: scikit-learn in /Users/kamranhussain/Documents/GitHub/bert-model-eval/venv/lib/python3.6/site-packages (from simpletransformers) (0.24.2)\r\n",
      "Collecting tokenizers\r\n",
      "  Using cached tokenizers-0.11.6.tar.gz (221 kB)\r\n",
      "  Installing build dependencies ... \u001B[?25ldone\r\n",
      "\u001B[?25h  Getting requirements to build wheel ... \u001B[?25ldone\r\n",
      "\u001B[?25h  Preparing metadata (pyproject.toml) ... \u001B[?25ldone\r\n",
      "\u001B[?25hRequirement already satisfied: tqdm>=4.47.0 in /Users/kamranhussain/Documents/GitHub/bert-model-eval/venv/lib/python3.6/site-packages (from simpletransformers) (4.63.0)\r\n",
      "Collecting wandb>=0.10.32\r\n",
      "  Using cached wandb-0.12.11-py2.py3-none-any.whl (1.7 MB)\r\n",
      "Requirement already satisfied: importlib-resources in /Users/kamranhussain/Documents/GitHub/bert-model-eval/venv/lib/python3.6/site-packages (from tqdm>=4.47.0->simpletransformers) (5.4.0)\r\n",
      "Collecting huggingface-hub<1.0,>=0.1.0\r\n",
      "  Using cached huggingface_hub-0.4.0-py3-none-any.whl (67 kB)\r\n",
      "Collecting filelock\r\n",
      "  Using cached filelock-3.4.1-py3-none-any.whl (9.9 kB)\r\n",
      "Requirement already satisfied: importlib-metadata in /Users/kamranhussain/Documents/GitHub/bert-model-eval/venv/lib/python3.6/site-packages (from transformers>=4.6.0->simpletransformers) (4.8.3)\r\n",
      "Collecting sacremoses\r\n",
      "  Using cached sacremoses-0.0.49-py3-none-any.whl (895 kB)\r\n",
      "Requirement already satisfied: dataclasses in /Users/kamranhussain/Documents/GitHub/bert-model-eval/venv/lib/python3.6/site-packages (from transformers>=4.6.0->simpletransformers) (0.8)\r\n",
      "Collecting pyyaml>=5.1\r\n",
      "  Using cached PyYAML-6.0-cp36-cp36m-macosx_10_9_x86_64.whl (189 kB)\r\n",
      "Requirement already satisfied: packaging>=20.0 in /Users/kamranhussain/Documents/GitHub/bert-model-eval/venv/lib/python3.6/site-packages (from transformers>=4.6.0->simpletransformers) (21.3)\r\n",
      "Collecting yaspin>=1.0.0\r\n",
      "  Using cached yaspin-2.1.0-py3-none-any.whl (18 kB)\r\n",
      "Collecting GitPython>=1.0.0\r\n",
      "  Using cached GitPython-3.1.18-py3-none-any.whl (170 kB)\r\n",
      "Collecting psutil>=5.0.0\r\n",
      "  Using cached psutil-5.9.0-cp36-cp36m-macosx_10_9_x86_64.whl (238 kB)\r\n",
      "Collecting promise<3,>=2.0\r\n",
      "  Using cached promise-2.3-py3-none-any.whl\r\n",
      "Requirement already satisfied: protobuf>=3.12.0 in /Users/kamranhussain/Documents/GitHub/bert-model-eval/venv/lib/python3.6/site-packages (from wandb>=0.10.32->simpletransformers) (3.19.4)\r\n",
      "Collecting pathtools\r\n",
      "  Using cached pathtools-0.1.2-py3-none-any.whl\r\n",
      "Requirement already satisfied: Click!=8.0.0,>=7.0 in /Users/kamranhussain/Documents/GitHub/bert-model-eval/venv/lib/python3.6/site-packages (from wandb>=0.10.32->simpletransformers) (7.1.2)\r\n",
      "Collecting docker-pycreds>=0.4.0\r\n",
      "  Using cached docker_pycreds-0.4.0-py2.py3-none-any.whl (9.0 kB)\r\n",
      "Collecting sentry-sdk>=1.0.0\r\n",
      "  Using cached sentry_sdk-1.5.8-py2.py3-none-any.whl (144 kB)\r\n",
      "Collecting shortuuid>=0.5.0\r\n",
      "  Using cached shortuuid-1.0.8-py3-none-any.whl (9.5 kB)\r\n",
      "Collecting setproctitle\r\n",
      "  Using cached setproctitle-1.2.2-cp36-cp36m-macosx_10_9_x86_64.whl\r\n",
      "Requirement already satisfied: python-dateutil>=2.6.1 in /Users/kamranhussain/Documents/GitHub/bert-model-eval/venv/lib/python3.6/site-packages (from wandb>=0.10.32->simpletransformers) (2.8.2)\r\n",
      "Requirement already satisfied: six>=1.13.0 in /Users/kamranhussain/Documents/GitHub/bert-model-eval/venv/lib/python3.6/site-packages (from wandb>=0.10.32->simpletransformers) (1.15.0)\r\n",
      "Requirement already satisfied: idna<4,>=2.5 in /Users/kamranhussain/Documents/GitHub/bert-model-eval/venv/lib/python3.6/site-packages (from requests->simpletransformers) (3.3)\r\n",
      "Requirement already satisfied: certifi>=2017.4.17 in /Users/kamranhussain/Documents/GitHub/bert-model-eval/venv/lib/python3.6/site-packages (from requests->simpletransformers) (2021.10.8)\r\n",
      "Requirement already satisfied: charset-normalizer~=2.0.0 in /Users/kamranhussain/Documents/GitHub/bert-model-eval/venv/lib/python3.6/site-packages (from requests->simpletransformers) (2.0.12)\r\n",
      "Requirement already satisfied: urllib3<1.27,>=1.21.1 in /Users/kamranhussain/Documents/GitHub/bert-model-eval/venv/lib/python3.6/site-packages (from requests->simpletransformers) (1.26.8)\r\n",
      "Collecting fsspec[http]>=2021.05.0\r\n",
      "  Using cached fsspec-2022.1.0-py3-none-any.whl (133 kB)\r\n",
      "Collecting responses<0.19\r\n",
      "  Using cached responses-0.17.0-py2.py3-none-any.whl (38 kB)\r\n",
      "Collecting pyarrow>=5.0.0\r\n",
      "  Using cached pyarrow-6.0.1-cp36-cp36m-macosx_10_13_x86_64.whl (19.1 MB)\r\n",
      "Collecting xxhash\r\n",
      "  Using cached xxhash-3.0.0-cp36-cp36m-macosx_10_9_x86_64.whl (33 kB)\r\n",
      "Collecting dill\r\n",
      "  Using cached dill-0.3.4-py2.py3-none-any.whl (86 kB)\r\n",
      "Collecting aiohttp\r\n",
      "  Using cached aiohttp-3.8.1-cp36-cp36m-macosx_10_9_x86_64.whl (571 kB)\r\n",
      "Collecting multiprocess\r\n",
      "  Using cached multiprocess-0.70.12.2-py36-none-any.whl (106 kB)\r\n",
      "Requirement already satisfied: pytz>=2017.2 in /Users/kamranhussain/Documents/GitHub/bert-model-eval/venv/lib/python3.6/site-packages (from pandas->simpletransformers) (2021.3)\r\n",
      "Requirement already satisfied: joblib>=0.11 in /Users/kamranhussain/Documents/GitHub/bert-model-eval/venv/lib/python3.6/site-packages (from scikit-learn->simpletransformers) (1.1.0)\r\n",
      "Requirement already satisfied: threadpoolctl>=2.0.0 in /Users/kamranhussain/Documents/GitHub/bert-model-eval/venv/lib/python3.6/site-packages (from scikit-learn->simpletransformers) (3.1.0)\r\n",
      "Collecting pydeck>=0.1.dev5\r\n",
      "  Using cached pydeck-0.6.2-py2.py3-none-any.whl (4.2 MB)\r\n",
      "Requirement already satisfied: attrs in /Users/kamranhussain/Documents/GitHub/bert-model-eval/venv/lib/python3.6/site-packages (from streamlit->simpletransformers) (21.4.0)\r\n",
      "Collecting blinker\r\n",
      "  Using cached blinker-1.4-py3-none-any.whl\r\n",
      "Requirement already satisfied: tornado>=5.0 in /Users/kamranhussain/Documents/GitHub/bert-model-eval/venv/lib/python3.6/site-packages (from streamlit->simpletransformers) (6.1)\r\n",
      "Collecting tzlocal\r\n",
      "  Using cached tzlocal-4.1-py3-none-any.whl (19 kB)\r\n",
      "Requirement already satisfied: cachetools>=4.0 in /Users/kamranhussain/Documents/GitHub/bert-model-eval/venv/lib/python3.6/site-packages (from streamlit->simpletransformers) (4.2.4)\r\n",
      "Requirement already satisfied: typing-extensions in /Users/kamranhussain/Documents/GitHub/bert-model-eval/venv/lib/python3.6/site-packages (from streamlit->simpletransformers) (3.7.4.3)\r\n",
      "Requirement already satisfied: pillow>=6.2.0 in /Users/kamranhussain/Documents/GitHub/bert-model-eval/venv/lib/python3.6/site-packages (from streamlit->simpletransformers) (8.4.0)\r\n",
      "Collecting pympler>=0.9\r\n",
      "  Using cached Pympler-1.0.1-py3-none-any.whl (164 kB)\r\n",
      "Collecting semver\r\n",
      "  Using cached semver-2.13.0-py2.py3-none-any.whl (12 kB)\r\n",
      "Collecting validators\r\n",
      "  Using cached validators-0.18.2-py3-none-any.whl (19 kB)\r\n",
      "Collecting altair>=3.2.0\r\n",
      "  Using cached altair-4.1.0-py3-none-any.whl (727 kB)\r\n",
      "Collecting toml\r\n",
      "  Using cached toml-0.10.2-py2.py3-none-any.whl (16 kB)\r\n",
      "Requirement already satisfied: tensorboard-plugin-wit>=1.6.0 in /Users/kamranhussain/Documents/GitHub/bert-model-eval/venv/lib/python3.6/site-packages (from tensorboard->simpletransformers) (1.8.1)\r\n",
      "Requirement already satisfied: absl-py>=0.4 in /Users/kamranhussain/Documents/GitHub/bert-model-eval/venv/lib/python3.6/site-packages (from tensorboard->simpletransformers) (0.15.0)\r\n",
      "Requirement already satisfied: tensorboard-data-server<0.7.0,>=0.6.0 in /Users/kamranhussain/Documents/GitHub/bert-model-eval/venv/lib/python3.6/site-packages (from tensorboard->simpletransformers) (0.6.1)\r\n",
      "Requirement already satisfied: wheel>=0.26 in /Users/kamranhussain/Documents/GitHub/bert-model-eval/venv/lib/python3.6/site-packages (from tensorboard->simpletransformers) (0.36.2)\r\n",
      "Requirement already satisfied: setuptools>=41.0.0 in /Users/kamranhussain/Documents/GitHub/bert-model-eval/venv/lib/python3.6/site-packages (from tensorboard->simpletransformers) (57.0.0)\r\n",
      "Requirement already satisfied: google-auth-oauthlib<0.5,>=0.4.1 in /Users/kamranhussain/Documents/GitHub/bert-model-eval/venv/lib/python3.6/site-packages (from tensorboard->simpletransformers) (0.4.6)\r\n",
      "Requirement already satisfied: werkzeug>=0.11.15 in /Users/kamranhussain/Documents/GitHub/bert-model-eval/venv/lib/python3.6/site-packages (from tensorboard->simpletransformers) (2.0.3)\r\n",
      "Requirement already satisfied: grpcio>=1.24.3 in /Users/kamranhussain/Documents/GitHub/bert-model-eval/venv/lib/python3.6/site-packages (from tensorboard->simpletransformers) (1.43.0)\r\n",
      "Requirement already satisfied: google-auth<2,>=1.6.3 in /Users/kamranhussain/Documents/GitHub/bert-model-eval/venv/lib/python3.6/site-packages (from tensorboard->simpletransformers) (1.35.0)\r\n",
      "Requirement already satisfied: markdown>=2.6.8 in /Users/kamranhussain/Documents/GitHub/bert-model-eval/venv/lib/python3.6/site-packages (from tensorboard->simpletransformers) (3.3.6)\r\n",
      "Requirement already satisfied: entrypoints in /Users/kamranhussain/Documents/GitHub/bert-model-eval/venv/lib/python3.6/site-packages (from altair>=3.2.0->streamlit->simpletransformers) (0.4)\r\n",
      "Collecting toolz\r\n",
      "  Using cached toolz-0.11.2-py3-none-any.whl (55 kB)\r\n",
      "Requirement already satisfied: jsonschema in /Users/kamranhussain/Documents/GitHub/bert-model-eval/venv/lib/python3.6/site-packages (from altair>=3.2.0->streamlit->simpletransformers) (3.2.0)\r\n",
      "Requirement already satisfied: jinja2 in /Users/kamranhussain/Documents/GitHub/bert-model-eval/venv/lib/python3.6/site-packages (from altair>=3.2.0->streamlit->simpletransformers) (3.0.3)\r\n",
      "Collecting gitdb<5,>=4.0.1\r\n",
      "  Using cached gitdb-4.0.9-py3-none-any.whl (63 kB)\r\n",
      "Requirement already satisfied: rsa<5,>=3.1.4 in /Users/kamranhussain/Documents/GitHub/bert-model-eval/venv/lib/python3.6/site-packages (from google-auth<2,>=1.6.3->tensorboard->simpletransformers) (4.8)\r\n",
      "Requirement already satisfied: pyasn1-modules>=0.2.1 in /Users/kamranhussain/Documents/GitHub/bert-model-eval/venv/lib/python3.6/site-packages (from google-auth<2,>=1.6.3->tensorboard->simpletransformers) (0.2.8)\r\n",
      "Requirement already satisfied: requests-oauthlib>=0.7.0 in /Users/kamranhussain/Documents/GitHub/bert-model-eval/venv/lib/python3.6/site-packages (from google-auth-oauthlib<0.5,>=0.4.1->tensorboard->simpletransformers) (1.3.1)\r\n",
      "Requirement already satisfied: zipp>=0.5 in /Users/kamranhussain/Documents/GitHub/bert-model-eval/venv/lib/python3.6/site-packages (from importlib-metadata->transformers>=4.6.0->simpletransformers) (3.6.0)\r\n",
      "Requirement already satisfied: pyparsing!=3.0.5,>=2.0.2 in /Users/kamranhussain/Documents/GitHub/bert-model-eval/venv/lib/python3.6/site-packages (from packaging>=20.0->transformers>=4.6.0->simpletransformers) (3.0.7)\r\n",
      "Requirement already satisfied: ipykernel>=5.1.2 in /Users/kamranhussain/Documents/GitHub/bert-model-eval/venv/lib/python3.6/site-packages (from pydeck>=0.1.dev5->streamlit->simpletransformers) (5.5.6)\r\n",
      "Requirement already satisfied: ipywidgets>=7.0.0 in /Users/kamranhussain/Documents/GitHub/bert-model-eval/venv/lib/python3.6/site-packages (from pydeck>=0.1.dev5->streamlit->simpletransformers) (7.6.5)\r\n",
      "Requirement already satisfied: traitlets>=4.3.2 in /Users/kamranhussain/Documents/GitHub/bert-model-eval/venv/lib/python3.6/site-packages (from pydeck>=0.1.dev5->streamlit->simpletransformers) (4.3.3)\r\n",
      "Requirement already satisfied: termcolor<2.0.0,>=1.1.0 in /Users/kamranhussain/Documents/GitHub/bert-model-eval/venv/lib/python3.6/site-packages (from yaspin>=1.0.0->wandb>=0.10.32->simpletransformers) (1.1.0)\r\n",
      "Collecting frozenlist>=1.1.1\r\n",
      "  Using cached frozenlist-1.2.0-cp36-cp36m-macosx_10_9_x86_64.whl (81 kB)\r\n",
      "Collecting aiosignal>=1.1.2\r\n",
      "  Using cached aiosignal-1.2.0-py3-none-any.whl (8.2 kB)\r\n",
      "Collecting yarl<2.0,>=1.0\r\n",
      "  Using cached yarl-1.7.2-cp36-cp36m-macosx_10_9_x86_64.whl (120 kB)\r\n",
      "Collecting idna-ssl>=1.0\r\n",
      "  Using cached idna_ssl-1.1.0-py3-none-any.whl\r\n",
      "Collecting async-timeout<5.0,>=4.0.0a3\r\n",
      "  Using cached async_timeout-4.0.2-py3-none-any.whl (5.8 kB)\r\n",
      "Collecting asynctest==0.13.0\r\n",
      "  Using cached asynctest-0.13.0-py3-none-any.whl (26 kB)\r\n",
      "Collecting multidict<7.0,>=4.5\r\n",
      "  Using cached multidict-5.2.0-cp36-cp36m-macosx_10_9_x86_64.whl (45 kB)\r\n",
      "Collecting pytz-deprecation-shim\r\n",
      "  Using cached pytz_deprecation_shim-0.1.0.post0-py2.py3-none-any.whl (15 kB)\r\n",
      "Collecting backports.zoneinfo\r\n",
      "  Using cached backports.zoneinfo-0.2.1-cp36-cp36m-macosx_10_14_x86_64.whl (35 kB)\r\n",
      "Requirement already satisfied: decorator>=3.4.0 in /Users/kamranhussain/Documents/GitHub/bert-model-eval/venv/lib/python3.6/site-packages (from validators->streamlit->simpletransformers) (5.1.1)\r\n",
      "Collecting smmap<6,>=3.0.1\r\n",
      "  Using cached smmap-5.0.0-py3-none-any.whl (24 kB)\r\n",
      "Requirement already satisfied: ipython>=5.0.0 in /Users/kamranhussain/Documents/GitHub/bert-model-eval/venv/lib/python3.6/site-packages (from ipykernel>=5.1.2->pydeck>=0.1.dev5->streamlit->simpletransformers) (7.16.3)\r\n",
      "Requirement already satisfied: appnope in /Users/kamranhussain/Documents/GitHub/bert-model-eval/venv/lib/python3.6/site-packages (from ipykernel>=5.1.2->pydeck>=0.1.dev5->streamlit->simpletransformers) (0.1.2)\r\n",
      "Requirement already satisfied: ipython-genutils in /Users/kamranhussain/Documents/GitHub/bert-model-eval/venv/lib/python3.6/site-packages (from ipykernel>=5.1.2->pydeck>=0.1.dev5->streamlit->simpletransformers) (0.2.0)\r\n",
      "Requirement already satisfied: jupyter-client in /Users/kamranhussain/Documents/GitHub/bert-model-eval/venv/lib/python3.6/site-packages (from ipykernel>=5.1.2->pydeck>=0.1.dev5->streamlit->simpletransformers) (7.1.2)\r\n",
      "Requirement already satisfied: nbformat>=4.2.0 in /Users/kamranhussain/Documents/GitHub/bert-model-eval/venv/lib/python3.6/site-packages (from ipywidgets>=7.0.0->pydeck>=0.1.dev5->streamlit->simpletransformers) (5.1.3)\r\n",
      "Requirement already satisfied: jupyterlab-widgets>=1.0.0 in /Users/kamranhussain/Documents/GitHub/bert-model-eval/venv/lib/python3.6/site-packages (from ipywidgets>=7.0.0->pydeck>=0.1.dev5->streamlit->simpletransformers) (1.0.2)\r\n",
      "Requirement already satisfied: widgetsnbextension~=3.5.0 in /Users/kamranhussain/Documents/GitHub/bert-model-eval/venv/lib/python3.6/site-packages (from ipywidgets>=7.0.0->pydeck>=0.1.dev5->streamlit->simpletransformers) (3.5.2)\r\n",
      "Requirement already satisfied: MarkupSafe>=2.0 in /Users/kamranhussain/Documents/GitHub/bert-model-eval/venv/lib/python3.6/site-packages (from jinja2->altair>=3.2.0->streamlit->simpletransformers) (2.0.1)\r\n",
      "Requirement already satisfied: pyasn1<0.5.0,>=0.4.6 in /Users/kamranhussain/Documents/GitHub/bert-model-eval/venv/lib/python3.6/site-packages (from pyasn1-modules>=0.2.1->google-auth<2,>=1.6.3->tensorboard->simpletransformers) (0.4.8)\r\n",
      "Requirement already satisfied: oauthlib>=3.0.0 in /Users/kamranhussain/Documents/GitHub/bert-model-eval/venv/lib/python3.6/site-packages (from requests-oauthlib>=0.7.0->google-auth-oauthlib<0.5,>=0.4.1->tensorboard->simpletransformers) (3.2.0)\r\n",
      "Requirement already satisfied: pyrsistent>=0.14.0 in /Users/kamranhussain/Documents/GitHub/bert-model-eval/venv/lib/python3.6/site-packages (from jsonschema->altair>=3.2.0->streamlit->simpletransformers) (0.18.0)\r\n",
      "Collecting tzdata\r\n",
      "  Using cached tzdata-2022.1-py2.py3-none-any.whl (339 kB)\r\n",
      "Requirement already satisfied: jedi<=0.17.2,>=0.10 in /Users/kamranhussain/Documents/GitHub/bert-model-eval/venv/lib/python3.6/site-packages (from ipython>=5.0.0->ipykernel>=5.1.2->pydeck>=0.1.dev5->streamlit->simpletransformers) (0.17.2)\r\n",
      "Requirement already satisfied: prompt-toolkit!=3.0.0,!=3.0.1,<3.1.0,>=2.0.0 in /Users/kamranhussain/Documents/GitHub/bert-model-eval/venv/lib/python3.6/site-packages (from ipython>=5.0.0->ipykernel>=5.1.2->pydeck>=0.1.dev5->streamlit->simpletransformers) (3.0.28)\r\n",
      "Requirement already satisfied: pygments in /Users/kamranhussain/Documents/GitHub/bert-model-eval/venv/lib/python3.6/site-packages (from ipython>=5.0.0->ipykernel>=5.1.2->pydeck>=0.1.dev5->streamlit->simpletransformers) (2.11.2)\r\n",
      "Requirement already satisfied: pickleshare in /Users/kamranhussain/Documents/GitHub/bert-model-eval/venv/lib/python3.6/site-packages (from ipython>=5.0.0->ipykernel>=5.1.2->pydeck>=0.1.dev5->streamlit->simpletransformers) (0.7.5)\r\n",
      "Requirement already satisfied: backcall in /Users/kamranhussain/Documents/GitHub/bert-model-eval/venv/lib/python3.6/site-packages (from ipython>=5.0.0->ipykernel>=5.1.2->pydeck>=0.1.dev5->streamlit->simpletransformers) (0.2.0)\r\n",
      "Requirement already satisfied: pexpect in /Users/kamranhussain/Documents/GitHub/bert-model-eval/venv/lib/python3.6/site-packages (from ipython>=5.0.0->ipykernel>=5.1.2->pydeck>=0.1.dev5->streamlit->simpletransformers) (4.8.0)\r\n",
      "Requirement already satisfied: jupyter-core in /Users/kamranhussain/Documents/GitHub/bert-model-eval/venv/lib/python3.6/site-packages (from nbformat>=4.2.0->ipywidgets>=7.0.0->pydeck>=0.1.dev5->streamlit->simpletransformers) (4.9.1)\r\n",
      "Requirement already satisfied: notebook>=4.4.1 in /Users/kamranhussain/Documents/GitHub/bert-model-eval/venv/lib/python3.6/site-packages (from widgetsnbextension~=3.5.0->ipywidgets>=7.0.0->pydeck>=0.1.dev5->streamlit->simpletransformers) (6.4.8)\r\n",
      "Requirement already satisfied: nest-asyncio>=1.5 in /Users/kamranhussain/Documents/GitHub/bert-model-eval/venv/lib/python3.6/site-packages (from jupyter-client->ipykernel>=5.1.2->pydeck>=0.1.dev5->streamlit->simpletransformers) (1.5.4)\r\n",
      "Requirement already satisfied: pyzmq>=13 in /Users/kamranhussain/Documents/GitHub/bert-model-eval/venv/lib/python3.6/site-packages (from jupyter-client->ipykernel>=5.1.2->pydeck>=0.1.dev5->streamlit->simpletransformers) (22.3.0)\r\n",
      "Requirement already satisfied: parso<0.8.0,>=0.7.0 in /Users/kamranhussain/Documents/GitHub/bert-model-eval/venv/lib/python3.6/site-packages (from jedi<=0.17.2,>=0.10->ipython>=5.0.0->ipykernel>=5.1.2->pydeck>=0.1.dev5->streamlit->simpletransformers) (0.7.1)\r\n",
      "Requirement already satisfied: Send2Trash>=1.8.0 in /Users/kamranhussain/Documents/GitHub/bert-model-eval/venv/lib/python3.6/site-packages (from notebook>=4.4.1->widgetsnbextension~=3.5.0->ipywidgets>=7.0.0->pydeck>=0.1.dev5->streamlit->simpletransformers) (1.8.0)\r\n",
      "Requirement already satisfied: argon2-cffi in /Users/kamranhussain/Documents/GitHub/bert-model-eval/venv/lib/python3.6/site-packages (from notebook>=4.4.1->widgetsnbextension~=3.5.0->ipywidgets>=7.0.0->pydeck>=0.1.dev5->streamlit->simpletransformers) (21.3.0)\r\n",
      "Requirement already satisfied: prometheus-client in /Users/kamranhussain/Documents/GitHub/bert-model-eval/venv/lib/python3.6/site-packages (from notebook>=4.4.1->widgetsnbextension~=3.5.0->ipywidgets>=7.0.0->pydeck>=0.1.dev5->streamlit->simpletransformers) (0.13.1)\r\n",
      "Requirement already satisfied: nbconvert in /Users/kamranhussain/Documents/GitHub/bert-model-eval/venv/lib/python3.6/site-packages (from notebook>=4.4.1->widgetsnbextension~=3.5.0->ipywidgets>=7.0.0->pydeck>=0.1.dev5->streamlit->simpletransformers) (6.0.7)\r\n",
      "Requirement already satisfied: terminado>=0.8.3 in /Users/kamranhussain/Documents/GitHub/bert-model-eval/venv/lib/python3.6/site-packages (from notebook>=4.4.1->widgetsnbextension~=3.5.0->ipywidgets>=7.0.0->pydeck>=0.1.dev5->streamlit->simpletransformers) (0.12.1)\r\n",
      "Requirement already satisfied: wcwidth in /Users/kamranhussain/Documents/GitHub/bert-model-eval/venv/lib/python3.6/site-packages (from prompt-toolkit!=3.0.0,!=3.0.1,<3.1.0,>=2.0.0->ipython>=5.0.0->ipykernel>=5.1.2->pydeck>=0.1.dev5->streamlit->simpletransformers) (0.2.5)\r\n",
      "Requirement already satisfied: ptyprocess>=0.5 in /Users/kamranhussain/Documents/GitHub/bert-model-eval/venv/lib/python3.6/site-packages (from pexpect->ipython>=5.0.0->ipykernel>=5.1.2->pydeck>=0.1.dev5->streamlit->simpletransformers) (0.7.0)\r\n",
      "Requirement already satisfied: argon2-cffi-bindings in /Users/kamranhussain/Documents/GitHub/bert-model-eval/venv/lib/python3.6/site-packages (from argon2-cffi->notebook>=4.4.1->widgetsnbextension~=3.5.0->ipywidgets>=7.0.0->pydeck>=0.1.dev5->streamlit->simpletransformers) (21.2.0)\r\n",
      "Requirement already satisfied: nbclient<0.6.0,>=0.5.0 in /Users/kamranhussain/Documents/GitHub/bert-model-eval/venv/lib/python3.6/site-packages (from nbconvert->notebook>=4.4.1->widgetsnbextension~=3.5.0->ipywidgets>=7.0.0->pydeck>=0.1.dev5->streamlit->simpletransformers) (0.5.9)\r\n",
      "Requirement already satisfied: mistune<2,>=0.8.1 in /Users/kamranhussain/Documents/GitHub/bert-model-eval/venv/lib/python3.6/site-packages (from nbconvert->notebook>=4.4.1->widgetsnbextension~=3.5.0->ipywidgets>=7.0.0->pydeck>=0.1.dev5->streamlit->simpletransformers) (0.8.4)\r\n",
      "Requirement already satisfied: jupyterlab-pygments in /Users/kamranhussain/Documents/GitHub/bert-model-eval/venv/lib/python3.6/site-packages (from nbconvert->notebook>=4.4.1->widgetsnbextension~=3.5.0->ipywidgets>=7.0.0->pydeck>=0.1.dev5->streamlit->simpletransformers) (0.1.2)\r\n",
      "Requirement already satisfied: pandocfilters>=1.4.1 in /Users/kamranhussain/Documents/GitHub/bert-model-eval/venv/lib/python3.6/site-packages (from nbconvert->notebook>=4.4.1->widgetsnbextension~=3.5.0->ipywidgets>=7.0.0->pydeck>=0.1.dev5->streamlit->simpletransformers) (1.5.0)\r\n",
      "Requirement already satisfied: testpath in /Users/kamranhussain/Documents/GitHub/bert-model-eval/venv/lib/python3.6/site-packages (from nbconvert->notebook>=4.4.1->widgetsnbextension~=3.5.0->ipywidgets>=7.0.0->pydeck>=0.1.dev5->streamlit->simpletransformers) (0.5.0)\r\n",
      "Requirement already satisfied: bleach in /Users/kamranhussain/Documents/GitHub/bert-model-eval/venv/lib/python3.6/site-packages (from nbconvert->notebook>=4.4.1->widgetsnbextension~=3.5.0->ipywidgets>=7.0.0->pydeck>=0.1.dev5->streamlit->simpletransformers) (4.1.0)\r\n",
      "Requirement already satisfied: defusedxml in /Users/kamranhussain/Documents/GitHub/bert-model-eval/venv/lib/python3.6/site-packages (from nbconvert->notebook>=4.4.1->widgetsnbextension~=3.5.0->ipywidgets>=7.0.0->pydeck>=0.1.dev5->streamlit->simpletransformers) (0.7.1)\r\n",
      "Requirement already satisfied: async-generator in /Users/kamranhussain/Documents/GitHub/bert-model-eval/venv/lib/python3.6/site-packages (from nbclient<0.6.0,>=0.5.0->nbconvert->notebook>=4.4.1->widgetsnbextension~=3.5.0->ipywidgets>=7.0.0->pydeck>=0.1.dev5->streamlit->simpletransformers) (1.10)\r\n",
      "Requirement already satisfied: cffi>=1.0.1 in /Users/kamranhussain/Documents/GitHub/bert-model-eval/venv/lib/python3.6/site-packages (from argon2-cffi-bindings->argon2-cffi->notebook>=4.4.1->widgetsnbextension~=3.5.0->ipywidgets>=7.0.0->pydeck>=0.1.dev5->streamlit->simpletransformers) (1.15.0)\r\n",
      "Requirement already satisfied: webencodings in /Users/kamranhussain/Documents/GitHub/bert-model-eval/venv/lib/python3.6/site-packages (from bleach->nbconvert->notebook>=4.4.1->widgetsnbextension~=3.5.0->ipywidgets>=7.0.0->pydeck>=0.1.dev5->streamlit->simpletransformers) (0.5.1)\r\n",
      "Requirement already satisfied: pycparser in /Users/kamranhussain/Documents/GitHub/bert-model-eval/venv/lib/python3.6/site-packages (from cffi>=1.0.1->argon2-cffi-bindings->argon2-cffi->notebook>=4.4.1->widgetsnbextension~=3.5.0->ipywidgets>=7.0.0->pydeck>=0.1.dev5->streamlit->simpletransformers) (2.21)\r\n",
      "Building wheels for collected packages: tokenizers\r\n",
      "  Building wheel for tokenizers (pyproject.toml) ... \u001B[?25ldone\r\n",
      "\u001B[?25h  Created wheel for tokenizers: filename=tokenizers-0.11.6-cp36-cp36m-macosx_12_0_x86_64.whl size=3623557 sha256=305d45acffcf8dd9f0ac8adac9414008e0abab42b65dda41c977fa33446c6c85\r\n",
      "  Stored in directory: /Users/kamranhussain/Library/Caches/pip/wheels/d3/a9/4d/1b1fd5d97950ed2500a408ee56e1670fbf9de5b8153bc33637\r\n",
      "Successfully built tokenizers\r\n",
      "Installing collected packages: multidict, frozenlist, yarl, tzdata, smmap, idna-ssl, backports.zoneinfo, asynctest, async-timeout, aiosignal, toolz, pyyaml, pytz-deprecation-shim, gitdb, fsspec, filelock, dill, aiohttp, yaspin, xxhash, validators, tzlocal, toml, tokenizers, shortuuid, setproctitle, sentry-sdk, semver, sacremoses, responses, pympler, pydeck, pyarrow, psutil, promise, pathtools, multiprocess, huggingface-hub, GitPython, docker-pycreds, blinker, altair, wandb, transformers, streamlit, seqeval, sentencepiece, datasets, simpletransformers\r\n",
      "Successfully installed GitPython-3.1.18 aiohttp-3.8.1 aiosignal-1.2.0 altair-4.1.0 async-timeout-4.0.2 asynctest-0.13.0 backports.zoneinfo-0.2.1 blinker-1.4 datasets-2.0.0 dill-0.3.4 docker-pycreds-0.4.0 filelock-3.4.1 frozenlist-1.2.0 fsspec-2022.1.0 gitdb-4.0.9 huggingface-hub-0.4.0 idna-ssl-1.1.0 multidict-5.2.0 multiprocess-0.70.12.2 pathtools-0.1.2 promise-2.3 psutil-5.9.0 pyarrow-6.0.1 pydeck-0.6.2 pympler-1.0.1 pytz-deprecation-shim-0.1.0.post0 pyyaml-6.0 responses-0.17.0 sacremoses-0.0.49 semver-2.13.0 sentencepiece-0.1.96 sentry-sdk-1.5.8 seqeval-1.2.2 setproctitle-1.2.2 shortuuid-1.0.8 simpletransformers-0.63.6 smmap-5.0.0 streamlit-1.8.1 tokenizers-0.11.6 toml-0.10.2 toolz-0.11.2 transformers-4.17.0 tzdata-2022.1 tzlocal-4.1 validators-0.18.2 wandb-0.12.11 xxhash-3.0.0 yarl-1.7.2 yaspin-2.1.0\r\n"
     ]
    }
   ],
   "source": [
    "!pip install simpletransformers"
   ],
   "metadata": {
    "collapsed": false,
    "pycharm": {
     "name": "#%%\n"
    }
   }
  },
  {
   "cell_type": "code",
   "execution_count": 2,
   "metadata": {
    "collapsed": true
   },
   "outputs": [
    {
     "name": "stdout",
     "output_type": "stream",
     "text": [
      "GPU Available: False\n"
     ]
    }
   ],
   "source": [
    "import torch\n",
    "from simpletransformers.classification import ClassificationModel, ClassificationArgs\n",
    "import logging\n",
    "import numpy as np\n",
    "\n",
    "# Logging for model\n",
    "logging.basicConfig(level=logging.INFO)\n",
    "transformers_logger = logging.getLogger(\"transformers\")\n",
    "transformers_logger.setLevel(logging.WARNING)\n",
    "\n",
    "train_gpu = torch.cuda.is_available()\n",
    "print('GPU Available:', train_gpu)\n",
    "\n",
    "# Create a TransformerModel\n",
    "model_args = ClassificationArgs(num_train_epochs=2,\n",
    "                                reprocess_input_data=True,\n",
    "                                overwrite_output_dir=True,\n",
    "                                train_batch_size=1,\n",
    "                                )\n",
    "\n",
    "model = ClassificationModel('bert', '/Users/kamranhussain/Documents/GitHub/bert-model-eval/outputs/checkpoint-7702-epoch-1/', num_labels=3, args=model_args, use_cuda=False)"
   ]
  },
  {
   "cell_type": "markdown",
   "source": [
    "Prepare the model for evaluation and processing. Then request input from the user."
   ],
   "metadata": {
    "collapsed": false
   }
  },
  {
   "cell_type": "code",
   "execution_count": 4,
   "outputs": [
    {
     "name": "stderr",
     "output_type": "stream",
     "text": [
      "Warning : `load_model` does not return WordVectorModel or SupervisedModel any more, but a `FastText` object which is very similar.\n"
     ]
    }
   ],
   "source": [
    "import fasttext\n",
    "token = fasttext.load_model('/Users/kamranhussain/Documents/GitHub/bert-model-eval/Tokenizers/fasttexttokenizer.bin')"
   ],
   "metadata": {
    "collapsed": false,
    "pycharm": {
     "name": "#%%\n"
    }
   }
  },
  {
   "cell_type": "code",
   "execution_count": 5,
   "outputs": [
    {
     "name": "stderr",
     "output_type": "stream",
     "text": [
      "INFO:simpletransformers.classification.classification_utils: Converting to features started. Cache is not used.\n"
     ]
    },
    {
     "data": {
      "text/plain": "  0%|          | 0/1 [00:00<?, ?it/s]",
      "application/vnd.jupyter.widget-view+json": {
       "version_major": 2,
       "version_minor": 0,
       "model_id": "d9f0c24652f64d78975d6c2858fe84e9"
      }
     },
     "metadata": {},
     "output_type": "display_data"
    },
    {
     "ename": "ValueError",
     "evalue": "text input must of type `str` (single example), `List[str]` (batch or single pretokenized example) or `List[List[str]]` (batch of pretokenized examples).",
     "output_type": "error",
     "traceback": [
      "\u001B[0;31m---------------------------------------------------------------------------\u001B[0m",
      "\u001B[0;31mRemoteTraceback\u001B[0m                           Traceback (most recent call last)",
      "\u001B[0;31mRemoteTraceback\u001B[0m: \n\"\"\"\nTraceback (most recent call last):\n  File \"/Library/Frameworks/Python.framework/Versions/3.6/lib/python3.6/multiprocessing/pool.py\", line 119, in worker\n    result = (True, func(*args, **kwds))\n  File \"/Users/kamranhussain/Documents/GitHub/bert-model-eval/venv/lib/python3.6/site-packages/simpletransformers/classification/classification_utils.py\", line 127, in preprocess_data_multiprocessing\n    return_tensors=\"pt\",\n  File \"/Users/kamranhussain/Documents/GitHub/bert-model-eval/venv/lib/python3.6/site-packages/transformers/tokenization_utils_base.py\", line 2438, in __call__\n    \"text input must of type `str` (single example), `List[str]` (batch or single pretokenized example) \"\nValueError: text input must of type `str` (single example), `List[str]` (batch or single pretokenized example) or `List[List[str]]` (batch of pretokenized examples).\n\"\"\"",
      "\nThe above exception was the direct cause of the following exception:\n",
      "\u001B[0;31mValueError\u001B[0m                                Traceback (most recent call last)",
      "\u001B[0;32m<ipython-input-5-84e1cb416ad0>\u001B[0m in \u001B[0;36m<module>\u001B[0;34m\u001B[0m\n\u001B[1;32m      8\u001B[0m     \u001B[0;32mreturn\u001B[0m \u001B[0msentiment_dict\u001B[0m\u001B[0;34m[\u001B[0m\u001B[0mpos\u001B[0m\u001B[0;34m]\u001B[0m\u001B[0;34m\u001B[0m\u001B[0;34m\u001B[0m\u001B[0m\n\u001B[1;32m      9\u001B[0m \u001B[0;34m\u001B[0m\u001B[0m\n\u001B[0;32m---> 10\u001B[0;31m \u001B[0msentiment\u001B[0m \u001B[0;34m=\u001B[0m \u001B[0mget_result\u001B[0m\u001B[0;34m(\u001B[0m\u001B[0mtoken\u001B[0m\u001B[0;34m.\u001B[0m\u001B[0mget_word_vector\u001B[0m\u001B[0;34m(\u001B[0m\u001B[0minput\u001B[0m\u001B[0;34m(\u001B[0m\u001B[0;34m\"Input a phrase for Validation: \"\u001B[0m\u001B[0;34m)\u001B[0m\u001B[0;34m)\u001B[0m\u001B[0;34m)\u001B[0m\u001B[0;34m\u001B[0m\u001B[0;34m\u001B[0m\u001B[0m\n\u001B[0m\u001B[1;32m     11\u001B[0m \u001B[0mprint\u001B[0m\u001B[0;34m(\u001B[0m\u001B[0;34m\"The input data was classified as:\"\u001B[0m\u001B[0;34m,\u001B[0m \u001B[0msentiment\u001B[0m\u001B[0;34m)\u001B[0m\u001B[0;34m\u001B[0m\u001B[0;34m\u001B[0m\u001B[0m\n",
      "\u001B[0;32m<ipython-input-5-84e1cb416ad0>\u001B[0m in \u001B[0;36mget_result\u001B[0;34m(statement)\u001B[0m\n\u001B[1;32m      1\u001B[0m \u001B[0;32mdef\u001B[0m \u001B[0mget_result\u001B[0m\u001B[0;34m(\u001B[0m\u001B[0mstatement\u001B[0m\u001B[0;34m)\u001B[0m\u001B[0;34m:\u001B[0m\u001B[0;34m\u001B[0m\u001B[0;34m\u001B[0m\u001B[0m\n\u001B[0;32m----> 2\u001B[0;31m     \u001B[0mresult\u001B[0m \u001B[0;34m=\u001B[0m \u001B[0mmodel\u001B[0m\u001B[0;34m.\u001B[0m\u001B[0mpredict\u001B[0m\u001B[0;34m(\u001B[0m\u001B[0;34m[\u001B[0m\u001B[0mstatement\u001B[0m\u001B[0;34m]\u001B[0m\u001B[0;34m)\u001B[0m\u001B[0;34m\u001B[0m\u001B[0;34m\u001B[0m\u001B[0m\n\u001B[0m\u001B[1;32m      3\u001B[0m     \u001B[0mprint\u001B[0m\u001B[0;34m(\u001B[0m\u001B[0mresult\u001B[0m\u001B[0;34m)\u001B[0m\u001B[0;34m\u001B[0m\u001B[0;34m\u001B[0m\u001B[0m\n\u001B[1;32m      4\u001B[0m     \u001B[0mpos\u001B[0m \u001B[0;34m=\u001B[0m \u001B[0mnp\u001B[0m\u001B[0;34m.\u001B[0m\u001B[0mwhere\u001B[0m\u001B[0;34m(\u001B[0m\u001B[0mresult\u001B[0m\u001B[0;34m[\u001B[0m\u001B[0;36m1\u001B[0m\u001B[0;34m]\u001B[0m\u001B[0;34m[\u001B[0m\u001B[0;36m0\u001B[0m\u001B[0;34m]\u001B[0m \u001B[0;34m==\u001B[0m \u001B[0mnp\u001B[0m\u001B[0;34m.\u001B[0m\u001B[0mamax\u001B[0m\u001B[0;34m(\u001B[0m\u001B[0mresult\u001B[0m\u001B[0;34m[\u001B[0m\u001B[0;36m1\u001B[0m\u001B[0;34m]\u001B[0m\u001B[0;34m[\u001B[0m\u001B[0;36m0\u001B[0m\u001B[0;34m]\u001B[0m\u001B[0;34m)\u001B[0m\u001B[0;34m)\u001B[0m\u001B[0;34m\u001B[0m\u001B[0;34m\u001B[0m\u001B[0m\n\u001B[1;32m      5\u001B[0m     \u001B[0mpos\u001B[0m \u001B[0;34m=\u001B[0m \u001B[0mint\u001B[0m\u001B[0;34m(\u001B[0m\u001B[0mpos\u001B[0m\u001B[0;34m[\u001B[0m\u001B[0;36m0\u001B[0m\u001B[0;34m]\u001B[0m\u001B[0;34m)\u001B[0m\u001B[0;34m\u001B[0m\u001B[0;34m\u001B[0m\u001B[0m\n",
      "\u001B[0;32m~/Documents/GitHub/bert-model-eval/venv/lib/python3.6/site-packages/simpletransformers/classification/classification_model.py\u001B[0m in \u001B[0;36mpredict\u001B[0;34m(self, to_predict, multi_label)\u001B[0m\n\u001B[1;32m   2039\u001B[0m             \u001B[0;32melse\u001B[0m\u001B[0;34m:\u001B[0m\u001B[0;34m\u001B[0m\u001B[0;34m\u001B[0m\u001B[0m\n\u001B[1;32m   2040\u001B[0m                 eval_dataset = self.load_and_cache_examples(\n\u001B[0;32m-> 2041\u001B[0;31m                     \u001B[0meval_examples\u001B[0m\u001B[0;34m,\u001B[0m \u001B[0mevaluate\u001B[0m\u001B[0;34m=\u001B[0m\u001B[0;32mTrue\u001B[0m\u001B[0;34m,\u001B[0m \u001B[0mmulti_label\u001B[0m\u001B[0;34m=\u001B[0m\u001B[0mmulti_label\u001B[0m\u001B[0;34m,\u001B[0m \u001B[0mno_cache\u001B[0m\u001B[0;34m=\u001B[0m\u001B[0;32mTrue\u001B[0m\u001B[0;34m\u001B[0m\u001B[0;34m\u001B[0m\u001B[0m\n\u001B[0m\u001B[1;32m   2042\u001B[0m                 )\n\u001B[1;32m   2043\u001B[0m \u001B[0;34m\u001B[0m\u001B[0m\n",
      "\u001B[0;32m~/Documents/GitHub/bert-model-eval/venv/lib/python3.6/site-packages/simpletransformers/classification/classification_model.py\u001B[0m in \u001B[0;36mload_and_cache_examples\u001B[0;34m(self, examples, evaluate, no_cache, multi_label, verbose, silent)\u001B[0m\n\u001B[1;32m   1804\u001B[0m                 \u001B[0mmulti_label\u001B[0m\u001B[0;34m=\u001B[0m\u001B[0mmulti_label\u001B[0m\u001B[0;34m,\u001B[0m\u001B[0;34m\u001B[0m\u001B[0;34m\u001B[0m\u001B[0m\n\u001B[1;32m   1805\u001B[0m                 \u001B[0moutput_mode\u001B[0m\u001B[0;34m=\u001B[0m\u001B[0moutput_mode\u001B[0m\u001B[0;34m,\u001B[0m\u001B[0;34m\u001B[0m\u001B[0;34m\u001B[0m\u001B[0m\n\u001B[0;32m-> 1806\u001B[0;31m                 \u001B[0mno_cache\u001B[0m\u001B[0;34m=\u001B[0m\u001B[0mno_cache\u001B[0m\u001B[0;34m,\u001B[0m\u001B[0;34m\u001B[0m\u001B[0;34m\u001B[0m\u001B[0m\n\u001B[0m\u001B[1;32m   1807\u001B[0m             )\n\u001B[1;32m   1808\u001B[0m             \u001B[0;32mreturn\u001B[0m \u001B[0mdataset\u001B[0m\u001B[0;34m\u001B[0m\u001B[0;34m\u001B[0m\u001B[0m\n",
      "\u001B[0;32m~/Documents/GitHub/bert-model-eval/venv/lib/python3.6/site-packages/simpletransformers/classification/classification_utils.py\u001B[0m in \u001B[0;36m__init__\u001B[0;34m(self, data, tokenizer, args, mode, multi_label, output_mode, no_cache)\u001B[0m\n\u001B[1;32m    277\u001B[0m     \u001B[0;32mdef\u001B[0m \u001B[0m__init__\u001B[0m\u001B[0;34m(\u001B[0m\u001B[0mself\u001B[0m\u001B[0;34m,\u001B[0m \u001B[0mdata\u001B[0m\u001B[0;34m,\u001B[0m \u001B[0mtokenizer\u001B[0m\u001B[0;34m,\u001B[0m \u001B[0margs\u001B[0m\u001B[0;34m,\u001B[0m \u001B[0mmode\u001B[0m\u001B[0;34m,\u001B[0m \u001B[0mmulti_label\u001B[0m\u001B[0;34m,\u001B[0m \u001B[0moutput_mode\u001B[0m\u001B[0;34m,\u001B[0m \u001B[0mno_cache\u001B[0m\u001B[0;34m)\u001B[0m\u001B[0;34m:\u001B[0m\u001B[0;34m\u001B[0m\u001B[0;34m\u001B[0m\u001B[0m\n\u001B[1;32m    278\u001B[0m         self.examples, self.labels = build_classification_dataset(\n\u001B[0;32m--> 279\u001B[0;31m             \u001B[0mdata\u001B[0m\u001B[0;34m,\u001B[0m \u001B[0mtokenizer\u001B[0m\u001B[0;34m,\u001B[0m \u001B[0margs\u001B[0m\u001B[0;34m,\u001B[0m \u001B[0mmode\u001B[0m\u001B[0;34m,\u001B[0m \u001B[0mmulti_label\u001B[0m\u001B[0;34m,\u001B[0m \u001B[0moutput_mode\u001B[0m\u001B[0;34m,\u001B[0m \u001B[0mno_cache\u001B[0m\u001B[0;34m\u001B[0m\u001B[0;34m\u001B[0m\u001B[0m\n\u001B[0m\u001B[1;32m    280\u001B[0m         )\n\u001B[1;32m    281\u001B[0m \u001B[0;34m\u001B[0m\u001B[0m\n",
      "\u001B[0;32m~/Documents/GitHub/bert-model-eval/venv/lib/python3.6/site-packages/simpletransformers/classification/classification_utils.py\u001B[0m in \u001B[0;36mbuild_classification_dataset\u001B[0;34m(data, tokenizer, args, mode, multi_label, output_mode, no_cache)\u001B[0m\n\u001B[1;32m    247\u001B[0m                         \u001B[0mp\u001B[0m\u001B[0;34m.\u001B[0m\u001B[0mimap\u001B[0m\u001B[0;34m(\u001B[0m\u001B[0mpreprocess_data_multiprocessing\u001B[0m\u001B[0;34m,\u001B[0m \u001B[0mdata\u001B[0m\u001B[0;34m)\u001B[0m\u001B[0;34m,\u001B[0m\u001B[0;34m\u001B[0m\u001B[0;34m\u001B[0m\u001B[0m\n\u001B[1;32m    248\u001B[0m                         \u001B[0mtotal\u001B[0m\u001B[0;34m=\u001B[0m\u001B[0mlen\u001B[0m\u001B[0;34m(\u001B[0m\u001B[0mtext_a\u001B[0m\u001B[0;34m)\u001B[0m\u001B[0;34m,\u001B[0m\u001B[0;34m\u001B[0m\u001B[0;34m\u001B[0m\u001B[0m\n\u001B[0;32m--> 249\u001B[0;31m                         \u001B[0mdisable\u001B[0m\u001B[0;34m=\u001B[0m\u001B[0margs\u001B[0m\u001B[0;34m.\u001B[0m\u001B[0msilent\u001B[0m\u001B[0;34m,\u001B[0m\u001B[0;34m\u001B[0m\u001B[0;34m\u001B[0m\u001B[0m\n\u001B[0m\u001B[1;32m    250\u001B[0m                     )\n\u001B[1;32m    251\u001B[0m                 )\n",
      "\u001B[0;32m~/Documents/GitHub/bert-model-eval/venv/lib/python3.6/site-packages/tqdm/notebook.py\u001B[0m in \u001B[0;36m__iter__\u001B[0;34m(self)\u001B[0m\n\u001B[1;32m    255\u001B[0m     \u001B[0;32mdef\u001B[0m \u001B[0m__iter__\u001B[0m\u001B[0;34m(\u001B[0m\u001B[0mself\u001B[0m\u001B[0;34m)\u001B[0m\u001B[0;34m:\u001B[0m\u001B[0;34m\u001B[0m\u001B[0;34m\u001B[0m\u001B[0m\n\u001B[1;32m    256\u001B[0m         \u001B[0;32mtry\u001B[0m\u001B[0;34m:\u001B[0m\u001B[0;34m\u001B[0m\u001B[0;34m\u001B[0m\u001B[0m\n\u001B[0;32m--> 257\u001B[0;31m             \u001B[0;32mfor\u001B[0m \u001B[0mobj\u001B[0m \u001B[0;32min\u001B[0m \u001B[0msuper\u001B[0m\u001B[0;34m(\u001B[0m\u001B[0mtqdm_notebook\u001B[0m\u001B[0;34m,\u001B[0m \u001B[0mself\u001B[0m\u001B[0;34m)\u001B[0m\u001B[0;34m.\u001B[0m\u001B[0m__iter__\u001B[0m\u001B[0;34m(\u001B[0m\u001B[0;34m)\u001B[0m\u001B[0;34m:\u001B[0m\u001B[0;34m\u001B[0m\u001B[0;34m\u001B[0m\u001B[0m\n\u001B[0m\u001B[1;32m    258\u001B[0m                 \u001B[0;31m# return super(tqdm...) will not catch exception\u001B[0m\u001B[0;34m\u001B[0m\u001B[0;34m\u001B[0m\u001B[0;34m\u001B[0m\u001B[0m\n\u001B[1;32m    259\u001B[0m                 \u001B[0;32myield\u001B[0m \u001B[0mobj\u001B[0m\u001B[0;34m\u001B[0m\u001B[0;34m\u001B[0m\u001B[0m\n",
      "\u001B[0;32m~/Documents/GitHub/bert-model-eval/venv/lib/python3.6/site-packages/tqdm/std.py\u001B[0m in \u001B[0;36m__iter__\u001B[0;34m(self)\u001B[0m\n\u001B[1;32m   1193\u001B[0m \u001B[0;34m\u001B[0m\u001B[0m\n\u001B[1;32m   1194\u001B[0m         \u001B[0;32mtry\u001B[0m\u001B[0;34m:\u001B[0m\u001B[0;34m\u001B[0m\u001B[0;34m\u001B[0m\u001B[0m\n\u001B[0;32m-> 1195\u001B[0;31m             \u001B[0;32mfor\u001B[0m \u001B[0mobj\u001B[0m \u001B[0;32min\u001B[0m \u001B[0miterable\u001B[0m\u001B[0;34m:\u001B[0m\u001B[0;34m\u001B[0m\u001B[0;34m\u001B[0m\u001B[0m\n\u001B[0m\u001B[1;32m   1196\u001B[0m                 \u001B[0;32myield\u001B[0m \u001B[0mobj\u001B[0m\u001B[0;34m\u001B[0m\u001B[0;34m\u001B[0m\u001B[0m\n\u001B[1;32m   1197\u001B[0m                 \u001B[0;31m# Update and possibly print the progressbar.\u001B[0m\u001B[0;34m\u001B[0m\u001B[0;34m\u001B[0m\u001B[0;34m\u001B[0m\u001B[0m\n",
      "\u001B[0;32m/Library/Frameworks/Python.framework/Versions/3.6/lib/python3.6/multiprocessing/pool.py\u001B[0m in \u001B[0;36mnext\u001B[0;34m(self, timeout)\u001B[0m\n\u001B[1;32m    733\u001B[0m         \u001B[0;32mif\u001B[0m \u001B[0msuccess\u001B[0m\u001B[0;34m:\u001B[0m\u001B[0;34m\u001B[0m\u001B[0;34m\u001B[0m\u001B[0m\n\u001B[1;32m    734\u001B[0m             \u001B[0;32mreturn\u001B[0m \u001B[0mvalue\u001B[0m\u001B[0;34m\u001B[0m\u001B[0;34m\u001B[0m\u001B[0m\n\u001B[0;32m--> 735\u001B[0;31m         \u001B[0;32mraise\u001B[0m \u001B[0mvalue\u001B[0m\u001B[0;34m\u001B[0m\u001B[0;34m\u001B[0m\u001B[0m\n\u001B[0m\u001B[1;32m    736\u001B[0m \u001B[0;34m\u001B[0m\u001B[0m\n\u001B[1;32m    737\u001B[0m     \u001B[0m__next__\u001B[0m \u001B[0;34m=\u001B[0m \u001B[0mnext\u001B[0m                    \u001B[0;31m# XXX\u001B[0m\u001B[0;34m\u001B[0m\u001B[0;34m\u001B[0m\u001B[0m\n",
      "\u001B[0;31mValueError\u001B[0m: text input must of type `str` (single example), `List[str]` (batch or single pretokenized example) or `List[List[str]]` (batch of pretokenized examples)."
     ]
    }
   ],
   "source": [
    "def get_result(statement):\n",
    "    result = model.predict([statement])\n",
    "    print(result)\n",
    "    pos = np.where(result[1][0] == np.amax(result[1][0]))\n",
    "    pos = int(pos[0])\n",
    "    sentiment_dict = {0:'negative',1:'positive',2:'neutral'}\n",
    "    print(sentiment_dict[pos])\n",
    "    return sentiment_dict[pos]\n",
    "\n",
    "sentiment = get_result(token.get_word_vector(input(\"Input a phrase for Validation: \")))\n",
    "print(\"The input data was classified as:\", sentiment)"
   ],
   "metadata": {
    "collapsed": false,
    "pycharm": {
     "name": "#%%\n"
    }
   }
  },
  {
   "cell_type": "code",
   "execution_count": 9,
   "outputs": [
    {
     "name": "stderr",
     "output_type": "stream",
     "text": [
      "INFO:simpletransformers.classification.classification_utils: Converting to features started. Cache is not used.\n"
     ]
    },
    {
     "data": {
      "text/plain": "  0%|          | 0/1 [00:00<?, ?it/s]",
      "application/vnd.jupyter.widget-view+json": {
       "version_major": 2,
       "version_minor": 0,
       "model_id": "64fbb85771c6452ba3750db5b31bc2f9"
      }
     },
     "metadata": {},
     "output_type": "display_data"
    },
    {
     "data": {
      "text/plain": "  0%|          | 0/1 [00:00<?, ?it/s]",
      "application/vnd.jupyter.widget-view+json": {
       "version_major": 2,
       "version_minor": 0,
       "model_id": "1b9cbf100fdc41bca5c099dde457a888"
      }
     },
     "metadata": {},
     "output_type": "display_data"
    },
    {
     "name": "stdout",
     "output_type": "stream",
     "text": [
      "(array([0]), array([[ 4.99420118, -3.72706962, -1.971609  ]]))\n",
      "negative\n"
     ]
    },
    {
     "data": {
      "text/plain": "'negative'"
     },
     "execution_count": 9,
     "metadata": {},
     "output_type": "execute_result"
    }
   ],
   "source": [
    "get_result(\"heavy rain\")"
   ],
   "metadata": {
    "collapsed": false,
    "pycharm": {
     "name": "#%%\n"
    }
   }
  },
  {
   "cell_type": "code",
   "execution_count": 13,
   "outputs": [
    {
     "name": "stderr",
     "output_type": "stream",
     "text": [
      "INFO:simpletransformers.classification.classification_utils: Converting to features started. Cache is not used.\n"
     ]
    },
    {
     "data": {
      "text/plain": "  0%|          | 0/1 [00:00<?, ?it/s]",
      "application/vnd.jupyter.widget-view+json": {
       "version_major": 2,
       "version_minor": 0,
       "model_id": "304af30fad2946d2993a512b4332e7b9"
      }
     },
     "metadata": {},
     "output_type": "display_data"
    },
    {
     "data": {
      "text/plain": "  0%|          | 0/1 [00:00<?, ?it/s]",
      "application/vnd.jupyter.widget-view+json": {
       "version_major": 2,
       "version_minor": 0,
       "model_id": "b0d4fbc0e363431a993bb3b5c2673eb7"
      }
     },
     "metadata": {},
     "output_type": "display_data"
    },
    {
     "name": "stdout",
     "output_type": "stream",
     "text": [
      "(array([1]), array([[-2.09089732,  4.58306503, -0.95916444]]))\n",
      "positive\n"
     ]
    },
    {
     "data": {
      "text/plain": "'positive'"
     },
     "execution_count": 13,
     "metadata": {},
     "output_type": "execute_result"
    }
   ],
   "source": [
    "get_result(\"High visibility, clear throughout the day\")"
   ],
   "metadata": {
    "collapsed": false,
    "pycharm": {
     "name": "#%%\n"
    }
   }
  },
  {
   "cell_type": "code",
   "execution_count": 11,
   "outputs": [
    {
     "name": "stderr",
     "output_type": "stream",
     "text": [
      "INFO:simpletransformers.classification.classification_utils: Converting to features started. Cache is not used.\n"
     ]
    },
    {
     "data": {
      "text/plain": "  0%|          | 0/1 [00:00<?, ?it/s]",
      "application/vnd.jupyter.widget-view+json": {
       "version_major": 2,
       "version_minor": 0,
       "model_id": "6a7bf25dce1542c0ab0c991e0522a618"
      }
     },
     "metadata": {},
     "output_type": "display_data"
    },
    {
     "data": {
      "text/plain": "  0%|          | 0/1 [00:00<?, ?it/s]",
      "application/vnd.jupyter.widget-view+json": {
       "version_major": 2,
       "version_minor": 0,
       "model_id": "6066995c170f4ab79f1f870866349eb3"
      }
     },
     "metadata": {},
     "output_type": "display_data"
    },
    {
     "name": "stdout",
     "output_type": "stream",
     "text": [
      "(array([2]), array([[-1.08907032, -2.8768549 ,  2.93425846]]))\n",
      "neutral\n"
     ]
    },
    {
     "data": {
      "text/plain": "'neutral'"
     },
     "execution_count": 11,
     "metadata": {},
     "output_type": "execute_result"
    }
   ],
   "source": [
    "get_result(\"Slightly foggy with acceptable visibility\")"
   ],
   "metadata": {
    "collapsed": false,
    "pycharm": {
     "name": "#%%\n"
    }
   }
  },
  {
   "cell_type": "code",
   "execution_count": 20,
   "outputs": [
    {
     "name": "stdout",
     "output_type": "stream",
     "text": [
      "Package                      Version\r\n",
      "---------------------------- -------------------\r\n",
      "absl-py                      1.0.0\r\n",
      "aiohttp                      3.8.1\r\n",
      "aiosignal                    1.2.0\r\n",
      "altair                       4.2.0\r\n",
      "argon2-cffi                  21.3.0\r\n",
      "argon2-cffi-bindings         21.2.0\r\n",
      "asttokens                    2.0.5\r\n",
      "astunparse                   1.6.3\r\n",
      "async-timeout                4.0.2\r\n",
      "attrs                        21.4.0\r\n",
      "backcall                     0.2.0\r\n",
      "backports.zoneinfo           0.2.1\r\n",
      "beautifulsoup4               4.10.0\r\n",
      "bleach                       4.1.0\r\n",
      "blinker                      1.4\r\n",
      "cachetools                   5.0.0\r\n",
      "certifi                      2021.10.8\r\n",
      "cffi                         1.15.0\r\n",
      "charset-normalizer           2.0.12\r\n",
      "click                        8.0.4\r\n",
      "cycler                       0.11.0\r\n",
      "datasets                     2.0.0\r\n",
      "debugpy                      1.6.0\r\n",
      "decorator                    5.1.1\r\n",
      "defusedxml                   0.7.1\r\n",
      "dill                         0.3.4\r\n",
      "docker-pycreds               0.4.0\r\n",
      "entrypoints                  0.4\r\n",
      "executing                    0.8.3\r\n",
      "filelock                     3.6.0\r\n",
      "flatbuffers                  2.0\r\n",
      "fonttools                    4.31.2\r\n",
      "frozenlist                   1.3.0\r\n",
      "fsspec                       2022.2.0\r\n",
      "gast                         0.5.3\r\n",
      "gitdb                        4.0.9\r\n",
      "GitPython                    3.1.27\r\n",
      "google-auth                  2.6.2\r\n",
      "google-auth-oauthlib         0.4.6\r\n",
      "google-pasta                 0.2.0\r\n",
      "grpcio                       1.44.0\r\n",
      "h5py                         3.6.0\r\n",
      "huggingface-hub              0.4.0\r\n",
      "idna                         3.3\r\n",
      "importlib-metadata           4.11.3\r\n",
      "importlib-resources          5.6.0\r\n",
      "ipykernel                    6.9.2\r\n",
      "ipython                      8.1.1\r\n",
      "ipython-genutils             0.2.0\r\n",
      "ipywidgets                   7.7.0\r\n",
      "jedi                         0.18.1\r\n",
      "Jinja2                       3.1.1\r\n",
      "joblib                       1.1.0\r\n",
      "jsonschema                   4.4.0\r\n",
      "jupyter                      1.0.0\r\n",
      "jupyter-client               7.1.2\r\n",
      "jupyter-console              6.4.3\r\n",
      "jupyter-core                 4.9.2\r\n",
      "jupyterlab-pygments          0.1.2\r\n",
      "jupyterlab-widgets           1.1.0\r\n",
      "keras                        2.8.0\r\n",
      "Keras-Preprocessing          1.1.2\r\n",
      "kiwisolver                   1.4.0\r\n",
      "libclang                     13.0.0\r\n",
      "Markdown                     3.3.6\r\n",
      "MarkupSafe                   2.1.1\r\n",
      "matplotlib                   3.5.1\r\n",
      "matplotlib-inline            0.1.3\r\n",
      "mistune                      0.8.4\r\n",
      "multidict                    6.0.2\r\n",
      "multiprocess                 0.70.12.2\r\n",
      "nbclient                     0.5.13\r\n",
      "nbconvert                    6.4.4\r\n",
      "nbformat                     5.2.0\r\n",
      "nest-asyncio                 1.5.4\r\n",
      "nltk                         3.7\r\n",
      "notebook                     6.4.10\r\n",
      "numpy                        1.22.3\r\n",
      "oauthlib                     3.2.0\r\n",
      "opt-einsum                   3.3.0\r\n",
      "packaging                    21.3\r\n",
      "pandas                       1.4.1\r\n",
      "pandocfilters                1.5.0\r\n",
      "parso                        0.8.3\r\n",
      "pathtools                    0.1.2\r\n",
      "pexpect                      4.8.0\r\n",
      "pickleshare                  0.7.5\r\n",
      "Pillow                       9.0.1\r\n",
      "pip                          22.0.4\r\n",
      "prometheus-client            0.13.1\r\n",
      "promise                      2.3\r\n",
      "prompt-toolkit               3.0.28\r\n",
      "protobuf                     3.19.4\r\n",
      "psutil                       5.9.0\r\n",
      "ptyprocess                   0.7.0\r\n",
      "pure-eval                    0.2.2\r\n",
      "pyarrow                      7.0.0\r\n",
      "pyasn1                       0.4.8\r\n",
      "pyasn1-modules               0.2.8\r\n",
      "pycparser                    2.21\r\n",
      "pydeck                       0.7.1\r\n",
      "Pygments                     2.11.2\r\n",
      "Pympler                      1.0.1\r\n",
      "pyparsing                    3.0.7\r\n",
      "pyrsistent                   0.18.1\r\n",
      "python-dateutil              2.8.2\r\n",
      "pytz                         2022.1\r\n",
      "pytz-deprecation-shim        0.1.0.post0\r\n",
      "PyYAML                       6.0\r\n",
      "pyzmq                        22.3.0\r\n",
      "qtconsole                    5.2.2\r\n",
      "QtPy                         2.0.1\r\n",
      "regex                        2022.3.2\r\n",
      "requests                     2.27.1\r\n",
      "requests-oauthlib            1.3.1\r\n",
      "responses                    0.18.0\r\n",
      "rsa                          4.8\r\n",
      "sacremoses                   0.0.49\r\n",
      "scikit-learn                 1.0.2\r\n",
      "scipy                        1.8.0\r\n",
      "seaborn                      0.11.2\r\n",
      "semver                       2.13.0\r\n",
      "Send2Trash                   1.8.0\r\n",
      "sentencepiece                0.1.96\r\n",
      "sentry-sdk                   1.5.8\r\n",
      "seqeval                      1.2.2\r\n",
      "setproctitle                 1.2.2\r\n",
      "setuptools                   57.0.0\r\n",
      "shortuuid                    1.0.8\r\n",
      "simpletransformers           0.63.6\r\n",
      "six                          1.16.0\r\n",
      "smmap                        5.0.0\r\n",
      "soupsieve                    2.3.1\r\n",
      "stack-data                   0.2.0\r\n",
      "streamlit                    1.8.0\r\n",
      "tensorboard                  2.8.0\r\n",
      "tensorboard-data-server      0.6.1\r\n",
      "tensorboard-plugin-wit       1.8.1\r\n",
      "tensorflow                   2.8.0\r\n",
      "tensorflow-io-gcs-filesystem 0.24.0\r\n",
      "termcolor                    1.1.0\r\n",
      "terminado                    0.13.3\r\n",
      "testpath                     0.6.0\r\n",
      "tf-estimator-nightly         2.8.0.dev2021122109\r\n",
      "threadpoolctl                3.1.0\r\n",
      "tokenizers                   0.11.6\r\n",
      "toml                         0.10.2\r\n",
      "toolz                        0.11.2\r\n",
      "torch                        1.11.0\r\n",
      "tornado                      6.1\r\n",
      "tqdm                         4.63.0\r\n",
      "traitlets                    5.1.1\r\n",
      "transformers                 4.17.0\r\n",
      "typing_extensions            4.1.1\r\n",
      "tzdata                       2022.1\r\n",
      "tzlocal                      4.1\r\n",
      "urllib3                      1.26.9\r\n",
      "validators                   0.18.2\r\n",
      "wandb                        0.12.11\r\n",
      "watchdog                     2.1.7\r\n",
      "wcwidth                      0.2.5\r\n",
      "webencodings                 0.5.1\r\n",
      "Werkzeug                     2.0.3\r\n",
      "wheel                        0.36.2\r\n",
      "widgetsnbextension           3.6.0\r\n",
      "wordcloud                    1.8.1\r\n",
      "wrapt                        1.14.0\r\n",
      "xxhash                       3.0.0\r\n",
      "yarl                         1.7.2\r\n",
      "yaspin                       2.1.0\r\n",
      "zipp                         3.7.0\r\n"
     ]
    }
   ],
   "source": [
    "!pip list"
   ],
   "metadata": {
    "collapsed": false,
    "pycharm": {
     "name": "#%%\n"
    }
   }
  },
  {
   "cell_type": "code",
   "execution_count": null,
   "outputs": [],
   "source": [],
   "metadata": {
    "collapsed": false,
    "pycharm": {
     "name": "#%%\n"
    }
   }
  }
 ],
 "metadata": {
  "kernelspec": {
   "display_name": "Python 3",
   "language": "python",
   "name": "python3"
  },
  "language_info": {
   "codemirror_mode": {
    "name": "ipython",
    "version": 2
   },
   "file_extension": ".py",
   "mimetype": "text/x-python",
   "name": "python",
   "nbconvert_exporter": "python",
   "pygments_lexer": "ipython2",
   "version": "2.7.6"
  }
 },
 "nbformat": 4,
 "nbformat_minor": 0
}
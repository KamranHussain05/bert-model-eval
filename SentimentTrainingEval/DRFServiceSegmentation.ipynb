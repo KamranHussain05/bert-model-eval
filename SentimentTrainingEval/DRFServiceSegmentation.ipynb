{
  "cells": [
    {
      "cell_type": "markdown",
      "metadata": {
        "id": "tdzkSBUcaUY-"
      },
      "source": [
        "# Semantic Segmentation DRF Service Recommendation Engine"
      ]
    },
    {
      "cell_type": "markdown",
      "metadata": {
        "id": "zAYkWu4CakYf"
      },
      "source": [
        "In order to recommend Data Reasoning Fabric services to Advaned Air Mobility Vehicles, semantic segmentation using Word2Vec Tokenization and BERT are deployed. The model architecture was evaluated on a dataset of 30,000+ weather conditions, with the final model being trained on a combination of 500 curated phrases and NOTAMs. "
      ]
    },
    {
      "cell_type": "code",
      "execution_count": null,
      "metadata": {
        "id": "CFeBdh5uaRNI"
      },
      "outputs": [],
      "source": [
        "!pip install simpletransformers"
      ]
    },
    {
      "cell_type": "code",
      "execution_count": null,
      "metadata": {
        "id": "TDezzsJujVP1"
      },
      "outputs": [],
      "source": [
        "!pip install fasttext"
      ]
    },
    {
      "cell_type": "markdown",
      "metadata": {
        "id": "LLvG_LRTfEjY"
      },
      "source": [
        "Import all necessary libraries and submodules"
      ]
    },
    {
      "cell_type": "code",
      "execution_count": null,
      "metadata": {
        "id": "Li1oFN09cV9V"
      },
      "outputs": [],
      "source": [
        "import pandas as pd\n",
        "import numpy as np\n",
        "import tensorflow as tf\n",
        "import matplotlib.pyplot as plt\n",
        "import seaborn as sns\n",
        "from sklearn.model_selection import train_test_split\n",
        "import os\n",
        "import time\n",
        "import logging\n",
        "import torch"
      ]
    },
    {
      "cell_type": "markdown",
      "metadata": {
        "id": "n7jWgqWOcX93"
      },
      "source": [
        "# Data Importing and PreProcessing"
      ]
    },
    {
      "cell_type": "markdown",
      "metadata": {
        "id": "5WVcxZFNcgd-"
      },
      "source": [
        "The dataset is then imported into a Pandas dataframe object, with the labels as integers"
      ]
    },
    {
      "cell_type": "code",
      "execution_count": null,
      "metadata": {
        "colab": {
          "base_uri": "https://localhost:8080/"
        },
        "id": "ubKLtcpRcv0E",
        "outputId": "b381b5df-ecfb-4b34-df2e-3de9352de233"
      },
      "outputs": [
        {
          "name": "stdout",
          "output_type": "stream",
          "text": [
            "File Found: daily_weather_training_data.csv\n"
          ]
        }
      ],
      "source": [
        "path = 'daily_weather_training_data.csv'\n",
        "\n",
        "if(os.path.exists(path)):\n",
        "  print('File Found:', path)\n",
        "  df = pd.read_csv(path, usecols=['text', 'labels'], low_memory=True, dtype=str, encoding='utf-8')\n",
        "  df.head()\n",
        "else:\n",
        "  print(\"No File Found\")"
      ]
    },
    {
      "cell_type": "markdown",
      "metadata": {
        "id": "ISik7JHFdcuK"
      },
      "source": [
        "Force Wrap the datatypes"
      ]
    },
    {
      "cell_type": "code",
      "execution_count": null,
      "metadata": {
        "id": "j91cXGOcdl7g"
      },
      "outputs": [],
      "source": [
        "df['labels'] = df['labels'].astype(int)\n",
        "df['text'] = df['text'].astype(str)"
      ]
    },
    {
      "cell_type": "markdown",
      "metadata": {
        "id": "fOdOArcVdO1_"
      },
      "source": [
        "Visualize the dataset and ensure the correct number of labels are present. Standard bar graph visualizations are used for efficient data visualization. This helps validate the efficacy of the dataset."
      ]
    },
    {
      "cell_type": "code",
      "execution_count": null,
      "metadata": {
        "colab": {
          "base_uri": "https://localhost:8080/"
        },
        "id": "UYzJRmEMdOoc",
        "outputId": "346f1381-ed68-4fb0-b9dd-98c479f7815f"
      },
      "outputs": [
        {
          "name": "stderr",
          "output_type": "stream",
          "text": [
            "/usr/local/lib/python3.7/dist-packages/seaborn/_decorators.py:43: FutureWarning: Pass the following variable as a keyword arg: x. From version 0.12, the only valid positional argument will be `data`, and passing other arguments without an explicit keyword will result in an error or misinterpretation.\n",
            "  FutureWarning\n"
          ]
        },
        {
          "data": {
            "text/plain": [
              "<matplotlib.axes._subplots.AxesSubplot at 0x7f34d9321290>"
            ]
          },
          "execution_count": 5,
          "metadata": {},
          "output_type": "execute_result"
        },
        {
          "data": {
            "image/png": "[encoded data removed]",
            "text/plain": [
              "<Figure size 432x288 with 1 Axes>"
            ]
          },
          "metadata": {},
          "output_type": "display_data"
        }
      ],
      "source": [
        "df['labels'].value_counts()\n",
        "sns.countplot(df.labels)"
      ]
    },
    {
      "cell_type": "markdown",
      "metadata": {
        "id": "a-x7GiR9ePTj"
      },
      "source": [
        "Split into test and training dataframes"
      ]
    },
    {
      "cell_type": "code",
      "execution_count": null,
      "metadata": {
        "id": "WyZ6MQpEePHT"
      },
      "outputs": [],
      "source": [
        "train,eval = train_test_split(df.astype(str),test_size=0.1)"
      ]
    },
    {
      "cell_type": "markdown",
      "metadata": {
        "id": "6xsLyIx4ehjR"
      },
      "source": [
        "The test and training datasets are then prepared and the data is converted to that format. "
      ]
    },
    {
      "cell_type": "code",
      "execution_count": null,
      "metadata": {
        "id": "e0cEEfEJebBq"
      },
      "outputs": [],
      "source": [
        "train_df = pd.DataFrame({\n",
        "    'text': train['text'],\n",
        "    'labels': train['labels']\n",
        "})\n",
        "train_df['labels'] = train_df['labels'].astype(int)\n",
        "train_df.columns = [\"text\", \"labels\"]\n",
        "\n",
        "df.sort_index()\n",
        "eval_df = pd.DataFrame({\n",
        "    'text': eval['text'][0:800],\n",
        "    'labels': eval['labels'][0:800]\n",
        "})\n",
        "eval_df.columns=[\"text\", \"labels\"]\n",
        "eval_df['labels'] = eval_df['labels'].astype(int)"
      ]
    },
    {
      "cell_type": "markdown",
      "metadata": {
        "id": "vQe4MDRVYPJ7"
      },
      "source": [
        "# FastText Vectorization\n",
        "FastText is an alternative model to BERT designed by facebook with the focus of text classifcation. Althought training time is slower, FastText works much faster in implementation and has a JavaScript interface for better web integration."
      ]
    },
    {
      "cell_type": "code",
      "execution_count": null,
      "metadata": {
        "id": "UREyWi9gY6Tx"
      },
      "outputs": [],
      "source": [
        "import fasttext"
      ]
    },
    {
      "cell_type": "markdown",
      "metadata": {
        "id": "ub-Vffn_rFL7"
      },
      "source": [
        "Use the training data to train the vectorizer"
      ]
    },
    {
      "cell_type": "code",
      "execution_count": null,
      "metadata": {
        "id": "-pLqAgHnrknd"
      },
      "outputs": [],
      "source": [
        "df['text'].to_csv('training_text.txt', index=False, header=False, sep='\\n')"
      ]
    },
    {
      "cell_type": "markdown",
      "metadata": {
        "id": "EsGESmuArCwk"
      },
      "source": [
        "Create and train the tokenizer"
      ]
    },
    {
      "cell_type": "code",
      "execution_count": null,
      "metadata": {
        "colab": {
          "base_uri": "https://localhost:8080/"
        },
        "id": "X6TxgPE-Y7-g",
        "outputId": "e69a376f-7209-47b4-effb-c5f3ae3a175a"
      },
      "outputs": [
        {
          "name": "stderr",
          "output_type": "stream",
          "text": [
            "\rRead 0M words\n",
            "Number of words:  70\n",
            "Number of labels: 0\n",
            "tcmalloc: large alloc 2048073728 bytes == 0x55fe2b112000 @  0x7f89f3224887 0x7f8857c9836d 0x7f8857ca481e 0x7f8857caa405 0x7f8857c54092 0x7f8857c7e7ed 0x55fe188f9160 0x55fe188f8ef0 0x55fe1896d123 0x55fe18967a2e 0x55fe188fa88a 0x55fe18969719 0x55fe18967a2e 0x55fe18967723 0x55fe18965bd0 0x55fe188f8ff9 0x55fe188f8ef0 0x55fe1896c9a3 0x55fe189ecce5 0x55fe18969c03 0x55fe189ecce5 0x55fe18969c03 0x55fe189ecce5 0x55fe188f8f9d 0x55fe189ead4d 0x55fe1896cec8 0x55fe188fa7aa 0x55fe189688f6 0x55fe188fa7aa 0x55fe18968b4f 0x55fe18967a2e\n",
            "Progress: 100.0% words/sec/thread: 2249424 lr:  0.000000 avg.loss:  1.827863 ETA:   0h 0m 0s\n"
          ]
        }
      ],
      "source": [
        "tokenizer = fasttext.train_unsupervised(input=\"training_text.txt\", model=\"cbow\", epoch=50, dim=256)\n",
        "tokenizer.save_model(\"fasttexttokenizer.bin\")"
      ]
    },
    {
      "cell_type": "markdown",
      "metadata": {
        "id": "nZ5iUfzffQZe"
      },
      "source": [
        "# Load the BERT Model"
      ]
    },
    {
      "cell_type": "markdown",
      "metadata": {
        "id": "LXHUxtNOe725"
      },
      "source": [
        "The BERT Model is setup here with the sentiment classification model. The model uses 5 classes or labels. Each label is mapped to its respective class. BERT Base-cased is the pretrain used to recognize and tokenize with weight on character casing, essential in understanding more of the data.\n",
        "\n",
        "Word2Vec Embeddings are used as the tokenization algorithm is well known for its useful feature vectors for semantic analysis and classification. The default BERT tokenizer is better suited for question answering and language translation."
      ]
    },
    {
      "cell_type": "code",
      "execution_count": null,
      "metadata": {
        "id": "3GRz6KxlfP-Q"
      },
      "outputs": [],
      "source": [
        "import torch\n",
        "from simpletransformers.classification import ClassificationModel, ClassificationArgs\n",
        "\n",
        "\n",
        "# Logging for model\n",
        "logging.basicConfig(level=logging.INFO)\n",
        "transformers_logger = logging.getLogger(\"transformers\")\n",
        "transformers_logger.setLevel(logging.WARNING)\n",
        "\n",
        "train_gpu = torch.cuda.is_available()\n",
        "print('GPU Available:', train_gpu)\n",
        "# Create a TransformerModel\n",
        "model_args = ClassificationArgs(num_train_epochs=1, # Should be changed to 15 epochs on a compute cluster, single epoch training for colab vm\n",
        "                                reprocess_input_data=True,\n",
        "                                overwrite_output_dir=True,\n",
        "                                train_batch_size=1,\n",
        "                                )\n",
        "\n",
        "model = ClassificationModel('bert', 'nicoladecao/msmarco-word2vec256000-bert-base-uncased', num_labels=3, args=model_args, use_cuda=train_gpu) # Use the word2vec embeddings instead of the regular bert tokenizer\n",
        "#model = ClassificationModel('bert', \"bert-base-cased\", num_labels=3, args=model_args, use_cuda=train_gpu)\n",
        "#model = ClassificationModel('bert', \"/content/fasttexttokenizer.bin\", num_labels=3, args=model_args, use_cuda=train_gpu)"
      ]
    },
    {
      "cell_type": "markdown",
      "metadata": {
        "id": "HLP06jLvfYpE"
      },
      "source": [
        "## Train the model\n",
        "Enable model checkpoint saves for runtime disconnect issue. This should have the model pick up training from the last downloaded checkpoint."
      ]
    },
    {
      "cell_type": "code",
      "execution_count": null,
      "metadata": {
        "colab": {
          "background_save": true
        },
        "id": "nlU6J8tfffr9"
      },
      "outputs": [],
      "source": [
        "model.train_model(train_df, eval_df=eval_df)\n",
        "result, model_outputs, wrong_predictions = model.eval_model(eval_df)"
      ]
    },
    {
      "cell_type": "markdown",
      "metadata": {
        "id": "Fvd5I_txfrdp"
      },
      "source": [
        "## Model Metrics and Performance\n",
        "SciKit is used to validate the model and test how the model performs when trained with this dataset. Anything above 90% is enough for the model to be considered useful and accurate."
      ]
    },
    {
      "cell_type": "code",
      "execution_count": null,
      "metadata": {
        "id": "Irq3D-JifuZp"
      },
      "outputs": [],
      "source": [
        "print(result)\n",
        "print(model_outputs)\n",
        "\n",
        "lst = []\n",
        "for arr in model_outputs:\n",
        "    lst.append(np.argmax(arr))\n",
        "\n",
        "true = eval_df['labels'].tolist()\n",
        "predicted = lst"
      ]
    },
    {
      "cell_type": "code",
      "execution_count": null,
      "metadata": {
        "colab": {
          "base_uri": "https://localhost:8080/",
          "height": 481
        },
        "id": "o7OtnhE4fxGd",
        "outputId": "81dbc74c-3010-447c-e66c-76232f49c789"
      },
      "outputs": [
        {
          "name": "stdout",
          "output_type": "stream",
          "text": [
            "[[599 282   0]\n",
            " [ 11 832   0]\n",
            " [ 77 681   0]]\n"
          ]
        },
        {
          "data": {
            "image/png": "[encoded data removed]",
            "text/plain": [
              "<Figure size 432x288 with 2 Axes>"
            ]
          },
          "metadata": {},
          "output_type": "display_data"
        },
        {
          "name": "stdout",
          "output_type": "stream",
          "text": [
            "Model Accuracy:  57.65511684125705 %\n",
            "Model Accuracy:  57.65511684125705 %\n"
          ]
        },
        {
          "name": "stderr",
          "output_type": "stream",
          "text": [
            "/usr/local/lib/python3.7/dist-packages/sklearn/metrics/_classification.py:1318: UndefinedMetricWarning: Precision and F-score are ill-defined and being set to 0.0 in labels with no predicted samples. Use `zero_division` parameter to control this behavior.\n",
            "  _warn_prf(average, modifier, msg_start, len(result))\n",
            "/usr/local/lib/python3.7/dist-packages/sklearn/metrics/_classification.py:1318: UndefinedMetricWarning: Precision and F-score are ill-defined and being set to 0.0 in labels with no predicted samples. Use `zero_division` parameter to control this behavior.\n",
            "  _warn_prf(average, modifier, msg_start, len(result))\n",
            "/usr/local/lib/python3.7/dist-packages/sklearn/metrics/_classification.py:1318: UndefinedMetricWarning: Precision and F-score are ill-defined and being set to 0.0 in labels with no predicted samples. Use `zero_division` parameter to control this behavior.\n",
            "  _warn_prf(average, modifier, msg_start, len(result))\n"
          ]
        }
      ],
      "source": [
        "import sklearn\n",
        "mat = sklearn.metrics.confusion_matrix(true , predicted)\n",
        "print(mat)\n",
        "\n",
        "df_cm = pd.DataFrame(mat, range(3), range(3))\n",
        "\n",
        "sns.heatmap(df_cm, annot=True)\n",
        "plt.show()\n",
        "print('Model Accuracy: ', 100*sklearn.metrics.accuracy_score(true,predicted), '%')\n",
        "\n",
        "sklearn.metrics.classification_report(true,predicted,target_names=['positive','neutral','negative'])\n",
        "print('Model Accuracy: ', 100*sklearn.metrics.accuracy_score(true,predicted), '%')"
      ]
    },
    {
      "cell_type": "markdown",
      "metadata": {
        "id": "nDEnhwZVfzsX"
      },
      "source": [
        "## Model Demo and Testing\n",
        "The get_result function allows for the model, to be loaded and use a mapped user interface for use and manual evaluation."
      ]
    },
    {
      "cell_type": "code",
      "execution_count": null,
      "metadata": {
        "id": "ZYlzKZKef2OP"
      },
      "outputs": [],
      "source": [
        "def get_result(statement):\n",
        "    result = model.predict([statement])\n",
        "    print(result)\n",
        "    pos = np.where(result[1][0] == np.amax(result[1][0]))\n",
        "    pos = int(pos[0])\n",
        "    #sentiment_dict = {0:'Flight-Planning',1:'Weather',2:'Emergency',3:'Ground-Operations', 4:'Communications'} # Convert the model outputs to the class names\n",
        "    sentiment_dict = {0:'negative', 1:'positive', 2:'neutral'}\n",
        "    print(sentiment_dict[pos])\n",
        "    return sentiment_dict[pos]"
      ]
    },
    {
      "cell_type": "markdown",
      "metadata": {
        "id": "fL8aL_82gYq-"
      },
      "source": [
        "See a manually inputted phrase"
      ]
    },
    {
      "cell_type": "code",
      "execution_count": null,
      "metadata": {
        "id": "iA3iJKxogcPP"
      },
      "outputs": [],
      "source": [
        "print(get_result(input(\"Input Phrase:\")))"
      ]
    },
    {
      "cell_type": "markdown",
      "metadata": {
        "id": "Uy5JG581saxJ"
      },
      "source": [
        "Pre-Fabricated phrases"
      ]
    },
    {
      "cell_type": "code",
      "execution_count": null,
      "metadata": {
        "id": "SAnEB26QrwOw"
      },
      "outputs": [],
      "source": [
        "print(get_result(\"Clear weather throughout the day\"))"
      ]
    },
    {
      "cell_type": "code",
      "execution_count": null,
      "metadata": {
        "id": "cTCEkB9Lr0mc"
      },
      "outputs": [],
      "source": [
        "print(get_result(\"heavy rain and low visibility in the morning\"))"
      ]
    },
    {
      "cell_type": "code",
      "execution_count": null,
      "metadata": {
        "id": "rpYn7WcksD4S"
      },
      "outputs": [],
      "source": [
        "print(get_result(\"partly cloudy\"))"
      ]
    },
    {
      "cell_type": "markdown",
      "metadata": {
        "id": "1VEZjmsegUcs"
      },
      "source": [
        "## Download Files from Colab"
      ]
    },
    {
      "cell_type": "code",
      "execution_count": null,
      "metadata": {
        "id": "BgrYGZVYgXQ_"
      },
      "outputs": [],
      "source": [
        "!zip -r checkpoint-epoch-1.zip /content/outputs/checkpoint-23022-epoch-1/        "
      ]
    },
    {
      "cell_type": "markdown",
      "metadata": {
        "id": "gWljFyGnAogU"
      },
      "source": [
        "# Get Program Dependencies"
      ]
    },
    {
      "cell_type": "code",
      "execution_count": null,
      "metadata": {
        "id": "qI50KLhHArxn"
      },
      "outputs": [],
      "source": [
        "!pip freeze > requirements.txt"
      ]
    }
  ],
  "metadata": {
    "accelerator": "GPU",
    "colab": {
      "collapsed_sections": [
        "vQe4MDRVYPJ7",
        "Fvd5I_txfrdp",
        "nDEnhwZVfzsX",
        "1VEZjmsegUcs"
      ],
      "name": "DRFServiceSegmentation.ipynb",
      "provenance": []
    },
    "kernelspec": {
      "display_name": "Python 3",
      "name": "python3"
    },
    "language_info": {
      "name": "python"
    }
  },
  "nbformat": 4,
  "nbformat_minor": 0
}
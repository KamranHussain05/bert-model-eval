{
 "cells": [
  {
   "cell_type": "markdown",
   "source": [
    "# Word2Vec Tokenizer in BERT Demo"
   ],
   "metadata": {
    "collapsed": false
   }
  },
  {
   "cell_type": "markdown",
   "source": [
    "Import the BERT Models and tokenizer and load them"
   ],
   "metadata": {
    "collapsed": false
   }
  },
  {
   "cell_type": "code",
   "execution_count": 5,
   "outputs": [
    {
     "name": "stdout",
     "output_type": "stream",
     "text": [
      "Collecting simpletransformers\r\n",
      "  Using cached simpletransformers-0.63.6-py3-none-any.whl (249 kB)\r\n",
      "Requirement already satisfied: regex in /Users/kamranhussain/Documents/GitHub/bert-model-eval/venv/lib/python3.6/site-packages (from simpletransformers) (2022.3.2)\r\n",
      "Requirement already satisfied: scipy in /Users/kamranhussain/Documents/GitHub/bert-model-eval/venv/lib/python3.6/site-packages (from simpletransformers) (1.5.4)\r\n",
      "Collecting datasets\r\n",
      "  Using cached datasets-2.0.0-py3-none-any.whl (325 kB)\r\n",
      "Collecting streamlit\r\n",
      "  Using cached streamlit-1.8.1-py2.py3-none-any.whl (10.1 MB)\r\n",
      "Requirement already satisfied: numpy in /Users/kamranhussain/Documents/GitHub/bert-model-eval/venv/lib/python3.6/site-packages (from simpletransformers) (1.19.5)\r\n",
      "Collecting seqeval\r\n",
      "  Using cached seqeval-1.2.2-py3-none-any.whl\r\n",
      "Requirement already satisfied: pandas in /Users/kamranhussain/Documents/GitHub/bert-model-eval/venv/lib/python3.6/site-packages (from simpletransformers) (1.1.5)\r\n",
      "Requirement already satisfied: tensorboard in /Users/kamranhussain/Documents/GitHub/bert-model-eval/venv/lib/python3.6/site-packages (from simpletransformers) (2.6.0)\r\n",
      "Collecting transformers>=4.6.0\r\n",
      "  Using cached transformers-4.17.0-py3-none-any.whl (3.8 MB)\r\n",
      "Collecting sentencepiece\r\n",
      "  Using cached sentencepiece-0.1.96-cp36-cp36m-macosx_10_6_x86_64.whl (1.2 MB)\r\n",
      "Requirement already satisfied: requests in /Users/kamranhussain/Documents/GitHub/bert-model-eval/venv/lib/python3.6/site-packages (from simpletransformers) (2.27.1)\r\n",
      "Requirement already satisfied: scikit-learn in /Users/kamranhussain/Documents/GitHub/bert-model-eval/venv/lib/python3.6/site-packages (from simpletransformers) (0.24.2)\r\n",
      "Collecting tokenizers\r\n",
      "  Using cached tokenizers-0.11.6.tar.gz (221 kB)\r\n",
      "  Installing build dependencies ... \u001B[?25ldone\r\n",
      "\u001B[?25h  Getting requirements to build wheel ... \u001B[?25ldone\r\n",
      "\u001B[?25h  Preparing metadata (pyproject.toml) ... \u001B[?25ldone\r\n",
      "\u001B[?25hRequirement already satisfied: tqdm>=4.47.0 in /Users/kamranhussain/Documents/GitHub/bert-model-eval/venv/lib/python3.6/site-packages (from simpletransformers) (4.63.0)\r\n",
      "Collecting wandb>=0.10.32\r\n",
      "  Using cached wandb-0.12.11-py2.py3-none-any.whl (1.7 MB)\r\n",
      "Requirement already satisfied: importlib-resources in /Users/kamranhussain/Documents/GitHub/bert-model-eval/venv/lib/python3.6/site-packages (from tqdm>=4.47.0->simpletransformers) (5.4.0)\r\n",
      "Collecting huggingface-hub<1.0,>=0.1.0\r\n",
      "  Using cached huggingface_hub-0.4.0-py3-none-any.whl (67 kB)\r\n",
      "Collecting filelock\r\n",
      "  Using cached filelock-3.4.1-py3-none-any.whl (9.9 kB)\r\n",
      "Requirement already satisfied: importlib-metadata in /Users/kamranhussain/Documents/GitHub/bert-model-eval/venv/lib/python3.6/site-packages (from transformers>=4.6.0->simpletransformers) (4.8.3)\r\n",
      "Collecting sacremoses\r\n",
      "  Using cached sacremoses-0.0.49-py3-none-any.whl (895 kB)\r\n",
      "Requirement already satisfied: dataclasses in /Users/kamranhussain/Documents/GitHub/bert-model-eval/venv/lib/python3.6/site-packages (from transformers>=4.6.0->simpletransformers) (0.8)\r\n",
      "Collecting pyyaml>=5.1\r\n",
      "  Using cached PyYAML-6.0-cp36-cp36m-macosx_10_9_x86_64.whl (189 kB)\r\n",
      "Requirement already satisfied: packaging>=20.0 in /Users/kamranhussain/Documents/GitHub/bert-model-eval/venv/lib/python3.6/site-packages (from transformers>=4.6.0->simpletransformers) (21.3)\r\n",
      "Collecting yaspin>=1.0.0\r\n",
      "  Using cached yaspin-2.1.0-py3-none-any.whl (18 kB)\r\n",
      "Collecting GitPython>=1.0.0\r\n",
      "  Using cached GitPython-3.1.18-py3-none-any.whl (170 kB)\r\n",
      "Collecting psutil>=5.0.0\r\n",
      "  Using cached psutil-5.9.0-cp36-cp36m-macosx_10_9_x86_64.whl (238 kB)\r\n",
      "Collecting promise<3,>=2.0\r\n",
      "  Using cached promise-2.3-py3-none-any.whl\r\n",
      "Requirement already satisfied: protobuf>=3.12.0 in /Users/kamranhussain/Documents/GitHub/bert-model-eval/venv/lib/python3.6/site-packages (from wandb>=0.10.32->simpletransformers) (3.19.4)\r\n",
      "Collecting pathtools\r\n",
      "  Using cached pathtools-0.1.2-py3-none-any.whl\r\n",
      "Requirement already satisfied: Click!=8.0.0,>=7.0 in /Users/kamranhussain/Documents/GitHub/bert-model-eval/venv/lib/python3.6/site-packages (from wandb>=0.10.32->simpletransformers) (7.1.2)\r\n",
      "Collecting docker-pycreds>=0.4.0\r\n",
      "  Using cached docker_pycreds-0.4.0-py2.py3-none-any.whl (9.0 kB)\r\n",
      "Collecting sentry-sdk>=1.0.0\r\n",
      "  Using cached sentry_sdk-1.5.8-py2.py3-none-any.whl (144 kB)\r\n",
      "Collecting shortuuid>=0.5.0\r\n",
      "  Using cached shortuuid-1.0.8-py3-none-any.whl (9.5 kB)\r\n",
      "Collecting setproctitle\r\n",
      "  Using cached setproctitle-1.2.2-cp36-cp36m-macosx_10_9_x86_64.whl\r\n",
      "Requirement already satisfied: python-dateutil>=2.6.1 in /Users/kamranhussain/Documents/GitHub/bert-model-eval/venv/lib/python3.6/site-packages (from wandb>=0.10.32->simpletransformers) (2.8.2)\r\n",
      "Requirement already satisfied: six>=1.13.0 in /Users/kamranhussain/Documents/GitHub/bert-model-eval/venv/lib/python3.6/site-packages (from wandb>=0.10.32->simpletransformers) (1.15.0)\r\n",
      "Requirement already satisfied: idna<4,>=2.5 in /Users/kamranhussain/Documents/GitHub/bert-model-eval/venv/lib/python3.6/site-packages (from requests->simpletransformers) (3.3)\r\n",
      "Requirement already satisfied: certifi>=2017.4.17 in /Users/kamranhussain/Documents/GitHub/bert-model-eval/venv/lib/python3.6/site-packages (from requests->simpletransformers) (2021.10.8)\r\n",
      "Requirement already satisfied: charset-normalizer~=2.0.0 in /Users/kamranhussain/Documents/GitHub/bert-model-eval/venv/lib/python3.6/site-packages (from requests->simpletransformers) (2.0.12)\r\n",
      "Requirement already satisfied: urllib3<1.27,>=1.21.1 in /Users/kamranhussain/Documents/GitHub/bert-model-eval/venv/lib/python3.6/site-packages (from requests->simpletransformers) (1.26.8)\r\n",
      "Collecting fsspec[http]>=2021.05.0\r\n",
      "  Using cached fsspec-2022.1.0-py3-none-any.whl (133 kB)\r\n",
      "Collecting responses<0.19\r\n",
      "  Using cached responses-0.17.0-py2.py3-none-any.whl (38 kB)\r\n",
      "Collecting pyarrow>=5.0.0\r\n",
      "  Using cached pyarrow-6.0.1-cp36-cp36m-macosx_10_13_x86_64.whl (19.1 MB)\r\n",
      "Collecting xxhash\r\n",
      "  Using cached xxhash-3.0.0-cp36-cp36m-macosx_10_9_x86_64.whl (33 kB)\r\n",
      "Collecting dill\r\n",
      "  Using cached dill-0.3.4-py2.py3-none-any.whl (86 kB)\r\n",
      "Collecting aiohttp\r\n",
      "  Using cached aiohttp-3.8.1-cp36-cp36m-macosx_10_9_x86_64.whl (571 kB)\r\n",
      "Collecting multiprocess\r\n",
      "  Using cached multiprocess-0.70.12.2-py36-none-any.whl (106 kB)\r\n",
      "Requirement already satisfied: pytz>=2017.2 in /Users/kamranhussain/Documents/GitHub/bert-model-eval/venv/lib/python3.6/site-packages (from pandas->simpletransformers) (2021.3)\r\n",
      "Requirement already satisfied: joblib>=0.11 in /Users/kamranhussain/Documents/GitHub/bert-model-eval/venv/lib/python3.6/site-packages (from scikit-learn->simpletransformers) (1.1.0)\r\n",
      "Requirement already satisfied: threadpoolctl>=2.0.0 in /Users/kamranhussain/Documents/GitHub/bert-model-eval/venv/lib/python3.6/site-packages (from scikit-learn->simpletransformers) (3.1.0)\r\n",
      "Collecting pydeck>=0.1.dev5\r\n",
      "  Using cached pydeck-0.6.2-py2.py3-none-any.whl (4.2 MB)\r\n",
      "Requirement already satisfied: attrs in /Users/kamranhussain/Documents/GitHub/bert-model-eval/venv/lib/python3.6/site-packages (from streamlit->simpletransformers) (21.4.0)\r\n",
      "Collecting blinker\r\n",
      "  Using cached blinker-1.4-py3-none-any.whl\r\n",
      "Requirement already satisfied: tornado>=5.0 in /Users/kamranhussain/Documents/GitHub/bert-model-eval/venv/lib/python3.6/site-packages (from streamlit->simpletransformers) (6.1)\r\n",
      "Collecting tzlocal\r\n",
      "  Using cached tzlocal-4.1-py3-none-any.whl (19 kB)\r\n",
      "Requirement already satisfied: cachetools>=4.0 in /Users/kamranhussain/Documents/GitHub/bert-model-eval/venv/lib/python3.6/site-packages (from streamlit->simpletransformers) (4.2.4)\r\n",
      "Requirement already satisfied: typing-extensions in /Users/kamranhussain/Documents/GitHub/bert-model-eval/venv/lib/python3.6/site-packages (from streamlit->simpletransformers) (3.7.4.3)\r\n",
      "Requirement already satisfied: pillow>=6.2.0 in /Users/kamranhussain/Documents/GitHub/bert-model-eval/venv/lib/python3.6/site-packages (from streamlit->simpletransformers) (8.4.0)\r\n",
      "Collecting pympler>=0.9\r\n",
      "  Using cached Pympler-1.0.1-py3-none-any.whl (164 kB)\r\n",
      "Collecting semver\r\n",
      "  Using cached semver-2.13.0-py2.py3-none-any.whl (12 kB)\r\n",
      "Collecting validators\r\n",
      "  Using cached validators-0.18.2-py3-none-any.whl (19 kB)\r\n",
      "Collecting altair>=3.2.0\r\n",
      "  Using cached altair-4.1.0-py3-none-any.whl (727 kB)\r\n",
      "Collecting toml\r\n",
      "  Using cached toml-0.10.2-py2.py3-none-any.whl (16 kB)\r\n",
      "Requirement already satisfied: tensorboard-plugin-wit>=1.6.0 in /Users/kamranhussain/Documents/GitHub/bert-model-eval/venv/lib/python3.6/site-packages (from tensorboard->simpletransformers) (1.8.1)\r\n",
      "Requirement already satisfied: absl-py>=0.4 in /Users/kamranhussain/Documents/GitHub/bert-model-eval/venv/lib/python3.6/site-packages (from tensorboard->simpletransformers) (0.15.0)\r\n",
      "Requirement already satisfied: tensorboard-data-server<0.7.0,>=0.6.0 in /Users/kamranhussain/Documents/GitHub/bert-model-eval/venv/lib/python3.6/site-packages (from tensorboard->simpletransformers) (0.6.1)\r\n",
      "Requirement already satisfied: wheel>=0.26 in /Users/kamranhussain/Documents/GitHub/bert-model-eval/venv/lib/python3.6/site-packages (from tensorboard->simpletransformers) (0.36.2)\r\n",
      "Requirement already satisfied: setuptools>=41.0.0 in /Users/kamranhussain/Documents/GitHub/bert-model-eval/venv/lib/python3.6/site-packages (from tensorboard->simpletransformers) (57.0.0)\r\n",
      "Requirement already satisfied: google-auth-oauthlib<0.5,>=0.4.1 in /Users/kamranhussain/Documents/GitHub/bert-model-eval/venv/lib/python3.6/site-packages (from tensorboard->simpletransformers) (0.4.6)\r\n",
      "Requirement already satisfied: werkzeug>=0.11.15 in /Users/kamranhussain/Documents/GitHub/bert-model-eval/venv/lib/python3.6/site-packages (from tensorboard->simpletransformers) (2.0.3)\r\n",
      "Requirement already satisfied: grpcio>=1.24.3 in /Users/kamranhussain/Documents/GitHub/bert-model-eval/venv/lib/python3.6/site-packages (from tensorboard->simpletransformers) (1.43.0)\r\n",
      "Requirement already satisfied: google-auth<2,>=1.6.3 in /Users/kamranhussain/Documents/GitHub/bert-model-eval/venv/lib/python3.6/site-packages (from tensorboard->simpletransformers) (1.35.0)\r\n",
      "Requirement already satisfied: markdown>=2.6.8 in /Users/kamranhussain/Documents/GitHub/bert-model-eval/venv/lib/python3.6/site-packages (from tensorboard->simpletransformers) (3.3.6)\r\n",
      "Requirement already satisfied: entrypoints in /Users/kamranhussain/Documents/GitHub/bert-model-eval/venv/lib/python3.6/site-packages (from altair>=3.2.0->streamlit->simpletransformers) (0.4)\r\n",
      "Collecting toolz\r\n",
      "  Using cached toolz-0.11.2-py3-none-any.whl (55 kB)\r\n",
      "Requirement already satisfied: jsonschema in /Users/kamranhussain/Documents/GitHub/bert-model-eval/venv/lib/python3.6/site-packages (from altair>=3.2.0->streamlit->simpletransformers) (3.2.0)\r\n",
      "Requirement already satisfied: jinja2 in /Users/kamranhussain/Documents/GitHub/bert-model-eval/venv/lib/python3.6/site-packages (from altair>=3.2.0->streamlit->simpletransformers) (3.0.3)\r\n",
      "Collecting gitdb<5,>=4.0.1\r\n",
      "  Using cached gitdb-4.0.9-py3-none-any.whl (63 kB)\r\n",
      "Requirement already satisfied: rsa<5,>=3.1.4 in /Users/kamranhussain/Documents/GitHub/bert-model-eval/venv/lib/python3.6/site-packages (from google-auth<2,>=1.6.3->tensorboard->simpletransformers) (4.8)\r\n",
      "Requirement already satisfied: pyasn1-modules>=0.2.1 in /Users/kamranhussain/Documents/GitHub/bert-model-eval/venv/lib/python3.6/site-packages (from google-auth<2,>=1.6.3->tensorboard->simpletransformers) (0.2.8)\r\n",
      "Requirement already satisfied: requests-oauthlib>=0.7.0 in /Users/kamranhussain/Documents/GitHub/bert-model-eval/venv/lib/python3.6/site-packages (from google-auth-oauthlib<0.5,>=0.4.1->tensorboard->simpletransformers) (1.3.1)\r\n",
      "Requirement already satisfied: zipp>=0.5 in /Users/kamranhussain/Documents/GitHub/bert-model-eval/venv/lib/python3.6/site-packages (from importlib-metadata->transformers>=4.6.0->simpletransformers) (3.6.0)\r\n",
      "Requirement already satisfied: pyparsing!=3.0.5,>=2.0.2 in /Users/kamranhussain/Documents/GitHub/bert-model-eval/venv/lib/python3.6/site-packages (from packaging>=20.0->transformers>=4.6.0->simpletransformers) (3.0.7)\r\n",
      "Requirement already satisfied: ipykernel>=5.1.2 in /Users/kamranhussain/Documents/GitHub/bert-model-eval/venv/lib/python3.6/site-packages (from pydeck>=0.1.dev5->streamlit->simpletransformers) (5.5.6)\r\n",
      "Requirement already satisfied: ipywidgets>=7.0.0 in /Users/kamranhussain/Documents/GitHub/bert-model-eval/venv/lib/python3.6/site-packages (from pydeck>=0.1.dev5->streamlit->simpletransformers) (7.6.5)\r\n",
      "Requirement already satisfied: traitlets>=4.3.2 in /Users/kamranhussain/Documents/GitHub/bert-model-eval/venv/lib/python3.6/site-packages (from pydeck>=0.1.dev5->streamlit->simpletransformers) (4.3.3)\r\n",
      "Requirement already satisfied: termcolor<2.0.0,>=1.1.0 in /Users/kamranhussain/Documents/GitHub/bert-model-eval/venv/lib/python3.6/site-packages (from yaspin>=1.0.0->wandb>=0.10.32->simpletransformers) (1.1.0)\r\n",
      "Collecting frozenlist>=1.1.1\r\n",
      "  Using cached frozenlist-1.2.0-cp36-cp36m-macosx_10_9_x86_64.whl (81 kB)\r\n",
      "Collecting aiosignal>=1.1.2\r\n",
      "  Using cached aiosignal-1.2.0-py3-none-any.whl (8.2 kB)\r\n",
      "Collecting yarl<2.0,>=1.0\r\n",
      "  Using cached yarl-1.7.2-cp36-cp36m-macosx_10_9_x86_64.whl (120 kB)\r\n",
      "Collecting idna-ssl>=1.0\r\n",
      "  Using cached idna_ssl-1.1.0-py3-none-any.whl\r\n",
      "Collecting async-timeout<5.0,>=4.0.0a3\r\n",
      "  Using cached async_timeout-4.0.2-py3-none-any.whl (5.8 kB)\r\n",
      "Collecting asynctest==0.13.0\r\n",
      "  Using cached asynctest-0.13.0-py3-none-any.whl (26 kB)\r\n",
      "Collecting multidict<7.0,>=4.5\r\n",
      "  Using cached multidict-5.2.0-cp36-cp36m-macosx_10_9_x86_64.whl (45 kB)\r\n",
      "Collecting pytz-deprecation-shim\r\n",
      "  Using cached pytz_deprecation_shim-0.1.0.post0-py2.py3-none-any.whl (15 kB)\r\n",
      "Collecting backports.zoneinfo\r\n",
      "  Using cached backports.zoneinfo-0.2.1-cp36-cp36m-macosx_10_14_x86_64.whl (35 kB)\r\n",
      "Requirement already satisfied: decorator>=3.4.0 in /Users/kamranhussain/Documents/GitHub/bert-model-eval/venv/lib/python3.6/site-packages (from validators->streamlit->simpletransformers) (5.1.1)\r\n",
      "Collecting smmap<6,>=3.0.1\r\n",
      "  Using cached smmap-5.0.0-py3-none-any.whl (24 kB)\r\n",
      "Requirement already satisfied: ipython>=5.0.0 in /Users/kamranhussain/Documents/GitHub/bert-model-eval/venv/lib/python3.6/site-packages (from ipykernel>=5.1.2->pydeck>=0.1.dev5->streamlit->simpletransformers) (7.16.3)\r\n",
      "Requirement already satisfied: appnope in /Users/kamranhussain/Documents/GitHub/bert-model-eval/venv/lib/python3.6/site-packages (from ipykernel>=5.1.2->pydeck>=0.1.dev5->streamlit->simpletransformers) (0.1.2)\r\n",
      "Requirement already satisfied: ipython-genutils in /Users/kamranhussain/Documents/GitHub/bert-model-eval/venv/lib/python3.6/site-packages (from ipykernel>=5.1.2->pydeck>=0.1.dev5->streamlit->simpletransformers) (0.2.0)\r\n",
      "Requirement already satisfied: jupyter-client in /Users/kamranhussain/Documents/GitHub/bert-model-eval/venv/lib/python3.6/site-packages (from ipykernel>=5.1.2->pydeck>=0.1.dev5->streamlit->simpletransformers) (7.1.2)\r\n",
      "Requirement already satisfied: nbformat>=4.2.0 in /Users/kamranhussain/Documents/GitHub/bert-model-eval/venv/lib/python3.6/site-packages (from ipywidgets>=7.0.0->pydeck>=0.1.dev5->streamlit->simpletransformers) (5.1.3)\r\n",
      "Requirement already satisfied: jupyterlab-widgets>=1.0.0 in /Users/kamranhussain/Documents/GitHub/bert-model-eval/venv/lib/python3.6/site-packages (from ipywidgets>=7.0.0->pydeck>=0.1.dev5->streamlit->simpletransformers) (1.0.2)\r\n",
      "Requirement already satisfied: widgetsnbextension~=3.5.0 in /Users/kamranhussain/Documents/GitHub/bert-model-eval/venv/lib/python3.6/site-packages (from ipywidgets>=7.0.0->pydeck>=0.1.dev5->streamlit->simpletransformers) (3.5.2)\r\n",
      "Requirement already satisfied: MarkupSafe>=2.0 in /Users/kamranhussain/Documents/GitHub/bert-model-eval/venv/lib/python3.6/site-packages (from jinja2->altair>=3.2.0->streamlit->simpletransformers) (2.0.1)\r\n",
      "Requirement already satisfied: pyasn1<0.5.0,>=0.4.6 in /Users/kamranhussain/Documents/GitHub/bert-model-eval/venv/lib/python3.6/site-packages (from pyasn1-modules>=0.2.1->google-auth<2,>=1.6.3->tensorboard->simpletransformers) (0.4.8)\r\n",
      "Requirement already satisfied: oauthlib>=3.0.0 in /Users/kamranhussain/Documents/GitHub/bert-model-eval/venv/lib/python3.6/site-packages (from requests-oauthlib>=0.7.0->google-auth-oauthlib<0.5,>=0.4.1->tensorboard->simpletransformers) (3.2.0)\r\n",
      "Requirement already satisfied: pyrsistent>=0.14.0 in /Users/kamranhussain/Documents/GitHub/bert-model-eval/venv/lib/python3.6/site-packages (from jsonschema->altair>=3.2.0->streamlit->simpletransformers) (0.18.0)\r\n",
      "Collecting tzdata\r\n",
      "  Using cached tzdata-2022.1-py2.py3-none-any.whl (339 kB)\r\n",
      "Requirement already satisfied: jedi<=0.17.2,>=0.10 in /Users/kamranhussain/Documents/GitHub/bert-model-eval/venv/lib/python3.6/site-packages (from ipython>=5.0.0->ipykernel>=5.1.2->pydeck>=0.1.dev5->streamlit->simpletransformers) (0.17.2)\r\n",
      "Requirement already satisfied: prompt-toolkit!=3.0.0,!=3.0.1,<3.1.0,>=2.0.0 in /Users/kamranhussain/Documents/GitHub/bert-model-eval/venv/lib/python3.6/site-packages (from ipython>=5.0.0->ipykernel>=5.1.2->pydeck>=0.1.dev5->streamlit->simpletransformers) (3.0.28)\r\n",
      "Requirement already satisfied: pygments in /Users/kamranhussain/Documents/GitHub/bert-model-eval/venv/lib/python3.6/site-packages (from ipython>=5.0.0->ipykernel>=5.1.2->pydeck>=0.1.dev5->streamlit->simpletransformers) (2.11.2)\r\n",
      "Requirement already satisfied: pickleshare in /Users/kamranhussain/Documents/GitHub/bert-model-eval/venv/lib/python3.6/site-packages (from ipython>=5.0.0->ipykernel>=5.1.2->pydeck>=0.1.dev5->streamlit->simpletransformers) (0.7.5)\r\n",
      "Requirement already satisfied: backcall in /Users/kamranhussain/Documents/GitHub/bert-model-eval/venv/lib/python3.6/site-packages (from ipython>=5.0.0->ipykernel>=5.1.2->pydeck>=0.1.dev5->streamlit->simpletransformers) (0.2.0)\r\n",
      "Requirement already satisfied: pexpect in /Users/kamranhussain/Documents/GitHub/bert-model-eval/venv/lib/python3.6/site-packages (from ipython>=5.0.0->ipykernel>=5.1.2->pydeck>=0.1.dev5->streamlit->simpletransformers) (4.8.0)\r\n",
      "Requirement already satisfied: jupyter-core in /Users/kamranhussain/Documents/GitHub/bert-model-eval/venv/lib/python3.6/site-packages (from nbformat>=4.2.0->ipywidgets>=7.0.0->pydeck>=0.1.dev5->streamlit->simpletransformers) (4.9.1)\r\n",
      "Requirement already satisfied: notebook>=4.4.1 in /Users/kamranhussain/Documents/GitHub/bert-model-eval/venv/lib/python3.6/site-packages (from widgetsnbextension~=3.5.0->ipywidgets>=7.0.0->pydeck>=0.1.dev5->streamlit->simpletransformers) (6.4.8)\r\n",
      "Requirement already satisfied: nest-asyncio>=1.5 in /Users/kamranhussain/Documents/GitHub/bert-model-eval/venv/lib/python3.6/site-packages (from jupyter-client->ipykernel>=5.1.2->pydeck>=0.1.dev5->streamlit->simpletransformers) (1.5.4)\r\n",
      "Requirement already satisfied: pyzmq>=13 in /Users/kamranhussain/Documents/GitHub/bert-model-eval/venv/lib/python3.6/site-packages (from jupyter-client->ipykernel>=5.1.2->pydeck>=0.1.dev5->streamlit->simpletransformers) (22.3.0)\r\n",
      "Requirement already satisfied: parso<0.8.0,>=0.7.0 in /Users/kamranhussain/Documents/GitHub/bert-model-eval/venv/lib/python3.6/site-packages (from jedi<=0.17.2,>=0.10->ipython>=5.0.0->ipykernel>=5.1.2->pydeck>=0.1.dev5->streamlit->simpletransformers) (0.7.1)\r\n",
      "Requirement already satisfied: Send2Trash>=1.8.0 in /Users/kamranhussain/Documents/GitHub/bert-model-eval/venv/lib/python3.6/site-packages (from notebook>=4.4.1->widgetsnbextension~=3.5.0->ipywidgets>=7.0.0->pydeck>=0.1.dev5->streamlit->simpletransformers) (1.8.0)\r\n",
      "Requirement already satisfied: argon2-cffi in /Users/kamranhussain/Documents/GitHub/bert-model-eval/venv/lib/python3.6/site-packages (from notebook>=4.4.1->widgetsnbextension~=3.5.0->ipywidgets>=7.0.0->pydeck>=0.1.dev5->streamlit->simpletransformers) (21.3.0)\r\n",
      "Requirement already satisfied: prometheus-client in /Users/kamranhussain/Documents/GitHub/bert-model-eval/venv/lib/python3.6/site-packages (from notebook>=4.4.1->widgetsnbextension~=3.5.0->ipywidgets>=7.0.0->pydeck>=0.1.dev5->streamlit->simpletransformers) (0.13.1)\r\n",
      "Requirement already satisfied: nbconvert in /Users/kamranhussain/Documents/GitHub/bert-model-eval/venv/lib/python3.6/site-packages (from notebook>=4.4.1->widgetsnbextension~=3.5.0->ipywidgets>=7.0.0->pydeck>=0.1.dev5->streamlit->simpletransformers) (6.0.7)\r\n",
      "Requirement already satisfied: terminado>=0.8.3 in /Users/kamranhussain/Documents/GitHub/bert-model-eval/venv/lib/python3.6/site-packages (from notebook>=4.4.1->widgetsnbextension~=3.5.0->ipywidgets>=7.0.0->pydeck>=0.1.dev5->streamlit->simpletransformers) (0.12.1)\r\n",
      "Requirement already satisfied: wcwidth in /Users/kamranhussain/Documents/GitHub/bert-model-eval/venv/lib/python3.6/site-packages (from prompt-toolkit!=3.0.0,!=3.0.1,<3.1.0,>=2.0.0->ipython>=5.0.0->ipykernel>=5.1.2->pydeck>=0.1.dev5->streamlit->simpletransformers) (0.2.5)\r\n",
      "Requirement already satisfied: ptyprocess>=0.5 in /Users/kamranhussain/Documents/GitHub/bert-model-eval/venv/lib/python3.6/site-packages (from pexpect->ipython>=5.0.0->ipykernel>=5.1.2->pydeck>=0.1.dev5->streamlit->simpletransformers) (0.7.0)\r\n",
      "Requirement already satisfied: argon2-cffi-bindings in /Users/kamranhussain/Documents/GitHub/bert-model-eval/venv/lib/python3.6/site-packages (from argon2-cffi->notebook>=4.4.1->widgetsnbextension~=3.5.0->ipywidgets>=7.0.0->pydeck>=0.1.dev5->streamlit->simpletransformers) (21.2.0)\r\n",
      "Requirement already satisfied: nbclient<0.6.0,>=0.5.0 in /Users/kamranhussain/Documents/GitHub/bert-model-eval/venv/lib/python3.6/site-packages (from nbconvert->notebook>=4.4.1->widgetsnbextension~=3.5.0->ipywidgets>=7.0.0->pydeck>=0.1.dev5->streamlit->simpletransformers) (0.5.9)\r\n",
      "Requirement already satisfied: mistune<2,>=0.8.1 in /Users/kamranhussain/Documents/GitHub/bert-model-eval/venv/lib/python3.6/site-packages (from nbconvert->notebook>=4.4.1->widgetsnbextension~=3.5.0->ipywidgets>=7.0.0->pydeck>=0.1.dev5->streamlit->simpletransformers) (0.8.4)\r\n",
      "Requirement already satisfied: jupyterlab-pygments in /Users/kamranhussain/Documents/GitHub/bert-model-eval/venv/lib/python3.6/site-packages (from nbconvert->notebook>=4.4.1->widgetsnbextension~=3.5.0->ipywidgets>=7.0.0->pydeck>=0.1.dev5->streamlit->simpletransformers) (0.1.2)\r\n",
      "Requirement already satisfied: pandocfilters>=1.4.1 in /Users/kamranhussain/Documents/GitHub/bert-model-eval/venv/lib/python3.6/site-packages (from nbconvert->notebook>=4.4.1->widgetsnbextension~=3.5.0->ipywidgets>=7.0.0->pydeck>=0.1.dev5->streamlit->simpletransformers) (1.5.0)\r\n",
      "Requirement already satisfied: testpath in /Users/kamranhussain/Documents/GitHub/bert-model-eval/venv/lib/python3.6/site-packages (from nbconvert->notebook>=4.4.1->widgetsnbextension~=3.5.0->ipywidgets>=7.0.0->pydeck>=0.1.dev5->streamlit->simpletransformers) (0.5.0)\r\n",
      "Requirement already satisfied: bleach in /Users/kamranhussain/Documents/GitHub/bert-model-eval/venv/lib/python3.6/site-packages (from nbconvert->notebook>=4.4.1->widgetsnbextension~=3.5.0->ipywidgets>=7.0.0->pydeck>=0.1.dev5->streamlit->simpletransformers) (4.1.0)\r\n",
      "Requirement already satisfied: defusedxml in /Users/kamranhussain/Documents/GitHub/bert-model-eval/venv/lib/python3.6/site-packages (from nbconvert->notebook>=4.4.1->widgetsnbextension~=3.5.0->ipywidgets>=7.0.0->pydeck>=0.1.dev5->streamlit->simpletransformers) (0.7.1)\r\n",
      "Requirement already satisfied: async-generator in /Users/kamranhussain/Documents/GitHub/bert-model-eval/venv/lib/python3.6/site-packages (from nbclient<0.6.0,>=0.5.0->nbconvert->notebook>=4.4.1->widgetsnbextension~=3.5.0->ipywidgets>=7.0.0->pydeck>=0.1.dev5->streamlit->simpletransformers) (1.10)\r\n",
      "Requirement already satisfied: cffi>=1.0.1 in /Users/kamranhussain/Documents/GitHub/bert-model-eval/venv/lib/python3.6/site-packages (from argon2-cffi-bindings->argon2-cffi->notebook>=4.4.1->widgetsnbextension~=3.5.0->ipywidgets>=7.0.0->pydeck>=0.1.dev5->streamlit->simpletransformers) (1.15.0)\r\n",
      "Requirement already satisfied: webencodings in /Users/kamranhussain/Documents/GitHub/bert-model-eval/venv/lib/python3.6/site-packages (from bleach->nbconvert->notebook>=4.4.1->widgetsnbextension~=3.5.0->ipywidgets>=7.0.0->pydeck>=0.1.dev5->streamlit->simpletransformers) (0.5.1)\r\n",
      "Requirement already satisfied: pycparser in /Users/kamranhussain/Documents/GitHub/bert-model-eval/venv/lib/python3.6/site-packages (from cffi>=1.0.1->argon2-cffi-bindings->argon2-cffi->notebook>=4.4.1->widgetsnbextension~=3.5.0->ipywidgets>=7.0.0->pydeck>=0.1.dev5->streamlit->simpletransformers) (2.21)\r\n",
      "Building wheels for collected packages: tokenizers\r\n",
      "  Building wheel for tokenizers (pyproject.toml) ... \u001B[?25ldone\r\n",
      "\u001B[?25h  Created wheel for tokenizers: filename=tokenizers-0.11.6-cp36-cp36m-macosx_12_0_x86_64.whl size=3623557 sha256=305d45acffcf8dd9f0ac8adac9414008e0abab42b65dda41c977fa33446c6c85\r\n",
      "  Stored in directory: /Users/kamranhussain/Library/Caches/pip/wheels/d3/a9/4d/1b1fd5d97950ed2500a408ee56e1670fbf9de5b8153bc33637\r\n",
      "Successfully built tokenizers\r\n",
      "Installing collected packages: multidict, frozenlist, yarl, tzdata, smmap, idna-ssl, backports.zoneinfo, asynctest, async-timeout, aiosignal, toolz, pyyaml, pytz-deprecation-shim, gitdb, fsspec, filelock, dill, aiohttp, yaspin, xxhash, validators, tzlocal, toml, tokenizers, shortuuid, setproctitle, sentry-sdk, semver, sacremoses, responses, pympler, pydeck, pyarrow, psutil, promise, pathtools, multiprocess, huggingface-hub, GitPython, docker-pycreds, blinker, altair, wandb, transformers, streamlit, seqeval, sentencepiece, datasets, simpletransformers\r\n",
      "Successfully installed GitPython-3.1.18 aiohttp-3.8.1 aiosignal-1.2.0 altair-4.1.0 async-timeout-4.0.2 asynctest-0.13.0 backports.zoneinfo-0.2.1 blinker-1.4 datasets-2.0.0 dill-0.3.4 docker-pycreds-0.4.0 filelock-3.4.1 frozenlist-1.2.0 fsspec-2022.1.0 gitdb-4.0.9 huggingface-hub-0.4.0 idna-ssl-1.1.0 multidict-5.2.0 multiprocess-0.70.12.2 pathtools-0.1.2 promise-2.3 psutil-5.9.0 pyarrow-6.0.1 pydeck-0.6.2 pympler-1.0.1 pytz-deprecation-shim-0.1.0.post0 pyyaml-6.0 responses-0.17.0 sacremoses-0.0.49 semver-2.13.0 sentencepiece-0.1.96 sentry-sdk-1.5.8 seqeval-1.2.2 setproctitle-1.2.2 shortuuid-1.0.8 simpletransformers-0.63.6 smmap-5.0.0 streamlit-1.8.1 tokenizers-0.11.6 toml-0.10.2 toolz-0.11.2 transformers-4.17.0 tzdata-2022.1 tzlocal-4.1 validators-0.18.2 wandb-0.12.11 xxhash-3.0.0 yarl-1.7.2 yaspin-2.1.0\r\n"
     ]
    }
   ],
   "source": [
    "!pip install simpletransformers"
   ],
   "metadata": {
    "collapsed": false,
    "pycharm": {
     "name": "#%%\n"
    }
   }
  },
  {
   "cell_type": "code",
   "execution_count": 1,
   "metadata": {
    "collapsed": true
   },
   "outputs": [
    {
     "name": "stdout",
     "output_type": "stream",
     "text": [
      "GPU Available: False\n"
     ]
    }
   ],
   "source": [
    "import torch\n",
    "from simpletransformers.classification import ClassificationModel, ClassificationArgs\n",
    "import logging\n",
    "import numpy as np\n",
    "\n",
    "# Logging for model\n",
    "logging.basicConfig(level=logging.INFO)\n",
    "transformers_logger = logging.getLogger(\"transformers\")\n",
    "transformers_logger.setLevel(logging.WARNING)\n",
    "\n",
    "train_gpu = torch.cuda.is_available()\n",
    "print('GPU Available:', train_gpu)\n",
    "\n",
    "# Create a TransformerModel\n",
    "model_args = ClassificationArgs(num_train_epochs=2,\n",
    "                                reprocess_input_data=True,\n",
    "                                overwrite_output_dir=True,\n",
    "                                train_batch_size=1,\n",
    "                                )\n",
    "\n",
    "model = ClassificationModel('bert', '/Users/kamranhussain/Documents/GitHub/bert-model-eval/outputs/checkpoint-7702-epoch-1/', num_labels=3, args=model_args, use_cuda=train_gpu)"
   ]
  },
  {
   "cell_type": "markdown",
   "source": [
    "Load the model and prepare for demo"
   ],
   "metadata": {
    "collapsed": false
   }
  },
  {
   "cell_type": "code",
   "execution_count": 4,
   "outputs": [
    {
     "name": "stderr",
     "output_type": "stream",
     "text": [
      "INFO:simpletransformers.classification.classification_utils: Converting to features started. Cache is not used.\n"
     ]
    },
    {
     "data": {
      "text/plain": "  0%|          | 0/1 [00:00<?, ?it/s]",
      "application/vnd.jupyter.widget-view+json": {
       "version_major": 2,
       "version_minor": 0,
       "model_id": "11b41d0f05d046d0bbc539e26b8aca21"
      }
     },
     "metadata": {},
     "output_type": "display_data"
    },
    {
     "data": {
      "text/plain": "  0%|          | 0/1 [00:00<?, ?it/s]",
      "application/vnd.jupyter.widget-view+json": {
       "version_major": 2,
       "version_minor": 0,
       "model_id": "96e8cdcfba814f7191067d800e328679"
      }
     },
     "metadata": {},
     "output_type": "display_data"
    },
    {
     "name": "stdout",
     "output_type": "stream",
     "text": [
      "(array([0]), array([[ 4.9106102 , -3.72129369, -1.90747535]]))\n",
      "positive\n",
      "The input data was classified as: positive\n"
     ]
    }
   ],
   "source": [
    "def get_result(statement):\n",
    "    result = model.predict([statement])\n",
    "    print(result)\n",
    "    pos = np.where(result[1][0] == np.amax(result[1][0]))\n",
    "    pos = int(pos[0])\n",
    "    sentiment_dict = {0:'positive',1:'negative',2:'neutral'}\n",
    "    print(sentiment_dict[pos])\n",
    "    return sentiment_dict[pos]\n",
    "\n",
    "sentiment = get_result(input(\"Input a phrase for Validation: \"))\n",
    "print(\"The input data was classified as:\", sentiment)"
   ],
   "metadata": {
    "collapsed": false,
    "pycharm": {
     "name": "#%%\n"
    }
   }
  },
  {
   "cell_type": "code",
   "execution_count": null,
   "outputs": [],
   "source": [],
   "metadata": {
    "collapsed": false,
    "pycharm": {
     "name": "#%%\n"
    }
   }
  }
 ],
 "metadata": {
  "kernelspec": {
   "display_name": "Python 3",
   "language": "python",
   "name": "python3"
  },
  "language_info": {
   "codemirror_mode": {
    "name": "ipython",
    "version": 2
   },
   "file_extension": ".py",
   "mimetype": "text/x-python",
   "name": "python",
   "nbconvert_exporter": "python",
   "pygments_lexer": "ipython2",
   "version": "2.7.6"
  }
 },
 "nbformat": 4,
 "nbformat_minor": 0
}
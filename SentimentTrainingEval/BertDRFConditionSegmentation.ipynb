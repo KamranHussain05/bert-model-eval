{
 "cells": [
  {
   "cell_type": "markdown",
   "metadata": {
    "collapsed": false,
    "id": "x2wF0bMrdpJO"
   },
   "source": [
    "# BERT Weather Condition Custom Training and Sentiment Analysis Evaluation"
   ]
  },
  {
   "cell_type": "markdown",
   "metadata": {
    "collapsed": false,
    "id": "jjPtK9A-dpJW"
   },
   "source": [
    "Import the necessary libraries and packages. Pandas for the dataframe and in-memory data management. Numpy for linear algebra, wordcloud and matplotlib for visualization."
   ]
  },
  {
   "cell_type": "code",
   "execution_count": 1,
   "metadata": {
    "id": "IElTOk96dpJW"
   },
   "outputs": [],
   "source": [
    "import pandas as pd\n",
    "import numpy as np\n",
    "import matplotlib.pyplot as plt\n",
    "import seaborn as sns\n",
    "from sklearn.model_selection import train_test_split\n",
    "from wordcloud import WordCloud\n",
    "import os"
   ]
  },
  {
   "cell_type": "markdown",
   "metadata": {
    "collapsed": false,
    "id": "1XwrwvBydpJY"
   },
   "source": [
    "Import and read the data into a pandas dataframe"
   ]
  },
  {
   "cell_type": "code",
   "execution_count": 2,
   "metadata": {
    "colab": {
     "base_uri": "https://localhost:8080/"
    },
    "id": "xR5XvE75dpJZ",
    "outputId": "d7401526-e5db-4ab8-df97-1224d53f0384"
   },
   "outputs": [
    {
     "name": "stdout",
     "output_type": "stream",
     "text": [
      "File Found\n"
     ]
    }
   ],
   "source": [
    "path = \"daily_weather_2020.csv\" # path to data csv\n",
    "if(os.path.exists(path)):\n",
    "    print(\"File Found\")\n",
    "    df = pd.read_csv(path, usecols=['summary', 'icon'], low_memory=True, dtype=str)\n",
    "else:\n",
    "    print(\"no file found\")"
   ]
  },
  {
   "cell_type": "markdown",
   "metadata": {
    "collapsed": false,
    "id": "mY_8Ys9pdpJZ"
   },
   "source": [
    "# Data Cleaning and Validation setup"
   ]
  },
  {
   "cell_type": "markdown",
   "metadata": {
    "collapsed": false,
    "id": "Q1lfXMu0dpJa"
   },
   "source": [
    "Replace the icon column of the dataframe and check all the data was loaded properly as expected. The icon column items are replaced with the proper sentiment instead of the current icon value. This will help with validation when training the data. The entire dataset has validation."
   ]
  },
  {
   "cell_type": "code",
   "execution_count": 3,
   "metadata": {
    "colab": {
     "base_uri": "https://localhost:8080/"
    },
    "id": "pA2yWj7QdpJb",
    "outputId": "199625bd-337d-48f6-e313-1356aaea5a8d"
   },
   "outputs": [
    {
     "name": "stdout",
     "output_type": "stream",
     "text": [
      "<class 'pandas.core.frame.DataFrame'>\n",
      "RangeIndex: 30688 entries, 0 to 30687\n",
      "Data columns (total 2 columns):\n",
      " #   Column     Non-Null Count  Dtype \n",
      "---  ------     --------------  ----- \n",
      " 0   statement  30685 non-null  object\n",
      " 1   sentiment  30688 non-null  object\n",
      "dtypes: object(2)\n",
      "memory usage: 479.6+ KB\n"
     ]
    }
   ],
   "source": [
    "# Print the dataframe basic information\n",
    "df = df.rename(columns={'summary':'statement', 'icon': 'sentiment'})\n",
    "df.info()\n",
    "# Set up the validation column in the dataframe without modifying the raw data\n",
    "def setValidation():\n",
    "    print(\"SETTING UP DATA VALIDATION\")\n",
    "    for i in range(len(df.sentiment)):\n",
    "        val = df.sentiment[i]\n",
    "        if val == 'rain' or val == 'snow' or val == 'wind' or val == 'fog':\n",
    "            df.sentiment[i] = 'negative' # negative sentiment\n",
    "        elif val == 'clear-day':\n",
    "            df.sentiment[i] = 'positive' # positive sentiment\n",
    "        elif val == 'partly-cloudy-day' or val == 'cloudy':\n",
    "            df.sentiment[i] = 'neutral' # neutral (possibly not enough data)\n",
    "    print(\"VALIDATION HAS BEEN SET UP\")"
   ]
  },
  {
   "cell_type": "markdown",
   "metadata": {
    "collapsed": false,
    "id": "v02At_McdpJd"
   },
   "source": [
    "The validation that is setup can be tested by running the snippet below. This is a time consuming and resource intensive step, so it is not recommended to run this when reusing the same dataset."
   ]
  },
  {
   "cell_type": "code",
   "execution_count": 4,
   "metadata": {
    "id": "dDUnKrtedpJd",
    "colab": {
     "base_uri": "https://localhost:8080/"
    },
    "outputId": "ac434f9e-e72a-4e0a-b78e-e2639d1ed442"
   },
   "outputs": [
    {
     "name": "stdout",
     "output_type": "stream",
     "text": [
      "SETTING UP DATA VALIDATION\n",
      "VALIDATION HAS BEEN SET UP\n",
      "CHECKING VALIDATION DATA\n",
      "Favorable Count: 8527\n",
      "Unfavorable Count: 12904\n",
      "Neutral Count: 9257\n",
      "PROCESS COMPLETED\n"
     ]
    }
   ],
   "source": [
    "# check the validation edit worked\n",
    "def checkValidationSetting():\n",
    "    print(\"CHECKING VALIDATION DATA\")\n",
    "    favorable_count = 0\n",
    "    unfavorable_count = 0\n",
    "    neutral_count = 0\n",
    "\n",
    "    for i in range(len(df.sentiment)):\n",
    "        if(df.sentiment[i] == 'positive'):\n",
    "            favorable_count +=1\n",
    "        elif(df.sentiment[i] == 'negative'):\n",
    "            unfavorable_count +=1\n",
    "        elif(df.sentiment[i] == 'neutral'):\n",
    "            neutral_count +=1\n",
    "\n",
    "    print('Favorable Count: ' + str(favorable_count))\n",
    "    print('Unfavorable Count: ' + str(unfavorable_count))\n",
    "    print('Neutral Count: ' + str(neutral_count))\n",
    "\n",
    "\n",
    "setValidation()\n",
    "checkValidationSetting()\n",
    "print('PROCESS COMPLETED')"
   ]
  },
  {
   "cell_type": "markdown",
   "metadata": {
    "collapsed": false,
    "id": "8lSFEygBdpJe"
   },
   "source": [
    "# Test and Train DataFrames"
   ]
  },
  {
   "cell_type": "code",
   "execution_count": 5,
   "metadata": {
    "id": "w9ltOKG7dpJe"
   },
   "outputs": [],
   "source": [
    "train,eva = train_test_split(df,test_size=0.1)"
   ]
  },
  {
   "cell_type": "markdown",
   "metadata": {
    "collapsed": false,
    "id": "91BtNd8ydpJf"
   },
   "source": [
    "# Model Setup"
   ]
  },
  {
   "cell_type": "markdown",
   "metadata": {
    "collapsed": false,
    "id": "E3Hhhfa5dpJf"
   },
   "source": [
    "The BERT model is setup here with the sentiment classifiers. The model segments into three classes by default. These three classes are mapped to condition sentiments in the model setup."
   ]
  },
  {
   "cell_type": "code",
   "execution_count": 7,
   "metadata": {
    "id": "9o3p-D9TdpJg",
    "colab": {
     "base_uri": "https://localhost:8080/"
    },
    "outputId": "22511cd3-a39c-4f1a-b415-2c71cc2eb1c5"
   },
   "outputs": [
    {
     "name": "stdout",
     "output_type": "stream",
     "text": [
      "\u001B[33mWARNING: Retrying (Retry(total=4, connect=None, read=None, redirect=None, status=None)) after connection broken by 'NewConnectionError('<pip._vendor.urllib3.connection.HTTPSConnection object at 0x7fd6d2b29f98>: Failed to establish a new connection: [Errno 8] nodename nor servname provided, or not known',)': /simple/simpletransformers/\u001B[0m\r\n",
      "\u001B[33mWARNING: Retrying (Retry(total=3, connect=None, read=None, redirect=None, status=None)) after connection broken by 'NewConnectionError('<pip._vendor.urllib3.connection.HTTPSConnection object at 0x7fd6d2b4d208>: Failed to establish a new connection: [Errno 8] nodename nor servname provided, or not known',)': /simple/simpletransformers/\u001B[0m\r\n",
      "\u001B[33mWARNING: Retrying (Retry(total=2, connect=None, read=None, redirect=None, status=None)) after connection broken by 'NewConnectionError('<pip._vendor.urllib3.connection.HTTPSConnection object at 0x7fd6d2b4d358>: Failed to establish a new connection: [Errno 8] nodename nor servname provided, or not known',)': /simple/simpletransformers/\u001B[0m\r\n",
      "\u001B[33mWARNING: Retrying (Retry(total=1, connect=None, read=None, redirect=None, status=None)) after connection broken by 'NewConnectionError('<pip._vendor.urllib3.connection.HTTPSConnection object at 0x7fd6d2b4d4a8>: Failed to establish a new connection: [Errno 8] nodename nor servname provided, or not known',)': /simple/simpletransformers/\u001B[0m\r\n",
      "\u001B[33mWARNING: Retrying (Retry(total=0, connect=None, read=None, redirect=None, status=None)) after connection broken by 'NewConnectionError('<pip._vendor.urllib3.connection.HTTPSConnection object at 0x7fd6d2b4d5f8>: Failed to establish a new connection: [Errno 8] nodename nor servname provided, or not known',)': /simple/simpletransformers/\u001B[0m\r\n",
      "\u001B[31mERROR: Could not find a version that satisfies the requirement simpletransformers (from versions: none)\u001B[0m\r\n",
      "\u001B[31mERROR: No matching distribution found for simpletransformers\u001B[0m\r\n"
     ]
    }
   ],
   "source": [
    "!pip install simpletransformers"
   ]
  },
  {
   "cell_type": "code",
   "execution_count": 14,
   "metadata": {
    "id": "myYzSRCndpJg",
    "colab": {
     "base_uri": "https://localhost:8080/"
    },
    "outputId": "89686632-e496-4fce-e7c8-d7b489e17c83"
   },
   "outputs": [
    {
     "output_type": "stream",
     "name": "stderr",
     "text": [
      "Some weights of the model checkpoint at bert-base-cased were not used when initializing BertForSequenceClassification: ['cls.predictions.transform.LayerNorm.bias', 'cls.seq_relationship.weight', 'cls.predictions.transform.LayerNorm.weight', 'cls.predictions.transform.dense.bias', 'cls.seq_relationship.bias', 'cls.predictions.bias', 'cls.predictions.decoder.weight', 'cls.predictions.transform.dense.weight']\n",
      "- This IS expected if you are initializing BertForSequenceClassification from the checkpoint of a model trained on another task or with another architecture (e.g. initializing a BertForSequenceClassification model from a BertForPreTraining model).\n",
      "- This IS NOT expected if you are initializing BertForSequenceClassification from the checkpoint of a model that you expect to be exactly identical (initializing a BertForSequenceClassification model from a BertForSequenceClassification model).\n",
      "Some weights of BertForSequenceClassification were not initialized from the model checkpoint at bert-base-cased and are newly initialized: ['classifier.bias', 'classifier.weight']\n",
      "You should probably TRAIN this model on a down-stream task to be able to use it for predictions and inference.\n"
     ]
    }
   ],
   "source": [
    "from simpletransformers.classification import ClassificationModel\n",
    "\n",
    "# Create a TransformerModel\n",
    "model = ClassificationModel('bert', 'bert-base-cased', num_labels=3, args={'reprocess_input_data': True, 'overwrite_output_dir': True},use_cuda=True)"
   ]
  },
  {
   "cell_type": "markdown",
   "metadata": {
    "collapsed": false,
    "id": "ht7BfbvRdpJg"
   },
   "source": [
    "The default model outputs are overwritten here and replaced with the relevant condition sentiment"
   ]
  },
  {
   "cell_type": "code",
   "execution_count": 15,
   "metadata": {
    "id": "FxQpb1gfdpJg",
    "colab": {
     "base_uri": "https://localhost:8080/"
    },
    "outputId": "375f34a7-6a09-43c7-ada7-a5f5738e0995"
   },
   "outputs": [
    {
     "output_type": "stream",
     "name": "stdout",
     "text": [
      "(27619, 3)\n"
     ]
    }
   ],
   "source": [
    "# 0,1,2 : positive,negative\n",
    "def making_label(st):\n",
    "    if(st=='positive'):\n",
    "        return 0\n",
    "    elif(st=='neutral'):\n",
    "        return 2\n",
    "    else:\n",
    "        return 1\n",
    "\n",
    "train['label'] = train['sentiment'].apply(making_label)\n",
    "eva['label'] = eva['sentiment'].apply(making_label)\n",
    "print(train.shape)"
   ]
  },
  {
   "cell_type": "markdown",
   "metadata": {
    "collapsed": false,
    "id": "ppSyMA2WdpJh"
   },
   "source": [
    "The dataset is prepared for training via the creation of a test DataFrame and Evaluation DataFrame"
   ]
  },
  {
   "cell_type": "code",
   "execution_count": 16,
   "metadata": {
    "id": "fIhaFbRqdpJh",
    "colab": {
     "base_uri": "https://localhost:8080/"
    },
    "outputId": "2d2bf2c3-6674-40c8-ea53-a69c28f7e4bf"
   },
   "outputs": [
    {
     "output_type": "stream",
     "name": "stdout",
     "text": [
      "                                                    text  label\n",
      "14822                  Partly cloudy throughout the day.      2\n",
      "3072                                    Foggy overnight.      2\n",
      "23524                          Clear throughout the day.      0\n",
      "2110                      Light rain throughout the day.      1\n",
      "17889                          Clear throughout the day.      0\n",
      "...                                                  ...    ...\n",
      "10752        Humid and mostly cloudy throughout the day.      2\n",
      "383                    Mostly cloudy throughout the day.      2\n",
      "28601  Possible light snow (1–3 in.) in the morning a...      1\n",
      "11672                  Mostly cloudy throughout the day.      2\n",
      "5628                   Partly cloudy throughout the day.      0\n",
      "\n",
      "[27619 rows x 2 columns]\n"
     ]
    }
   ],
   "source": [
    "train_df = pd.DataFrame({\n",
    "    'text': train['statement'][:27619].replace(r'\\n', ' ', regex=True),\n",
    "    'label': train['label'][:27619]\n",
    "})\n",
    "print(train_df)\n",
    "eval_df = pd.DataFrame({\n",
    "    'text': eva['statement'][-400:].replace(r'\\n', ' ', regex=True),\n",
    "    'label': eva['label'][-400:]\n",
    "})"
   ]
  },
  {
   "cell_type": "markdown",
   "metadata": {
    "collapsed": false,
    "id": "EOgqQNEVdpJh"
   },
   "source": [
    "The DataFrames are then run through testing and new result variables are created for evaluating model metrics"
   ]
  },
  {
   "cell_type": "code",
   "execution_count": 18,
   "metadata": {
    "id": "4xWaVCxPdpJh",
    "colab": {
     "base_uri": "https://localhost:8080/",
     "height": 798,
     "referenced_widgets": [
      "8fa0b6f6a1a942afb23951a8e01c1341",
      "4eb862316c15427cad25c7190867fa4f",
      "16730c44ad28430a9175c9661e1a3f72",
      "da1c90a4042c4a3fbd3f096d78d2e6d6",
      "78c578efcaf74d7eac5ef2500b0003c0",
      "c714ab9a1450487ab749ed8bd2b7d12e",
      "10b089c6c9784799876c25187985895a",
      "d7b52645257241aeaceb299f9cc44788",
      "c9b191ace69447acabe46858702c163d",
      "47b592a41b7d40b881c04da5517ce0a6",
      "c5fae1a4340c47fea8031579814af9f7"
     ]
    },
    "outputId": "899d8709-874f-4882-d86e-5e5e5977d3d8"
   },
   "outputs": [
    {
     "output_type": "display_data",
     "data": {
      "application/vnd.jupyter.widget-view+json": {
       "model_id": "8fa0b6f6a1a942afb23951a8e01c1341",
       "version_minor": 0,
       "version_major": 2
      },
      "text/plain": [
       "  0%|          | 0/27619 [00:00<?, ?it/s]"
      ]
     },
     "metadata": {}
    },
    {
     "output_type": "stream",
     "name": "stderr",
     "text": [
      "Process ForkPoolWorker-3:\n",
      "Traceback (most recent call last):\n",
      "  File \"/usr/lib/python3.7/multiprocessing/process.py\", line 297, in _bootstrap\n",
      "    self.run()\n",
      "  File \"/usr/lib/python3.7/multiprocessing/process.py\", line 99, in run\n",
      "    self._target(*self._args, **self._kwargs)\n",
      "  File \"/usr/lib/python3.7/multiprocessing/pool.py\", line 121, in worker\n",
      "    result = (True, func(*args, **kwds))\n",
      "  File \"/usr/local/lib/python3.7/dist-packages/simpletransformers/classification/classification_utils.py\", line 127, in preprocess_data_multiprocessing\n",
      "    return_tensors=\"pt\",\n",
      "  File \"/usr/local/lib/python3.7/dist-packages/transformers/tokenization_utils_base.py\", line 2460, in __call__\n",
      "    **kwargs,\n",
      "  File \"/usr/local/lib/python3.7/dist-packages/transformers/tokenization_utils_base.py\", line 2651, in batch_encode_plus\n",
      "    **kwargs,\n",
      "  File \"/usr/local/lib/python3.7/dist-packages/transformers/tokenization_utils_fast.py\", line 427, in _batch_encode_plus\n",
      "    is_pretokenized=is_split_into_words,\n",
      "KeyboardInterrupt\n"
     ]
    },
    {
     "output_type": "error",
     "ename": "KeyboardInterrupt",
     "evalue": "ignored",
     "traceback": [
      "\u001B[0;31m---------------------------------------------------------------------------\u001B[0m",
      "\u001B[0;31mIndexError\u001B[0m                                Traceback (most recent call last)",
      "\u001B[0;32m/usr/lib/python3.7/multiprocessing/pool.py\u001B[0m in \u001B[0;36mnext\u001B[0;34m(self, timeout)\u001B[0m\n\u001B[1;32m    732\u001B[0m             \u001B[0;32mtry\u001B[0m\u001B[0;34m:\u001B[0m\u001B[0;34m\u001B[0m\u001B[0;34m\u001B[0m\u001B[0m\n\u001B[0;32m--> 733\u001B[0;31m                 \u001B[0mitem\u001B[0m \u001B[0;34m=\u001B[0m \u001B[0mself\u001B[0m\u001B[0;34m.\u001B[0m\u001B[0m_items\u001B[0m\u001B[0;34m.\u001B[0m\u001B[0mpopleft\u001B[0m\u001B[0;34m(\u001B[0m\u001B[0;34m)\u001B[0m\u001B[0;34m\u001B[0m\u001B[0;34m\u001B[0m\u001B[0m\n\u001B[0m\u001B[1;32m    734\u001B[0m             \u001B[0;32mexcept\u001B[0m \u001B[0mIndexError\u001B[0m\u001B[0;34m:\u001B[0m\u001B[0;34m\u001B[0m\u001B[0;34m\u001B[0m\u001B[0m\n",
      "\u001B[0;31mIndexError\u001B[0m: pop from an empty deque",
      "\nDuring handling of the above exception, another exception occurred:\n",
      "\u001B[0;31mKeyboardInterrupt\u001B[0m                         Traceback (most recent call last)",
      "\u001B[0;32m/tmp/ipykernel_330/3379111585.py\u001B[0m in \u001B[0;36m<module>\u001B[0;34m\u001B[0m\n\u001B[0;32m----> 1\u001B[0;31m \u001B[0mmodel\u001B[0m\u001B[0;34m.\u001B[0m\u001B[0mtrain_model\u001B[0m\u001B[0;34m(\u001B[0m\u001B[0mtrain_df\u001B[0m\u001B[0;34m)\u001B[0m\u001B[0;34m\u001B[0m\u001B[0;34m\u001B[0m\u001B[0m\n\u001B[0m\u001B[1;32m      2\u001B[0m \u001B[0mresult\u001B[0m\u001B[0;34m,\u001B[0m \u001B[0mmodel_outputs\u001B[0m\u001B[0;34m,\u001B[0m \u001B[0mwrong_predictions\u001B[0m \u001B[0;34m=\u001B[0m \u001B[0mmodel\u001B[0m\u001B[0;34m.\u001B[0m\u001B[0meval_model\u001B[0m\u001B[0;34m(\u001B[0m\u001B[0meval_df\u001B[0m\u001B[0;34m)\u001B[0m\u001B[0;34m\u001B[0m\u001B[0;34m\u001B[0m\u001B[0m\n",
      "\u001B[0;32m/usr/local/lib/python3.7/dist-packages/simpletransformers/classification/classification_model.py\u001B[0m in \u001B[0;36mtrain_model\u001B[0;34m(self, train_df, multi_label, output_dir, show_running_loss, args, eval_df, verbose, **kwargs)\u001B[0m\n\u001B[1;32m    591\u001B[0m                 )\n\u001B[1;32m    592\u001B[0m             train_dataset = self.load_and_cache_examples(\n\u001B[0;32m--> 593\u001B[0;31m                 \u001B[0mtrain_examples\u001B[0m\u001B[0;34m,\u001B[0m \u001B[0mverbose\u001B[0m\u001B[0;34m=\u001B[0m\u001B[0mverbose\u001B[0m\u001B[0;34m\u001B[0m\u001B[0;34m\u001B[0m\u001B[0m\n\u001B[0m\u001B[1;32m    594\u001B[0m             )\n\u001B[1;32m    595\u001B[0m         \u001B[0mtrain_sampler\u001B[0m \u001B[0;34m=\u001B[0m \u001B[0mRandomSampler\u001B[0m\u001B[0;34m(\u001B[0m\u001B[0mtrain_dataset\u001B[0m\u001B[0;34m)\u001B[0m\u001B[0;34m\u001B[0m\u001B[0;34m\u001B[0m\u001B[0m\n",
      "\u001B[0;32m/usr/local/lib/python3.7/dist-packages/simpletransformers/classification/classification_model.py\u001B[0m in \u001B[0;36mload_and_cache_examples\u001B[0;34m(self, examples, evaluate, no_cache, multi_label, verbose, silent)\u001B[0m\n\u001B[1;32m   1804\u001B[0m                 \u001B[0mmulti_label\u001B[0m\u001B[0;34m=\u001B[0m\u001B[0mmulti_label\u001B[0m\u001B[0;34m,\u001B[0m\u001B[0;34m\u001B[0m\u001B[0;34m\u001B[0m\u001B[0m\n\u001B[1;32m   1805\u001B[0m                 \u001B[0moutput_mode\u001B[0m\u001B[0;34m=\u001B[0m\u001B[0moutput_mode\u001B[0m\u001B[0;34m,\u001B[0m\u001B[0;34m\u001B[0m\u001B[0;34m\u001B[0m\u001B[0m\n\u001B[0;32m-> 1806\u001B[0;31m                 \u001B[0mno_cache\u001B[0m\u001B[0;34m=\u001B[0m\u001B[0mno_cache\u001B[0m\u001B[0;34m,\u001B[0m\u001B[0;34m\u001B[0m\u001B[0;34m\u001B[0m\u001B[0m\n\u001B[0m\u001B[1;32m   1807\u001B[0m             )\n\u001B[1;32m   1808\u001B[0m             \u001B[0;32mreturn\u001B[0m \u001B[0mdataset\u001B[0m\u001B[0;34m\u001B[0m\u001B[0;34m\u001B[0m\u001B[0m\n",
      "\u001B[0;32m/usr/local/lib/python3.7/dist-packages/simpletransformers/classification/classification_utils.py\u001B[0m in \u001B[0;36m__init__\u001B[0;34m(self, data, tokenizer, args, mode, multi_label, output_mode, no_cache)\u001B[0m\n\u001B[1;32m    277\u001B[0m     \u001B[0;32mdef\u001B[0m \u001B[0m__init__\u001B[0m\u001B[0;34m(\u001B[0m\u001B[0mself\u001B[0m\u001B[0;34m,\u001B[0m \u001B[0mdata\u001B[0m\u001B[0;34m,\u001B[0m \u001B[0mtokenizer\u001B[0m\u001B[0;34m,\u001B[0m \u001B[0margs\u001B[0m\u001B[0;34m,\u001B[0m \u001B[0mmode\u001B[0m\u001B[0;34m,\u001B[0m \u001B[0mmulti_label\u001B[0m\u001B[0;34m,\u001B[0m \u001B[0moutput_mode\u001B[0m\u001B[0;34m,\u001B[0m \u001B[0mno_cache\u001B[0m\u001B[0;34m)\u001B[0m\u001B[0;34m:\u001B[0m\u001B[0;34m\u001B[0m\u001B[0;34m\u001B[0m\u001B[0m\n\u001B[1;32m    278\u001B[0m         self.examples, self.labels = build_classification_dataset(\n\u001B[0;32m--> 279\u001B[0;31m             \u001B[0mdata\u001B[0m\u001B[0;34m,\u001B[0m \u001B[0mtokenizer\u001B[0m\u001B[0;34m,\u001B[0m \u001B[0margs\u001B[0m\u001B[0;34m,\u001B[0m \u001B[0mmode\u001B[0m\u001B[0;34m,\u001B[0m \u001B[0mmulti_label\u001B[0m\u001B[0;34m,\u001B[0m \u001B[0moutput_mode\u001B[0m\u001B[0;34m,\u001B[0m \u001B[0mno_cache\u001B[0m\u001B[0;34m\u001B[0m\u001B[0;34m\u001B[0m\u001B[0m\n\u001B[0m\u001B[1;32m    280\u001B[0m         )\n\u001B[1;32m    281\u001B[0m \u001B[0;34m\u001B[0m\u001B[0m\n",
      "\u001B[0;32m/usr/local/lib/python3.7/dist-packages/simpletransformers/classification/classification_utils.py\u001B[0m in \u001B[0;36mbuild_classification_dataset\u001B[0;34m(data, tokenizer, args, mode, multi_label, output_mode, no_cache)\u001B[0m\n\u001B[1;32m    247\u001B[0m                         \u001B[0mp\u001B[0m\u001B[0;34m.\u001B[0m\u001B[0mimap\u001B[0m\u001B[0;34m(\u001B[0m\u001B[0mpreprocess_data_multiprocessing\u001B[0m\u001B[0;34m,\u001B[0m \u001B[0mdata\u001B[0m\u001B[0;34m)\u001B[0m\u001B[0;34m,\u001B[0m\u001B[0;34m\u001B[0m\u001B[0;34m\u001B[0m\u001B[0m\n\u001B[1;32m    248\u001B[0m                         \u001B[0mtotal\u001B[0m\u001B[0;34m=\u001B[0m\u001B[0mlen\u001B[0m\u001B[0;34m(\u001B[0m\u001B[0mtext_a\u001B[0m\u001B[0;34m)\u001B[0m\u001B[0;34m,\u001B[0m\u001B[0;34m\u001B[0m\u001B[0;34m\u001B[0m\u001B[0m\n\u001B[0;32m--> 249\u001B[0;31m                         \u001B[0mdisable\u001B[0m\u001B[0;34m=\u001B[0m\u001B[0margs\u001B[0m\u001B[0;34m.\u001B[0m\u001B[0msilent\u001B[0m\u001B[0;34m,\u001B[0m\u001B[0;34m\u001B[0m\u001B[0;34m\u001B[0m\u001B[0m\n\u001B[0m\u001B[1;32m    250\u001B[0m                     )\n\u001B[1;32m    251\u001B[0m                 )\n",
      "\u001B[0;32m/usr/local/lib/python3.7/dist-packages/tqdm/notebook.py\u001B[0m in \u001B[0;36m__iter__\u001B[0;34m(self)\u001B[0m\n\u001B[1;32m    255\u001B[0m     \u001B[0;32mdef\u001B[0m \u001B[0m__iter__\u001B[0m\u001B[0;34m(\u001B[0m\u001B[0mself\u001B[0m\u001B[0;34m)\u001B[0m\u001B[0;34m:\u001B[0m\u001B[0;34m\u001B[0m\u001B[0;34m\u001B[0m\u001B[0m\n\u001B[1;32m    256\u001B[0m         \u001B[0;32mtry\u001B[0m\u001B[0;34m:\u001B[0m\u001B[0;34m\u001B[0m\u001B[0;34m\u001B[0m\u001B[0m\n\u001B[0;32m--> 257\u001B[0;31m             \u001B[0;32mfor\u001B[0m \u001B[0mobj\u001B[0m \u001B[0;32min\u001B[0m \u001B[0msuper\u001B[0m\u001B[0;34m(\u001B[0m\u001B[0mtqdm_notebook\u001B[0m\u001B[0;34m,\u001B[0m \u001B[0mself\u001B[0m\u001B[0;34m)\u001B[0m\u001B[0;34m.\u001B[0m\u001B[0m__iter__\u001B[0m\u001B[0;34m(\u001B[0m\u001B[0;34m)\u001B[0m\u001B[0;34m:\u001B[0m\u001B[0;34m\u001B[0m\u001B[0;34m\u001B[0m\u001B[0m\n\u001B[0m\u001B[1;32m    258\u001B[0m                 \u001B[0;31m# return super(tqdm...) will not catch exception\u001B[0m\u001B[0;34m\u001B[0m\u001B[0;34m\u001B[0m\u001B[0;34m\u001B[0m\u001B[0m\n\u001B[1;32m    259\u001B[0m                 \u001B[0;32myield\u001B[0m \u001B[0mobj\u001B[0m\u001B[0;34m\u001B[0m\u001B[0;34m\u001B[0m\u001B[0m\n",
      "\u001B[0;32m/usr/local/lib/python3.7/dist-packages/tqdm/std.py\u001B[0m in \u001B[0;36m__iter__\u001B[0;34m(self)\u001B[0m\n\u001B[1;32m   1178\u001B[0m \u001B[0;34m\u001B[0m\u001B[0m\n\u001B[1;32m   1179\u001B[0m         \u001B[0;32mtry\u001B[0m\u001B[0;34m:\u001B[0m\u001B[0;34m\u001B[0m\u001B[0;34m\u001B[0m\u001B[0m\n\u001B[0;32m-> 1180\u001B[0;31m             \u001B[0;32mfor\u001B[0m \u001B[0mobj\u001B[0m \u001B[0;32min\u001B[0m \u001B[0miterable\u001B[0m\u001B[0;34m:\u001B[0m\u001B[0;34m\u001B[0m\u001B[0;34m\u001B[0m\u001B[0m\n\u001B[0m\u001B[1;32m   1181\u001B[0m                 \u001B[0;32myield\u001B[0m \u001B[0mobj\u001B[0m\u001B[0;34m\u001B[0m\u001B[0;34m\u001B[0m\u001B[0m\n\u001B[1;32m   1182\u001B[0m                 \u001B[0;31m# Update and possibly print the progressbar.\u001B[0m\u001B[0;34m\u001B[0m\u001B[0;34m\u001B[0m\u001B[0;34m\u001B[0m\u001B[0m\n",
      "\u001B[0;32m/usr/lib/python3.7/multiprocessing/pool.py\u001B[0m in \u001B[0;36mnext\u001B[0;34m(self, timeout)\u001B[0m\n\u001B[1;32m    735\u001B[0m                 \u001B[0;32mif\u001B[0m \u001B[0mself\u001B[0m\u001B[0;34m.\u001B[0m\u001B[0m_index\u001B[0m \u001B[0;34m==\u001B[0m \u001B[0mself\u001B[0m\u001B[0;34m.\u001B[0m\u001B[0m_length\u001B[0m\u001B[0;34m:\u001B[0m\u001B[0;34m\u001B[0m\u001B[0;34m\u001B[0m\u001B[0m\n\u001B[1;32m    736\u001B[0m                     \u001B[0;32mraise\u001B[0m \u001B[0mStopIteration\u001B[0m \u001B[0;32mfrom\u001B[0m \u001B[0;32mNone\u001B[0m\u001B[0;34m\u001B[0m\u001B[0;34m\u001B[0m\u001B[0m\n\u001B[0;32m--> 737\u001B[0;31m                 \u001B[0mself\u001B[0m\u001B[0;34m.\u001B[0m\u001B[0m_cond\u001B[0m\u001B[0;34m.\u001B[0m\u001B[0mwait\u001B[0m\u001B[0;34m(\u001B[0m\u001B[0mtimeout\u001B[0m\u001B[0;34m)\u001B[0m\u001B[0;34m\u001B[0m\u001B[0;34m\u001B[0m\u001B[0m\n\u001B[0m\u001B[1;32m    738\u001B[0m                 \u001B[0;32mtry\u001B[0m\u001B[0;34m:\u001B[0m\u001B[0;34m\u001B[0m\u001B[0;34m\u001B[0m\u001B[0m\n\u001B[1;32m    739\u001B[0m                     \u001B[0mitem\u001B[0m \u001B[0;34m=\u001B[0m \u001B[0mself\u001B[0m\u001B[0;34m.\u001B[0m\u001B[0m_items\u001B[0m\u001B[0;34m.\u001B[0m\u001B[0mpopleft\u001B[0m\u001B[0;34m(\u001B[0m\u001B[0;34m)\u001B[0m\u001B[0;34m\u001B[0m\u001B[0;34m\u001B[0m\u001B[0m\n",
      "\u001B[0;32m/usr/lib/python3.7/threading.py\u001B[0m in \u001B[0;36mwait\u001B[0;34m(self, timeout)\u001B[0m\n\u001B[1;32m    294\u001B[0m         \u001B[0;32mtry\u001B[0m\u001B[0;34m:\u001B[0m    \u001B[0;31m# restore state no matter what (e.g., KeyboardInterrupt)\u001B[0m\u001B[0;34m\u001B[0m\u001B[0;34m\u001B[0m\u001B[0m\n\u001B[1;32m    295\u001B[0m             \u001B[0;32mif\u001B[0m \u001B[0mtimeout\u001B[0m \u001B[0;32mis\u001B[0m \u001B[0;32mNone\u001B[0m\u001B[0;34m:\u001B[0m\u001B[0;34m\u001B[0m\u001B[0;34m\u001B[0m\u001B[0m\n\u001B[0;32m--> 296\u001B[0;31m                 \u001B[0mwaiter\u001B[0m\u001B[0;34m.\u001B[0m\u001B[0macquire\u001B[0m\u001B[0;34m(\u001B[0m\u001B[0;34m)\u001B[0m\u001B[0;34m\u001B[0m\u001B[0;34m\u001B[0m\u001B[0m\n\u001B[0m\u001B[1;32m    297\u001B[0m                 \u001B[0mgotit\u001B[0m \u001B[0;34m=\u001B[0m \u001B[0;32mTrue\u001B[0m\u001B[0;34m\u001B[0m\u001B[0;34m\u001B[0m\u001B[0m\n\u001B[1;32m    298\u001B[0m             \u001B[0;32melse\u001B[0m\u001B[0;34m:\u001B[0m\u001B[0;34m\u001B[0m\u001B[0;34m\u001B[0m\u001B[0m\n",
      "\u001B[0;31mKeyboardInterrupt\u001B[0m: "
     ]
    }
   ],
   "source": [
    "model.train_model(train_df)\n",
    "result, model_outputs, wrong_predictions = model.eval_model(eval_df)"
   ]
  },
  {
   "cell_type": "markdown",
   "metadata": {
    "collapsed": false,
    "id": "csfoGI7odpJi"
   },
   "source": [
    "# Model Metrics and Model Performance"
   ]
  },
  {
   "cell_type": "markdown",
   "metadata": {
    "collapsed": false,
    "id": "yZ73nlBZdpJi"
   },
   "source": [
    "SciKit is used to validate the model and test how the model performs when trained with this dataset. Anything above 90% is enough for the model to be considered useful and accurate."
   ]
  },
  {
   "cell_type": "code",
   "execution_count": null,
   "metadata": {
    "id": "RcRV2dNydpJi"
   },
   "outputs": [],
   "source": [
    "print(result)\n",
    "print(model_outputs)\n",
    "\n",
    "lst = []\n",
    "for arr in model_outputs:\n",
    "    lst.append(np.argmax(arr))\n",
    "\n",
    "true = eval_df['label'].tolist()\n",
    "predicted = lst"
   ]
  },
  {
   "cell_type": "markdown",
   "source": [
    "Create a visualization of the data processed in the network and the values of each class. The numbers visualized here should be correponding to the values of the check validation function earlier."
   ],
   "metadata": {
    "collapsed": false
   }
  },
  {
   "cell_type": "code",
   "execution_count": null,
   "metadata": {
    "id": "EH_Gx7RJdpJi"
   },
   "outputs": [],
   "source": [
    "import sklearn\n",
    "mat = sklearn.metrics.confusion_matrix(true , predicted)\n",
    "print(mat)\n",
    "\n",
    "df_cm = pd.DataFrame(mat, range(3), range(3))\n",
    "\n",
    "sns.heatmap(df_cm, annot=True)\n",
    "plt.show()\n",
    "print('Model Accuracy: ', 100*sklearn.metrics.accuracy_score(true,predicted), '%')\n",
    "\n",
    "sklearn.metrics.classification_report(true,predicted,target_names=['positive','neutral','negative'])\n",
    "print('Model Accuracy: ', 100*sklearn.metrics.accuracy_score(true,predicted), '%')"
   ]
  },
  {
   "cell_type": "markdown",
   "source": [],
   "metadata": {
    "id": "jQocLO9_XbOI"
   }
  },
  {
   "cell_type": "markdown",
   "source": [
    "Here the model training classifications and performance is visualized with matplotlib."
   ],
   "metadata": {
    "id": "VjSEHtkDXf9H"
   }
  },
  {
   "cell_type": "code",
   "source": [
    "sns.countplot(df.sentiment)\n",
    "\n",
    "df['label'].value_counts()"
   ],
   "metadata": {
    "id": "zB_ZF4eQXmWy"
   },
   "execution_count": null,
   "outputs": []
  },
  {
   "cell_type": "markdown",
   "metadata": {
    "collapsed": false,
    "id": "esxYZ3-2dpJi"
   },
   "source": [
    "# Live Demo and Model Testing\n",
    "This function allows for the model to be evaluated with manually prompted data, a user interface for evaluating the model with real time and human generated queries."
   ]
  },
  {
   "cell_type": "code",
   "execution_count": null,
   "metadata": {
    "id": "PHO1oV9ldpJi"
   },
   "outputs": [],
   "source": [
    "def get_result(statement):\n",
    "    result = model.predict([statement])\n",
    "    pos = np.where(result[1][0] == np.amax(result[1][0]))\n",
    "    pos = int(pos[0])\n",
    "    sentiment_dict = {0:'positive',1:'negative',2:'neutral'}\n",
    "    print(sentiment_dict[pos])\n",
    "    return\n",
    "\n",
    "sentiment = get_result(input(\"Input a phrase for Validation: \"))\n",
    "print(\"The input data was classified as:\", sentiment)"
   ]
  }
 ],
 "metadata": {
  "accelerator": "GPU",
  "colab": {
   "name": "BertDRFConditionSegmentation.ipynb",
   "provenance": []
  },
  "kernelspec": {
   "display_name": "Python 3",
   "language": "python",
   "name": "python3"
  },
  "language_info": {
   "codemirror_mode": {
    "name": "ipython",
    "version": 2
   },
   "file_extension": ".py",
   "mimetype": "text/x-python",
   "name": "python",
   "nbconvert_exporter": "python",
   "pygments_lexer": "ipython2",
   "version": "2.7.6"
  },
  "widgets": {
   "application/vnd.jupyter.widget-state+json": {
    "8fa0b6f6a1a942afb23951a8e01c1341": {
     "model_module": "@jupyter-widgets/controls",
     "model_name": "HBoxModel",
     "model_module_version": "1.5.0",
     "state": {
      "_view_name": "HBoxView",
      "_dom_classes": [],
      "_model_name": "HBoxModel",
      "_view_module": "@jupyter-widgets/controls",
      "_model_module_version": "1.5.0",
      "_view_count": null,
      "_view_module_version": "1.5.0",
      "box_style": "",
      "layout": "IPY_MODEL_4eb862316c15427cad25c7190867fa4f",
      "_model_module": "@jupyter-widgets/controls",
      "children": [
       "IPY_MODEL_16730c44ad28430a9175c9661e1a3f72",
       "IPY_MODEL_da1c90a4042c4a3fbd3f096d78d2e6d6",
       "IPY_MODEL_78c578efcaf74d7eac5ef2500b0003c0"
      ]
     }
    },
    "4eb862316c15427cad25c7190867fa4f": {
     "model_module": "@jupyter-widgets/base",
     "model_name": "LayoutModel",
     "model_module_version": "1.2.0",
     "state": {
      "_view_name": "LayoutView",
      "grid_template_rows": null,
      "right": null,
      "justify_content": null,
      "_view_module": "@jupyter-widgets/base",
      "overflow": null,
      "_model_module_version": "1.2.0",
      "_view_count": null,
      "flex_flow": null,
      "width": null,
      "min_width": null,
      "border": null,
      "align_items": null,
      "bottom": null,
      "_model_module": "@jupyter-widgets/base",
      "top": null,
      "grid_column": null,
      "overflow_y": null,
      "overflow_x": null,
      "grid_auto_flow": null,
      "grid_area": null,
      "grid_template_columns": null,
      "flex": null,
      "_model_name": "LayoutModel",
      "justify_items": null,
      "grid_row": null,
      "max_height": null,
      "align_content": null,
      "visibility": null,
      "align_self": null,
      "height": null,
      "min_height": null,
      "padding": null,
      "grid_auto_rows": null,
      "grid_gap": null,
      "max_width": null,
      "order": null,
      "_view_module_version": "1.2.0",
      "grid_template_areas": null,
      "object_position": null,
      "object_fit": null,
      "grid_auto_columns": null,
      "margin": null,
      "display": null,
      "left": null
     }
    },
    "16730c44ad28430a9175c9661e1a3f72": {
     "model_module": "@jupyter-widgets/controls",
     "model_name": "HTMLModel",
     "model_module_version": "1.5.0",
     "state": {
      "_view_name": "HTMLView",
      "style": "IPY_MODEL_c714ab9a1450487ab749ed8bd2b7d12e",
      "_dom_classes": [],
      "description": "",
      "_model_name": "HTMLModel",
      "placeholder": "​",
      "_view_module": "@jupyter-widgets/controls",
      "_model_module_version": "1.5.0",
      "value": "  0%",
      "_view_count": null,
      "_view_module_version": "1.5.0",
      "description_tooltip": null,
      "_model_module": "@jupyter-widgets/controls",
      "layout": "IPY_MODEL_10b089c6c9784799876c25187985895a"
     }
    },
    "da1c90a4042c4a3fbd3f096d78d2e6d6": {
     "model_module": "@jupyter-widgets/controls",
     "model_name": "FloatProgressModel",
     "model_module_version": "1.5.0",
     "state": {
      "_view_name": "ProgressView",
      "style": "IPY_MODEL_d7b52645257241aeaceb299f9cc44788",
      "_dom_classes": [],
      "description": "",
      "_model_name": "FloatProgressModel",
      "bar_style": "danger",
      "max": 27619,
      "_view_module": "@jupyter-widgets/controls",
      "_model_module_version": "1.5.0",
      "value": 11,
      "_view_count": null,
      "_view_module_version": "1.5.0",
      "orientation": "horizontal",
      "min": 0,
      "description_tooltip": null,
      "_model_module": "@jupyter-widgets/controls",
      "layout": "IPY_MODEL_c9b191ace69447acabe46858702c163d"
     }
    },
    "78c578efcaf74d7eac5ef2500b0003c0": {
     "model_module": "@jupyter-widgets/controls",
     "model_name": "HTMLModel",
     "model_module_version": "1.5.0",
     "state": {
      "_view_name": "HTMLView",
      "style": "IPY_MODEL_47b592a41b7d40b881c04da5517ce0a6",
      "_dom_classes": [],
      "description": "",
      "_model_name": "HTMLModel",
      "placeholder": "​",
      "_view_module": "@jupyter-widgets/controls",
      "_model_module_version": "1.5.0",
      "value": " 11/27619 [00:01&lt;42:07, 10.92it/s]",
      "_view_count": null,
      "_view_module_version": "1.5.0",
      "description_tooltip": null,
      "_model_module": "@jupyter-widgets/controls",
      "layout": "IPY_MODEL_c5fae1a4340c47fea8031579814af9f7"
     }
    },
    "c714ab9a1450487ab749ed8bd2b7d12e": {
     "model_module": "@jupyter-widgets/controls",
     "model_name": "DescriptionStyleModel",
     "model_module_version": "1.5.0",
     "state": {
      "_view_name": "StyleView",
      "_model_name": "DescriptionStyleModel",
      "description_width": "",
      "_view_module": "@jupyter-widgets/base",
      "_model_module_version": "1.5.0",
      "_view_count": null,
      "_view_module_version": "1.2.0",
      "_model_module": "@jupyter-widgets/controls"
     }
    },
    "10b089c6c9784799876c25187985895a": {
     "model_module": "@jupyter-widgets/base",
     "model_name": "LayoutModel",
     "model_module_version": "1.2.0",
     "state": {
      "_view_name": "LayoutView",
      "grid_template_rows": null,
      "right": null,
      "justify_content": null,
      "_view_module": "@jupyter-widgets/base",
      "overflow": null,
      "_model_module_version": "1.2.0",
      "_view_count": null,
      "flex_flow": null,
      "width": null,
      "min_width": null,
      "border": null,
      "align_items": null,
      "bottom": null,
      "_model_module": "@jupyter-widgets/base",
      "top": null,
      "grid_column": null,
      "overflow_y": null,
      "overflow_x": null,
      "grid_auto_flow": null,
      "grid_area": null,
      "grid_template_columns": null,
      "flex": null,
      "_model_name": "LayoutModel",
      "justify_items": null,
      "grid_row": null,
      "max_height": null,
      "align_content": null,
      "visibility": null,
      "align_self": null,
      "height": null,
      "min_height": null,
      "padding": null,
      "grid_auto_rows": null,
      "grid_gap": null,
      "max_width": null,
      "order": null,
      "_view_module_version": "1.2.0",
      "grid_template_areas": null,
      "object_position": null,
      "object_fit": null,
      "grid_auto_columns": null,
      "margin": null,
      "display": null,
      "left": null
     }
    },
    "d7b52645257241aeaceb299f9cc44788": {
     "model_module": "@jupyter-widgets/controls",
     "model_name": "ProgressStyleModel",
     "model_module_version": "1.5.0",
     "state": {
      "_view_name": "StyleView",
      "_model_name": "ProgressStyleModel",
      "description_width": "",
      "_view_module": "@jupyter-widgets/base",
      "_model_module_version": "1.5.0",
      "_view_count": null,
      "_view_module_version": "1.2.0",
      "bar_color": null,
      "_model_module": "@jupyter-widgets/controls"
     }
    },
    "c9b191ace69447acabe46858702c163d": {
     "model_module": "@jupyter-widgets/base",
     "model_name": "LayoutModel",
     "model_module_version": "1.2.0",
     "state": {
      "_view_name": "LayoutView",
      "grid_template_rows": null,
      "right": null,
      "justify_content": null,
      "_view_module": "@jupyter-widgets/base",
      "overflow": null,
      "_model_module_version": "1.2.0",
      "_view_count": null,
      "flex_flow": null,
      "width": null,
      "min_width": null,
      "border": null,
      "align_items": null,
      "bottom": null,
      "_model_module": "@jupyter-widgets/base",
      "top": null,
      "grid_column": null,
      "overflow_y": null,
      "overflow_x": null,
      "grid_auto_flow": null,
      "grid_area": null,
      "grid_template_columns": null,
      "flex": null,
      "_model_name": "LayoutModel",
      "justify_items": null,
      "grid_row": null,
      "max_height": null,
      "align_content": null,
      "visibility": null,
      "align_self": null,
      "height": null,
      "min_height": null,
      "padding": null,
      "grid_auto_rows": null,
      "grid_gap": null,
      "max_width": null,
      "order": null,
      "_view_module_version": "1.2.0",
      "grid_template_areas": null,
      "object_position": null,
      "object_fit": null,
      "grid_auto_columns": null,
      "margin": null,
      "display": null,
      "left": null
     }
    },
    "47b592a41b7d40b881c04da5517ce0a6": {
     "model_module": "@jupyter-widgets/controls",
     "model_name": "DescriptionStyleModel",
     "model_module_version": "1.5.0",
     "state": {
      "_view_name": "StyleView",
      "_model_name": "DescriptionStyleModel",
      "description_width": "",
      "_view_module": "@jupyter-widgets/base",
      "_model_module_version": "1.5.0",
      "_view_count": null,
      "_view_module_version": "1.2.0",
      "_model_module": "@jupyter-widgets/controls"
     }
    },
    "c5fae1a4340c47fea8031579814af9f7": {
     "model_module": "@jupyter-widgets/base",
     "model_name": "LayoutModel",
     "model_module_version": "1.2.0",
     "state": {
      "_view_name": "LayoutView",
      "grid_template_rows": null,
      "right": null,
      "justify_content": null,
      "_view_module": "@jupyter-widgets/base",
      "overflow": null,
      "_model_module_version": "1.2.0",
      "_view_count": null,
      "flex_flow": null,
      "width": null,
      "min_width": null,
      "border": null,
      "align_items": null,
      "bottom": null,
      "_model_module": "@jupyter-widgets/base",
      "top": null,
      "grid_column": null,
      "overflow_y": null,
      "overflow_x": null,
      "grid_auto_flow": null,
      "grid_area": null,
      "grid_template_columns": null,
      "flex": null,
      "_model_name": "LayoutModel",
      "justify_items": null,
      "grid_row": null,
      "max_height": null,
      "align_content": null,
      "visibility": null,
      "align_self": null,
      "height": null,
      "min_height": null,
      "padding": null,
      "grid_auto_rows": null,
      "grid_gap": null,
      "max_width": null,
      "order": null,
      "_view_module_version": "1.2.0",
      "grid_template_areas": null,
      "object_position": null,
      "object_fit": null,
      "grid_auto_columns": null,
      "margin": null,
      "display": null,
      "left": null
     }
    }
   }
  }
 },
 "nbformat": 4,
 "nbformat_minor": 0
}